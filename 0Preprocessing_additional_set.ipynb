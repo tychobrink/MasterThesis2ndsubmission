{
 "cells": [
  {
   "cell_type": "code",
   "execution_count": 1,
   "metadata": {},
   "outputs": [],
   "source": [
    "import numpy as np\n",
    "import pandas as pd\n",
    "from geopy.distance import geodesic\n",
    "import pandas as pd\n",
    "import json\n",
    "from collections import Counter\n",
    "from sklearn.preprocessing import LabelEncoder\n",
    "import matplotlib.pyplot as plt\n",
    "import seaborn as sns\n",
    "\n",
    "# Set display options\n",
    "pd.set_option('display.max_columns', None)  # Show all columns\n",
    "pd.set_option('display.max_colwidth', None)  # Show full width of column content\n",
    "pd.set_option('display.max_rows', None)  # Show all rows"
   ]
  },
  {
   "cell_type": "markdown",
   "metadata": {},
   "source": [
    "In this notebook we do the same pre-processing for the listings in Shanghai and Madrid, at the end we compare both sets."
   ]
  },
  {
   "cell_type": "code",
   "execution_count": 2,
   "metadata": {},
   "outputs": [],
   "source": [
    "#Read the listings from csv files\n",
    "listings_singapore=pd.read_csv('listings_singapore.csv.gz')\n",
    "listings_madrid=pd.read_csv('listings_madrid.csv.gz')\n",
    "# Adding 'city' column to each dataframe\n",
    "listings_singapore['city']='Singapore'\n",
    "listings_madrid['city']='Madrid'\n",
    "\n",
    "\n"
   ]
  },
  {
   "cell_type": "code",
   "execution_count": 3,
   "metadata": {},
   "outputs": [],
   "source": [
    "listings_combined=pd.concat([listings_singapore,listings_madrid],axis=0)"
   ]
  },
  {
   "cell_type": "code",
   "execution_count": 4,
   "metadata": {},
   "outputs": [
    {
     "data": {
      "text/plain": [
       "(30520, 76)"
      ]
     },
     "execution_count": 4,
     "metadata": {},
     "output_type": "execute_result"
    }
   ],
   "source": [
    "listings_combined.shape"
   ]
  },
  {
   "cell_type": "markdown",
   "metadata": {},
   "source": [
    "Check for duplicates"
   ]
  },
  {
   "cell_type": "code",
   "execution_count": 5,
   "metadata": {},
   "outputs": [
    {
     "data": {
      "text/plain": [
       "np.int64(0)"
      ]
     },
     "execution_count": 5,
     "metadata": {},
     "output_type": "execute_result"
    }
   ],
   "source": [
    "#Show duplicates\n",
    "listings_combined.duplicated().sum()"
   ]
  },
  {
   "cell_type": "markdown",
   "metadata": {},
   "source": [
    "Originally we have a total amount of 30520 listings, in the next section we are going to check which columns contain missing values."
   ]
  },
  {
   "cell_type": "code",
   "execution_count": 6,
   "metadata": {},
   "outputs": [
    {
     "name": "stdout",
     "output_type": "stream",
     "text": [
      "description                     1295\n",
      "neighborhood_overview          15652\n",
      "picture_url                        1\n",
      "host_name                          3\n",
      "host_since                         3\n",
      "host_location                   9497\n",
      "host_about                     14969\n",
      "host_response_time              6139\n",
      "host_response_rate              6139\n",
      "host_acceptance_rate            5159\n",
      "host_is_superhost               1009\n",
      "host_thumbnail_url                 3\n",
      "host_picture_url                   3\n",
      "host_neighbourhood             17776\n",
      "host_listings_count                3\n",
      "host_total_listings_count          3\n",
      "host_verifications                 3\n",
      "host_has_profile_pic               3\n",
      "host_identity_verified             3\n",
      "neighbourhood                  15652\n",
      "bathrooms                       6720\n",
      "bathrooms_text                    55\n",
      "bedrooms                        2800\n",
      "beds                            6779\n",
      "price                           6693\n",
      "calendar_updated               30520\n",
      "has_availability                1820\n",
      "first_review                    7432\n",
      "last_review                     7432\n",
      "review_scores_rating            7432\n",
      "review_scores_accuracy          7434\n",
      "review_scores_cleanliness       7435\n",
      "review_scores_checkin           7435\n",
      "review_scores_communication     7434\n",
      "review_scores_location          7437\n",
      "review_scores_value             7438\n",
      "license                        26389\n",
      "reviews_per_month               7432\n",
      "dtype: int64\n"
     ]
    }
   ],
   "source": [
    "missing_values = listings_combined.isnull().sum()\n",
    "missing_values = missing_values[missing_values > 0]  # Filter only columns with missing values\n",
    "print(missing_values)"
   ]
  },
  {
   "cell_type": "code",
   "execution_count": 7,
   "metadata": {},
   "outputs": [],
   "source": [
    "#show the fields where first_review is missing, but price is not missing\n",
    "listings_without_reviews= listings_combined[(listings_combined['first_review'].isnull()) & (listings_combined['price'].notnull())]\n"
   ]
  },
  {
   "cell_type": "code",
   "execution_count": 8,
   "metadata": {},
   "outputs": [],
   "source": [
    "listings_combined_basis = listings_combined.dropna(subset=['id', 'price','first_review'])"
   ]
  },
  {
   "cell_type": "code",
   "execution_count": 9,
   "metadata": {},
   "outputs": [
    {
     "data": {
      "text/plain": [
       "(18919, 76)"
      ]
     },
     "execution_count": 9,
     "metadata": {},
     "output_type": "execute_result"
    }
   ],
   "source": [
    "listings_combined_basis.shape"
   ]
  },
  {
   "cell_type": "markdown",
   "metadata": {},
   "source": [
    "After deleting the rows which does not contain price or first review, we keep 18.919 listings."
   ]
  },
  {
   "cell_type": "code",
   "execution_count": 10,
   "metadata": {},
   "outputs": [
    {
     "name": "stdout",
     "output_type": "stream",
     "text": [
      "description                      582\n",
      "neighborhood_overview           8480\n",
      "host_location                   5596\n",
      "host_about                      8915\n",
      "host_response_time              1075\n",
      "host_response_rate              1075\n",
      "host_acceptance_rate             553\n",
      "host_is_superhost                822\n",
      "host_neighbourhood             11514\n",
      "neighbourhood                   8480\n",
      "bathrooms                         16\n",
      "bathrooms_text                    30\n",
      "bedrooms                           9\n",
      "beds                              36\n",
      "calendar_updated               18919\n",
      "has_availability                   8\n",
      "review_scores_accuracy             2\n",
      "review_scores_cleanliness          3\n",
      "review_scores_checkin              3\n",
      "review_scores_communication        2\n",
      "review_scores_location             2\n",
      "review_scores_value                2\n",
      "license                        16001\n",
      "dtype: int64\n"
     ]
    }
   ],
   "source": [
    "missing_values2 = listings_combined_basis.isnull().sum()\n",
    "missing_values2 = missing_values2[missing_values2 > 0]  # Filter only columns with missing values\n",
    "print(missing_values2)"
   ]
  },
  {
   "cell_type": "code",
   "execution_count": 11,
   "metadata": {},
   "outputs": [
    {
     "data": {
      "text/plain": [
       "(18919, 76)"
      ]
     },
     "execution_count": 11,
     "metadata": {},
     "output_type": "execute_result"
    }
   ],
   "source": [
    "listings_combined_basis.shape"
   ]
  },
  {
   "cell_type": "code",
   "execution_count": 12,
   "metadata": {},
   "outputs": [
    {
     "data": {
      "text/plain": [
       "id                                                int64\n",
       "listing_url                                      object\n",
       "scrape_id                                         int64\n",
       "last_scraped                                     object\n",
       "source                                           object\n",
       "name                                             object\n",
       "description                                      object\n",
       "neighborhood_overview                            object\n",
       "picture_url                                      object\n",
       "host_id                                           int64\n",
       "host_url                                         object\n",
       "host_name                                        object\n",
       "host_since                                       object\n",
       "host_location                                    object\n",
       "host_about                                       object\n",
       "host_response_time                               object\n",
       "host_response_rate                               object\n",
       "host_acceptance_rate                             object\n",
       "host_is_superhost                                object\n",
       "host_thumbnail_url                               object\n",
       "host_picture_url                                 object\n",
       "host_neighbourhood                               object\n",
       "host_listings_count                             float64\n",
       "host_total_listings_count                       float64\n",
       "host_verifications                               object\n",
       "host_has_profile_pic                             object\n",
       "host_identity_verified                           object\n",
       "neighbourhood                                    object\n",
       "neighbourhood_cleansed                           object\n",
       "neighbourhood_group_cleansed                     object\n",
       "latitude                                        float64\n",
       "longitude                                       float64\n",
       "property_type                                    object\n",
       "room_type                                        object\n",
       "accommodates                                      int64\n",
       "bathrooms                                       float64\n",
       "bathrooms_text                                   object\n",
       "bedrooms                                        float64\n",
       "beds                                            float64\n",
       "amenities                                        object\n",
       "price                                            object\n",
       "minimum_nights                                    int64\n",
       "maximum_nights                                    int64\n",
       "minimum_minimum_nights                            int64\n",
       "maximum_minimum_nights                            int64\n",
       "minimum_maximum_nights                            int64\n",
       "maximum_maximum_nights                            int64\n",
       "minimum_nights_avg_ntm                          float64\n",
       "maximum_nights_avg_ntm                          float64\n",
       "calendar_updated                                float64\n",
       "has_availability                                 object\n",
       "availability_30                                   int64\n",
       "availability_60                                   int64\n",
       "availability_90                                   int64\n",
       "availability_365                                  int64\n",
       "calendar_last_scraped                            object\n",
       "number_of_reviews                                 int64\n",
       "number_of_reviews_ltm                             int64\n",
       "number_of_reviews_l30d                            int64\n",
       "first_review                                     object\n",
       "last_review                                      object\n",
       "review_scores_rating                            float64\n",
       "review_scores_accuracy                          float64\n",
       "review_scores_cleanliness                       float64\n",
       "review_scores_checkin                           float64\n",
       "review_scores_communication                     float64\n",
       "review_scores_location                          float64\n",
       "review_scores_value                             float64\n",
       "license                                          object\n",
       "instant_bookable                                 object\n",
       "calculated_host_listings_count                    int64\n",
       "calculated_host_listings_count_entire_homes       int64\n",
       "calculated_host_listings_count_private_rooms      int64\n",
       "calculated_host_listings_count_shared_rooms       int64\n",
       "reviews_per_month                               float64\n",
       "city                                             object\n",
       "dtype: object"
      ]
     },
     "execution_count": 12,
     "metadata": {},
     "output_type": "execute_result"
    }
   ],
   "source": [
    "listings_combined_basis.dtypes"
   ]
  },
  {
   "cell_type": "code",
   "execution_count": 12,
   "metadata": {},
   "outputs": [],
   "source": [
    "# Calculate distance to the city center for each listing\n",
    "def calculate_distance(row):\n",
    "    return geodesic((row['latitude'], row['longitude']), (row['mean_latitude'], row['mean_longitude'])).km"
   ]
  },
  {
   "cell_type": "code",
   "execution_count": 13,
   "metadata": {},
   "outputs": [],
   "source": [
    "#We change common amenites below, with the amenities derived from the general preprocessing, otherwise the test set will not have the same columns"
   ]
  },
  {
   "cell_type": "code",
   "execution_count": 14,
   "metadata": {},
   "outputs": [],
   "source": [
    "from sklearn.preprocessing import OrdinalEncoder"
   ]
  },
  {
   "cell_type": "code",
   "execution_count": 15,
   "metadata": {},
   "outputs": [
    {
     "name": "stderr",
     "output_type": "stream",
     "text": [
      "<>:105: SyntaxWarning: invalid escape sequence '\\$'\n",
      "<>:105: SyntaxWarning: invalid escape sequence '\\$'\n",
      "C:\\Users\\PC\\AppData\\Local\\Temp\\ipykernel_14736\\1175942365.py:105: SyntaxWarning: invalid escape sequence '\\$'\n",
      "  listings_combined3['price'] = listings_combined3['price'].replace('[\\$,]', '', regex=True).astype(float)\n",
      "C:\\Users\\PC\\AppData\\Local\\Temp\\ipykernel_14736\\1175942365.py:18: SettingWithCopyWarning: \n",
      "A value is trying to be set on a copy of a slice from a DataFrame.\n",
      "Try using .loc[row_indexer,col_indexer] = value instead\n",
      "\n",
      "See the caveats in the documentation: https://pandas.pydata.org/pandas-docs/stable/user_guide/indexing.html#returning-a-view-versus-a-copy\n",
      "  listings_combined3['last_scraped'] = pd.to_datetime(listings_combined3['last_scraped'])\n",
      "C:\\Users\\PC\\AppData\\Local\\Temp\\ipykernel_14736\\1175942365.py:19: SettingWithCopyWarning: \n",
      "A value is trying to be set on a copy of a slice from a DataFrame.\n",
      "Try using .loc[row_indexer,col_indexer] = value instead\n",
      "\n",
      "See the caveats in the documentation: https://pandas.pydata.org/pandas-docs/stable/user_guide/indexing.html#returning-a-view-versus-a-copy\n",
      "  listings_combined3['host_since'] = pd.to_datetime(listings_combined3['host_since'])\n",
      "C:\\Users\\PC\\AppData\\Local\\Temp\\ipykernel_14736\\1175942365.py:20: SettingWithCopyWarning: \n",
      "A value is trying to be set on a copy of a slice from a DataFrame.\n",
      "Try using .loc[row_indexer,col_indexer] = value instead\n",
      "\n",
      "See the caveats in the documentation: https://pandas.pydata.org/pandas-docs/stable/user_guide/indexing.html#returning-a-view-versus-a-copy\n",
      "  listings_combined3['host_duration'] = (listings_combined3['last_scraped'] - listings_combined3['host_since']).dt.days\n",
      "C:\\Users\\PC\\AppData\\Local\\Temp\\ipykernel_14736\\1175942365.py:25: SettingWithCopyWarning: \n",
      "A value is trying to be set on a copy of a slice from a DataFrame.\n",
      "Try using .loc[row_indexer,col_indexer] = value instead\n",
      "\n",
      "See the caveats in the documentation: https://pandas.pydata.org/pandas-docs/stable/user_guide/indexing.html#returning-a-view-versus-a-copy\n",
      "  listings_combined3[col] = listings_combined3[col].notna().astype(int)\n",
      "C:\\Users\\PC\\AppData\\Local\\Temp\\ipykernel_14736\\1175942365.py:25: SettingWithCopyWarning: \n",
      "A value is trying to be set on a copy of a slice from a DataFrame.\n",
      "Try using .loc[row_indexer,col_indexer] = value instead\n",
      "\n",
      "See the caveats in the documentation: https://pandas.pydata.org/pandas-docs/stable/user_guide/indexing.html#returning-a-view-versus-a-copy\n",
      "  listings_combined3[col] = listings_combined3[col].notna().astype(int)\n",
      "C:\\Users\\PC\\AppData\\Local\\Temp\\ipykernel_14736\\1175942365.py:25: SettingWithCopyWarning: \n",
      "A value is trying to be set on a copy of a slice from a DataFrame.\n",
      "Try using .loc[row_indexer,col_indexer] = value instead\n",
      "\n",
      "See the caveats in the documentation: https://pandas.pydata.org/pandas-docs/stable/user_guide/indexing.html#returning-a-view-versus-a-copy\n",
      "  listings_combined3[col] = listings_combined3[col].notna().astype(int)\n",
      "C:\\Users\\PC\\AppData\\Local\\Temp\\ipykernel_14736\\1175942365.py:30: SettingWithCopyWarning: \n",
      "A value is trying to be set on a copy of a slice from a DataFrame.\n",
      "Try using .loc[row_indexer,col_indexer] = value instead\n",
      "\n",
      "See the caveats in the documentation: https://pandas.pydata.org/pandas-docs/stable/user_guide/indexing.html#returning-a-view-versus-a-copy\n",
      "  listings_combined3[col] = listings_combined3[col].map({'f': 0, 't': 1}).fillna(0).astype(int)\n",
      "C:\\Users\\PC\\AppData\\Local\\Temp\\ipykernel_14736\\1175942365.py:30: SettingWithCopyWarning: \n",
      "A value is trying to be set on a copy of a slice from a DataFrame.\n",
      "Try using .loc[row_indexer,col_indexer] = value instead\n",
      "\n",
      "See the caveats in the documentation: https://pandas.pydata.org/pandas-docs/stable/user_guide/indexing.html#returning-a-view-versus-a-copy\n",
      "  listings_combined3[col] = listings_combined3[col].map({'f': 0, 't': 1}).fillna(0).astype(int)\n",
      "C:\\Users\\PC\\AppData\\Local\\Temp\\ipykernel_14736\\1175942365.py:30: SettingWithCopyWarning: \n",
      "A value is trying to be set on a copy of a slice from a DataFrame.\n",
      "Try using .loc[row_indexer,col_indexer] = value instead\n",
      "\n",
      "See the caveats in the documentation: https://pandas.pydata.org/pandas-docs/stable/user_guide/indexing.html#returning-a-view-versus-a-copy\n",
      "  listings_combined3[col] = listings_combined3[col].map({'f': 0, 't': 1}).fillna(0).astype(int)\n",
      "C:\\Users\\PC\\AppData\\Local\\Temp\\ipykernel_14736\\1175942365.py:30: SettingWithCopyWarning: \n",
      "A value is trying to be set on a copy of a slice from a DataFrame.\n",
      "Try using .loc[row_indexer,col_indexer] = value instead\n",
      "\n",
      "See the caveats in the documentation: https://pandas.pydata.org/pandas-docs/stable/user_guide/indexing.html#returning-a-view-versus-a-copy\n",
      "  listings_combined3[col] = listings_combined3[col].map({'f': 0, 't': 1}).fillna(0).astype(int)\n",
      "C:\\Users\\PC\\AppData\\Local\\Temp\\ipykernel_14736\\1175942365.py:33: SettingWithCopyWarning: \n",
      "A value is trying to be set on a copy of a slice from a DataFrame.\n",
      "Try using .loc[row_indexer,col_indexer] = value instead\n",
      "\n",
      "See the caveats in the documentation: https://pandas.pydata.org/pandas-docs/stable/user_guide/indexing.html#returning-a-view-versus-a-copy\n",
      "  listings_combined3['amenities'] = listings_combined3['amenities'].apply(lambda x: json.loads(x))\n",
      "C:\\Users\\PC\\AppData\\Local\\Temp\\ipykernel_14736\\1175942365.py:61: SettingWithCopyWarning: \n",
      "A value is trying to be set on a copy of a slice from a DataFrame.\n",
      "Try using .loc[row_indexer,col_indexer] = value instead\n",
      "\n",
      "See the caveats in the documentation: https://pandas.pydata.org/pandas-docs/stable/user_guide/indexing.html#returning-a-view-versus-a-copy\n",
      "  listings_combined3[amenity] = listings_combined3['amenities'].apply(lambda x: 1 if amenity in x else 0)\n",
      "C:\\Users\\PC\\AppData\\Local\\Temp\\ipykernel_14736\\1175942365.py:61: SettingWithCopyWarning: \n",
      "A value is trying to be set on a copy of a slice from a DataFrame.\n",
      "Try using .loc[row_indexer,col_indexer] = value instead\n",
      "\n",
      "See the caveats in the documentation: https://pandas.pydata.org/pandas-docs/stable/user_guide/indexing.html#returning-a-view-versus-a-copy\n",
      "  listings_combined3[amenity] = listings_combined3['amenities'].apply(lambda x: 1 if amenity in x else 0)\n",
      "C:\\Users\\PC\\AppData\\Local\\Temp\\ipykernel_14736\\1175942365.py:61: SettingWithCopyWarning: \n",
      "A value is trying to be set on a copy of a slice from a DataFrame.\n",
      "Try using .loc[row_indexer,col_indexer] = value instead\n",
      "\n",
      "See the caveats in the documentation: https://pandas.pydata.org/pandas-docs/stable/user_guide/indexing.html#returning-a-view-versus-a-copy\n",
      "  listings_combined3[amenity] = listings_combined3['amenities'].apply(lambda x: 1 if amenity in x else 0)\n",
      "C:\\Users\\PC\\AppData\\Local\\Temp\\ipykernel_14736\\1175942365.py:61: SettingWithCopyWarning: \n",
      "A value is trying to be set on a copy of a slice from a DataFrame.\n",
      "Try using .loc[row_indexer,col_indexer] = value instead\n",
      "\n",
      "See the caveats in the documentation: https://pandas.pydata.org/pandas-docs/stable/user_guide/indexing.html#returning-a-view-versus-a-copy\n",
      "  listings_combined3[amenity] = listings_combined3['amenities'].apply(lambda x: 1 if amenity in x else 0)\n",
      "C:\\Users\\PC\\AppData\\Local\\Temp\\ipykernel_14736\\1175942365.py:61: SettingWithCopyWarning: \n",
      "A value is trying to be set on a copy of a slice from a DataFrame.\n",
      "Try using .loc[row_indexer,col_indexer] = value instead\n",
      "\n",
      "See the caveats in the documentation: https://pandas.pydata.org/pandas-docs/stable/user_guide/indexing.html#returning-a-view-versus-a-copy\n",
      "  listings_combined3[amenity] = listings_combined3['amenities'].apply(lambda x: 1 if amenity in x else 0)\n",
      "C:\\Users\\PC\\AppData\\Local\\Temp\\ipykernel_14736\\1175942365.py:61: SettingWithCopyWarning: \n",
      "A value is trying to be set on a copy of a slice from a DataFrame.\n",
      "Try using .loc[row_indexer,col_indexer] = value instead\n",
      "\n",
      "See the caveats in the documentation: https://pandas.pydata.org/pandas-docs/stable/user_guide/indexing.html#returning-a-view-versus-a-copy\n",
      "  listings_combined3[amenity] = listings_combined3['amenities'].apply(lambda x: 1 if amenity in x else 0)\n",
      "C:\\Users\\PC\\AppData\\Local\\Temp\\ipykernel_14736\\1175942365.py:61: SettingWithCopyWarning: \n",
      "A value is trying to be set on a copy of a slice from a DataFrame.\n",
      "Try using .loc[row_indexer,col_indexer] = value instead\n",
      "\n",
      "See the caveats in the documentation: https://pandas.pydata.org/pandas-docs/stable/user_guide/indexing.html#returning-a-view-versus-a-copy\n",
      "  listings_combined3[amenity] = listings_combined3['amenities'].apply(lambda x: 1 if amenity in x else 0)\n",
      "C:\\Users\\PC\\AppData\\Local\\Temp\\ipykernel_14736\\1175942365.py:61: SettingWithCopyWarning: \n",
      "A value is trying to be set on a copy of a slice from a DataFrame.\n",
      "Try using .loc[row_indexer,col_indexer] = value instead\n",
      "\n",
      "See the caveats in the documentation: https://pandas.pydata.org/pandas-docs/stable/user_guide/indexing.html#returning-a-view-versus-a-copy\n",
      "  listings_combined3[amenity] = listings_combined3['amenities'].apply(lambda x: 1 if amenity in x else 0)\n",
      "C:\\Users\\PC\\AppData\\Local\\Temp\\ipykernel_14736\\1175942365.py:61: SettingWithCopyWarning: \n",
      "A value is trying to be set on a copy of a slice from a DataFrame.\n",
      "Try using .loc[row_indexer,col_indexer] = value instead\n",
      "\n",
      "See the caveats in the documentation: https://pandas.pydata.org/pandas-docs/stable/user_guide/indexing.html#returning-a-view-versus-a-copy\n",
      "  listings_combined3[amenity] = listings_combined3['amenities'].apply(lambda x: 1 if amenity in x else 0)\n",
      "C:\\Users\\PC\\AppData\\Local\\Temp\\ipykernel_14736\\1175942365.py:61: SettingWithCopyWarning: \n",
      "A value is trying to be set on a copy of a slice from a DataFrame.\n",
      "Try using .loc[row_indexer,col_indexer] = value instead\n",
      "\n",
      "See the caveats in the documentation: https://pandas.pydata.org/pandas-docs/stable/user_guide/indexing.html#returning-a-view-versus-a-copy\n",
      "  listings_combined3[amenity] = listings_combined3['amenities'].apply(lambda x: 1 if amenity in x else 0)\n",
      "C:\\Users\\PC\\AppData\\Local\\Temp\\ipykernel_14736\\1175942365.py:61: SettingWithCopyWarning: \n",
      "A value is trying to be set on a copy of a slice from a DataFrame.\n",
      "Try using .loc[row_indexer,col_indexer] = value instead\n",
      "\n",
      "See the caveats in the documentation: https://pandas.pydata.org/pandas-docs/stable/user_guide/indexing.html#returning-a-view-versus-a-copy\n",
      "  listings_combined3[amenity] = listings_combined3['amenities'].apply(lambda x: 1 if amenity in x else 0)\n",
      "C:\\Users\\PC\\AppData\\Local\\Temp\\ipykernel_14736\\1175942365.py:61: SettingWithCopyWarning: \n",
      "A value is trying to be set on a copy of a slice from a DataFrame.\n",
      "Try using .loc[row_indexer,col_indexer] = value instead\n",
      "\n",
      "See the caveats in the documentation: https://pandas.pydata.org/pandas-docs/stable/user_guide/indexing.html#returning-a-view-versus-a-copy\n",
      "  listings_combined3[amenity] = listings_combined3['amenities'].apply(lambda x: 1 if amenity in x else 0)\n",
      "C:\\Users\\PC\\AppData\\Local\\Temp\\ipykernel_14736\\1175942365.py:61: SettingWithCopyWarning: \n",
      "A value is trying to be set on a copy of a slice from a DataFrame.\n",
      "Try using .loc[row_indexer,col_indexer] = value instead\n",
      "\n",
      "See the caveats in the documentation: https://pandas.pydata.org/pandas-docs/stable/user_guide/indexing.html#returning-a-view-versus-a-copy\n",
      "  listings_combined3[amenity] = listings_combined3['amenities'].apply(lambda x: 1 if amenity in x else 0)\n",
      "C:\\Users\\PC\\AppData\\Local\\Temp\\ipykernel_14736\\1175942365.py:61: SettingWithCopyWarning: \n",
      "A value is trying to be set on a copy of a slice from a DataFrame.\n",
      "Try using .loc[row_indexer,col_indexer] = value instead\n",
      "\n",
      "See the caveats in the documentation: https://pandas.pydata.org/pandas-docs/stable/user_guide/indexing.html#returning-a-view-versus-a-copy\n",
      "  listings_combined3[amenity] = listings_combined3['amenities'].apply(lambda x: 1 if amenity in x else 0)\n",
      "C:\\Users\\PC\\AppData\\Local\\Temp\\ipykernel_14736\\1175942365.py:61: SettingWithCopyWarning: \n",
      "A value is trying to be set on a copy of a slice from a DataFrame.\n",
      "Try using .loc[row_indexer,col_indexer] = value instead\n",
      "\n",
      "See the caveats in the documentation: https://pandas.pydata.org/pandas-docs/stable/user_guide/indexing.html#returning-a-view-versus-a-copy\n",
      "  listings_combined3[amenity] = listings_combined3['amenities'].apply(lambda x: 1 if amenity in x else 0)\n",
      "C:\\Users\\PC\\AppData\\Local\\Temp\\ipykernel_14736\\1175942365.py:61: SettingWithCopyWarning: \n",
      "A value is trying to be set on a copy of a slice from a DataFrame.\n",
      "Try using .loc[row_indexer,col_indexer] = value instead\n",
      "\n",
      "See the caveats in the documentation: https://pandas.pydata.org/pandas-docs/stable/user_guide/indexing.html#returning-a-view-versus-a-copy\n",
      "  listings_combined3[amenity] = listings_combined3['amenities'].apply(lambda x: 1 if amenity in x else 0)\n",
      "C:\\Users\\PC\\AppData\\Local\\Temp\\ipykernel_14736\\1175942365.py:61: SettingWithCopyWarning: \n",
      "A value is trying to be set on a copy of a slice from a DataFrame.\n",
      "Try using .loc[row_indexer,col_indexer] = value instead\n",
      "\n",
      "See the caveats in the documentation: https://pandas.pydata.org/pandas-docs/stable/user_guide/indexing.html#returning-a-view-versus-a-copy\n",
      "  listings_combined3[amenity] = listings_combined3['amenities'].apply(lambda x: 1 if amenity in x else 0)\n",
      "C:\\Users\\PC\\AppData\\Local\\Temp\\ipykernel_14736\\1175942365.py:61: SettingWithCopyWarning: \n",
      "A value is trying to be set on a copy of a slice from a DataFrame.\n",
      "Try using .loc[row_indexer,col_indexer] = value instead\n",
      "\n",
      "See the caveats in the documentation: https://pandas.pydata.org/pandas-docs/stable/user_guide/indexing.html#returning-a-view-versus-a-copy\n",
      "  listings_combined3[amenity] = listings_combined3['amenities'].apply(lambda x: 1 if amenity in x else 0)\n",
      "C:\\Users\\PC\\AppData\\Local\\Temp\\ipykernel_14736\\1175942365.py:61: SettingWithCopyWarning: \n",
      "A value is trying to be set on a copy of a slice from a DataFrame.\n",
      "Try using .loc[row_indexer,col_indexer] = value instead\n",
      "\n",
      "See the caveats in the documentation: https://pandas.pydata.org/pandas-docs/stable/user_guide/indexing.html#returning-a-view-versus-a-copy\n",
      "  listings_combined3[amenity] = listings_combined3['amenities'].apply(lambda x: 1 if amenity in x else 0)\n",
      "C:\\Users\\PC\\AppData\\Local\\Temp\\ipykernel_14736\\1175942365.py:61: SettingWithCopyWarning: \n",
      "A value is trying to be set on a copy of a slice from a DataFrame.\n",
      "Try using .loc[row_indexer,col_indexer] = value instead\n",
      "\n",
      "See the caveats in the documentation: https://pandas.pydata.org/pandas-docs/stable/user_guide/indexing.html#returning-a-view-versus-a-copy\n",
      "  listings_combined3[amenity] = listings_combined3['amenities'].apply(lambda x: 1 if amenity in x else 0)\n",
      "C:\\Users\\PC\\AppData\\Local\\Temp\\ipykernel_14736\\1175942365.py:61: SettingWithCopyWarning: \n",
      "A value is trying to be set on a copy of a slice from a DataFrame.\n",
      "Try using .loc[row_indexer,col_indexer] = value instead\n",
      "\n",
      "See the caveats in the documentation: https://pandas.pydata.org/pandas-docs/stable/user_guide/indexing.html#returning-a-view-versus-a-copy\n",
      "  listings_combined3[amenity] = listings_combined3['amenities'].apply(lambda x: 1 if amenity in x else 0)\n",
      "C:\\Users\\PC\\AppData\\Local\\Temp\\ipykernel_14736\\1175942365.py:61: SettingWithCopyWarning: \n",
      "A value is trying to be set on a copy of a slice from a DataFrame.\n",
      "Try using .loc[row_indexer,col_indexer] = value instead\n",
      "\n",
      "See the caveats in the documentation: https://pandas.pydata.org/pandas-docs/stable/user_guide/indexing.html#returning-a-view-versus-a-copy\n",
      "  listings_combined3[amenity] = listings_combined3['amenities'].apply(lambda x: 1 if amenity in x else 0)\n",
      "C:\\Users\\PC\\AppData\\Local\\Temp\\ipykernel_14736\\1175942365.py:61: SettingWithCopyWarning: \n",
      "A value is trying to be set on a copy of a slice from a DataFrame.\n",
      "Try using .loc[row_indexer,col_indexer] = value instead\n",
      "\n",
      "See the caveats in the documentation: https://pandas.pydata.org/pandas-docs/stable/user_guide/indexing.html#returning-a-view-versus-a-copy\n",
      "  listings_combined3[amenity] = listings_combined3['amenities'].apply(lambda x: 1 if amenity in x else 0)\n",
      "C:\\Users\\PC\\AppData\\Local\\Temp\\ipykernel_14736\\1175942365.py:61: SettingWithCopyWarning: \n",
      "A value is trying to be set on a copy of a slice from a DataFrame.\n",
      "Try using .loc[row_indexer,col_indexer] = value instead\n",
      "\n",
      "See the caveats in the documentation: https://pandas.pydata.org/pandas-docs/stable/user_guide/indexing.html#returning-a-view-versus-a-copy\n",
      "  listings_combined3[amenity] = listings_combined3['amenities'].apply(lambda x: 1 if amenity in x else 0)\n",
      "C:\\Users\\PC\\AppData\\Local\\Temp\\ipykernel_14736\\1175942365.py:61: SettingWithCopyWarning: \n",
      "A value is trying to be set on a copy of a slice from a DataFrame.\n",
      "Try using .loc[row_indexer,col_indexer] = value instead\n",
      "\n",
      "See the caveats in the documentation: https://pandas.pydata.org/pandas-docs/stable/user_guide/indexing.html#returning-a-view-versus-a-copy\n",
      "  listings_combined3[amenity] = listings_combined3['amenities'].apply(lambda x: 1 if amenity in x else 0)\n",
      "C:\\Users\\PC\\AppData\\Local\\Temp\\ipykernel_14736\\1175942365.py:61: SettingWithCopyWarning: \n",
      "A value is trying to be set on a copy of a slice from a DataFrame.\n",
      "Try using .loc[row_indexer,col_indexer] = value instead\n",
      "\n",
      "See the caveats in the documentation: https://pandas.pydata.org/pandas-docs/stable/user_guide/indexing.html#returning-a-view-versus-a-copy\n",
      "  listings_combined3[amenity] = listings_combined3['amenities'].apply(lambda x: 1 if amenity in x else 0)\n",
      "C:\\Users\\PC\\AppData\\Local\\Temp\\ipykernel_14736\\1175942365.py:61: SettingWithCopyWarning: \n",
      "A value is trying to be set on a copy of a slice from a DataFrame.\n",
      "Try using .loc[row_indexer,col_indexer] = value instead\n",
      "\n",
      "See the caveats in the documentation: https://pandas.pydata.org/pandas-docs/stable/user_guide/indexing.html#returning-a-view-versus-a-copy\n",
      "  listings_combined3[amenity] = listings_combined3['amenities'].apply(lambda x: 1 if amenity in x else 0)\n",
      "C:\\Users\\PC\\AppData\\Local\\Temp\\ipykernel_14736\\1175942365.py:61: SettingWithCopyWarning: \n",
      "A value is trying to be set on a copy of a slice from a DataFrame.\n",
      "Try using .loc[row_indexer,col_indexer] = value instead\n",
      "\n",
      "See the caveats in the documentation: https://pandas.pydata.org/pandas-docs/stable/user_guide/indexing.html#returning-a-view-versus-a-copy\n",
      "  listings_combined3[amenity] = listings_combined3['amenities'].apply(lambda x: 1 if amenity in x else 0)\n",
      "C:\\Users\\PC\\AppData\\Local\\Temp\\ipykernel_14736\\1175942365.py:61: SettingWithCopyWarning: \n",
      "A value is trying to be set on a copy of a slice from a DataFrame.\n",
      "Try using .loc[row_indexer,col_indexer] = value instead\n",
      "\n",
      "See the caveats in the documentation: https://pandas.pydata.org/pandas-docs/stable/user_guide/indexing.html#returning-a-view-versus-a-copy\n",
      "  listings_combined3[amenity] = listings_combined3['amenities'].apply(lambda x: 1 if amenity in x else 0)\n",
      "C:\\Users\\PC\\AppData\\Local\\Temp\\ipykernel_14736\\1175942365.py:61: SettingWithCopyWarning: \n",
      "A value is trying to be set on a copy of a slice from a DataFrame.\n",
      "Try using .loc[row_indexer,col_indexer] = value instead\n",
      "\n",
      "See the caveats in the documentation: https://pandas.pydata.org/pandas-docs/stable/user_guide/indexing.html#returning-a-view-versus-a-copy\n",
      "  listings_combined3[amenity] = listings_combined3['amenities'].apply(lambda x: 1 if amenity in x else 0)\n",
      "C:\\Users\\PC\\AppData\\Local\\Temp\\ipykernel_14736\\1175942365.py:61: SettingWithCopyWarning: \n",
      "A value is trying to be set on a copy of a slice from a DataFrame.\n",
      "Try using .loc[row_indexer,col_indexer] = value instead\n",
      "\n",
      "See the caveats in the documentation: https://pandas.pydata.org/pandas-docs/stable/user_guide/indexing.html#returning-a-view-versus-a-copy\n",
      "  listings_combined3[amenity] = listings_combined3['amenities'].apply(lambda x: 1 if amenity in x else 0)\n",
      "C:\\Users\\PC\\AppData\\Local\\Temp\\ipykernel_14736\\1175942365.py:61: SettingWithCopyWarning: \n",
      "A value is trying to be set on a copy of a slice from a DataFrame.\n",
      "Try using .loc[row_indexer,col_indexer] = value instead\n",
      "\n",
      "See the caveats in the documentation: https://pandas.pydata.org/pandas-docs/stable/user_guide/indexing.html#returning-a-view-versus-a-copy\n",
      "  listings_combined3[amenity] = listings_combined3['amenities'].apply(lambda x: 1 if amenity in x else 0)\n",
      "C:\\Users\\PC\\AppData\\Local\\Temp\\ipykernel_14736\\1175942365.py:61: SettingWithCopyWarning: \n",
      "A value is trying to be set on a copy of a slice from a DataFrame.\n",
      "Try using .loc[row_indexer,col_indexer] = value instead\n",
      "\n",
      "See the caveats in the documentation: https://pandas.pydata.org/pandas-docs/stable/user_guide/indexing.html#returning-a-view-versus-a-copy\n",
      "  listings_combined3[amenity] = listings_combined3['amenities'].apply(lambda x: 1 if amenity in x else 0)\n",
      "C:\\Users\\PC\\AppData\\Local\\Temp\\ipykernel_14736\\1175942365.py:61: SettingWithCopyWarning: \n",
      "A value is trying to be set on a copy of a slice from a DataFrame.\n",
      "Try using .loc[row_indexer,col_indexer] = value instead\n",
      "\n",
      "See the caveats in the documentation: https://pandas.pydata.org/pandas-docs/stable/user_guide/indexing.html#returning-a-view-versus-a-copy\n",
      "  listings_combined3[amenity] = listings_combined3['amenities'].apply(lambda x: 1 if amenity in x else 0)\n",
      "C:\\Users\\PC\\AppData\\Local\\Temp\\ipykernel_14736\\1175942365.py:61: SettingWithCopyWarning: \n",
      "A value is trying to be set on a copy of a slice from a DataFrame.\n",
      "Try using .loc[row_indexer,col_indexer] = value instead\n",
      "\n",
      "See the caveats in the documentation: https://pandas.pydata.org/pandas-docs/stable/user_guide/indexing.html#returning-a-view-versus-a-copy\n",
      "  listings_combined3[amenity] = listings_combined3['amenities'].apply(lambda x: 1 if amenity in x else 0)\n",
      "C:\\Users\\PC\\AppData\\Local\\Temp\\ipykernel_14736\\1175942365.py:61: SettingWithCopyWarning: \n",
      "A value is trying to be set on a copy of a slice from a DataFrame.\n",
      "Try using .loc[row_indexer,col_indexer] = value instead\n",
      "\n",
      "See the caveats in the documentation: https://pandas.pydata.org/pandas-docs/stable/user_guide/indexing.html#returning-a-view-versus-a-copy\n",
      "  listings_combined3[amenity] = listings_combined3['amenities'].apply(lambda x: 1 if amenity in x else 0)\n",
      "C:\\Users\\PC\\AppData\\Local\\Temp\\ipykernel_14736\\1175942365.py:61: SettingWithCopyWarning: \n",
      "A value is trying to be set on a copy of a slice from a DataFrame.\n",
      "Try using .loc[row_indexer,col_indexer] = value instead\n",
      "\n",
      "See the caveats in the documentation: https://pandas.pydata.org/pandas-docs/stable/user_guide/indexing.html#returning-a-view-versus-a-copy\n",
      "  listings_combined3[amenity] = listings_combined3['amenities'].apply(lambda x: 1 if amenity in x else 0)\n",
      "C:\\Users\\PC\\AppData\\Local\\Temp\\ipykernel_14736\\1175942365.py:61: SettingWithCopyWarning: \n",
      "A value is trying to be set on a copy of a slice from a DataFrame.\n",
      "Try using .loc[row_indexer,col_indexer] = value instead\n",
      "\n",
      "See the caveats in the documentation: https://pandas.pydata.org/pandas-docs/stable/user_guide/indexing.html#returning-a-view-versus-a-copy\n",
      "  listings_combined3[amenity] = listings_combined3['amenities'].apply(lambda x: 1 if amenity in x else 0)\n",
      "C:\\Users\\PC\\AppData\\Local\\Temp\\ipykernel_14736\\1175942365.py:61: SettingWithCopyWarning: \n",
      "A value is trying to be set on a copy of a slice from a DataFrame.\n",
      "Try using .loc[row_indexer,col_indexer] = value instead\n",
      "\n",
      "See the caveats in the documentation: https://pandas.pydata.org/pandas-docs/stable/user_guide/indexing.html#returning-a-view-versus-a-copy\n",
      "  listings_combined3[amenity] = listings_combined3['amenities'].apply(lambda x: 1 if amenity in x else 0)\n",
      "C:\\Users\\PC\\AppData\\Local\\Temp\\ipykernel_14736\\1175942365.py:61: SettingWithCopyWarning: \n",
      "A value is trying to be set on a copy of a slice from a DataFrame.\n",
      "Try using .loc[row_indexer,col_indexer] = value instead\n",
      "\n",
      "See the caveats in the documentation: https://pandas.pydata.org/pandas-docs/stable/user_guide/indexing.html#returning-a-view-versus-a-copy\n",
      "  listings_combined3[amenity] = listings_combined3['amenities'].apply(lambda x: 1 if amenity in x else 0)\n",
      "C:\\Users\\PC\\AppData\\Local\\Temp\\ipykernel_14736\\1175942365.py:61: SettingWithCopyWarning: \n",
      "A value is trying to be set on a copy of a slice from a DataFrame.\n",
      "Try using .loc[row_indexer,col_indexer] = value instead\n",
      "\n",
      "See the caveats in the documentation: https://pandas.pydata.org/pandas-docs/stable/user_guide/indexing.html#returning-a-view-versus-a-copy\n",
      "  listings_combined3[amenity] = listings_combined3['amenities'].apply(lambda x: 1 if amenity in x else 0)\n",
      "C:\\Users\\PC\\AppData\\Local\\Temp\\ipykernel_14736\\1175942365.py:61: SettingWithCopyWarning: \n",
      "A value is trying to be set on a copy of a slice from a DataFrame.\n",
      "Try using .loc[row_indexer,col_indexer] = value instead\n",
      "\n",
      "See the caveats in the documentation: https://pandas.pydata.org/pandas-docs/stable/user_guide/indexing.html#returning-a-view-versus-a-copy\n",
      "  listings_combined3[amenity] = listings_combined3['amenities'].apply(lambda x: 1 if amenity in x else 0)\n",
      "C:\\Users\\PC\\AppData\\Local\\Temp\\ipykernel_14736\\1175942365.py:61: SettingWithCopyWarning: \n",
      "A value is trying to be set on a copy of a slice from a DataFrame.\n",
      "Try using .loc[row_indexer,col_indexer] = value instead\n",
      "\n",
      "See the caveats in the documentation: https://pandas.pydata.org/pandas-docs/stable/user_guide/indexing.html#returning-a-view-versus-a-copy\n",
      "  listings_combined3[amenity] = listings_combined3['amenities'].apply(lambda x: 1 if amenity in x else 0)\n",
      "C:\\Users\\PC\\AppData\\Local\\Temp\\ipykernel_14736\\1175942365.py:61: SettingWithCopyWarning: \n",
      "A value is trying to be set on a copy of a slice from a DataFrame.\n",
      "Try using .loc[row_indexer,col_indexer] = value instead\n",
      "\n",
      "See the caveats in the documentation: https://pandas.pydata.org/pandas-docs/stable/user_guide/indexing.html#returning-a-view-versus-a-copy\n",
      "  listings_combined3[amenity] = listings_combined3['amenities'].apply(lambda x: 1 if amenity in x else 0)\n",
      "C:\\Users\\PC\\AppData\\Local\\Temp\\ipykernel_14736\\1175942365.py:61: SettingWithCopyWarning: \n",
      "A value is trying to be set on a copy of a slice from a DataFrame.\n",
      "Try using .loc[row_indexer,col_indexer] = value instead\n",
      "\n",
      "See the caveats in the documentation: https://pandas.pydata.org/pandas-docs/stable/user_guide/indexing.html#returning-a-view-versus-a-copy\n",
      "  listings_combined3[amenity] = listings_combined3['amenities'].apply(lambda x: 1 if amenity in x else 0)\n",
      "C:\\Users\\PC\\AppData\\Local\\Temp\\ipykernel_14736\\1175942365.py:61: SettingWithCopyWarning: \n",
      "A value is trying to be set on a copy of a slice from a DataFrame.\n",
      "Try using .loc[row_indexer,col_indexer] = value instead\n",
      "\n",
      "See the caveats in the documentation: https://pandas.pydata.org/pandas-docs/stable/user_guide/indexing.html#returning-a-view-versus-a-copy\n",
      "  listings_combined3[amenity] = listings_combined3['amenities'].apply(lambda x: 1 if amenity in x else 0)\n",
      "C:\\Users\\PC\\AppData\\Local\\Temp\\ipykernel_14736\\1175942365.py:74: FutureWarning: A value is trying to be set on a copy of a DataFrame or Series through chained assignment using an inplace method.\n",
      "The behavior will change in pandas 3.0. This inplace method will never work because the intermediate object on which we are setting values always behaves as a copy.\n",
      "\n",
      "For example, when doing 'df[col].method(value, inplace=True)', try using 'df.method({col: value}, inplace=True)' or df[col] = df[col].method(value) instead, to perform the operation inplace on the original object.\n",
      "\n",
      "\n",
      "  listings_combined3['host_response_rate'].fillna(listings_combined3['host_response_rate'].mean(), inplace=True)\n",
      "C:\\Users\\PC\\AppData\\Local\\Temp\\ipykernel_14736\\1175942365.py:75: FutureWarning: A value is trying to be set on a copy of a DataFrame or Series through chained assignment using an inplace method.\n",
      "The behavior will change in pandas 3.0. This inplace method will never work because the intermediate object on which we are setting values always behaves as a copy.\n",
      "\n",
      "For example, when doing 'df[col].method(value, inplace=True)', try using 'df.method({col: value}, inplace=True)' or df[col] = df[col].method(value) instead, to perform the operation inplace on the original object.\n",
      "\n",
      "\n",
      "  listings_combined3['host_acceptance_rate'].fillna(listings_combined3['host_acceptance_rate'].mean(), inplace=True)\n"
     ]
    },
    {
     "name": "stdout",
     "output_type": "stream",
     "text": [
      "       id  neighborhood_overview  host_location  host_about  \\\n",
      "0   71896                      0              1           1   \n",
      "1   71903                      1              1           1   \n",
      "2  275343                      0              1           1   \n",
      "3  275344                      1              1           1   \n",
      "4  294281                      0              1           1   \n",
      "\n",
      "   host_response_time  host_response_rate  host_acceptance_rate  \\\n",
      "0                 4.0            1.000000              0.887823   \n",
      "1                 4.0            1.000000              0.887823   \n",
      "2                 4.0            1.000000              0.990000   \n",
      "3                 4.0            1.000000              0.990000   \n",
      "4                 0.0            0.948385              0.887823   \n",
      "\n",
      "   host_is_superhost  host_listings_count  host_has_profile_pic  \\\n",
      "0                  0                  6.0                     1   \n",
      "1                  0                  6.0                     1   \n",
      "2                  0                 49.0                     1   \n",
      "3                  0                 49.0                     1   \n",
      "4                  0                  7.0                     1   \n",
      "\n",
      "   host_identity_verified  latitude  longitude  property_type  room_type  \\\n",
      "0                       1   1.34754  103.95958            7.0        2.0   \n",
      "1                       1   1.34531  103.96100            7.0        2.0   \n",
      "2                       1   1.29015  103.80814            8.0        2.0   \n",
      "3                       1   1.28836  103.81144            8.0        2.0   \n",
      "4                       1   1.31142  103.83924            8.0        2.0   \n",
      "\n",
      "   accommodates  bathrooms  bedrooms  beds  price  minimum_nights  \\\n",
      "0             1        0.5       1.0   1.0   80.0              92   \n",
      "1             2        0.5       1.0   2.0   80.0              92   \n",
      "2             1        2.0       1.0   1.0   50.0             180   \n",
      "3             1        2.5       1.0   1.0   50.0             180   \n",
      "4             2        1.0       2.0   1.0   85.0              92   \n",
      "\n",
      "   maximum_nights  availability_365  instant_bookable  city  host_duration  \\\n",
      "0             365               148                 0   1.0           4900   \n",
      "1             365                90                 0   1.0           4900   \n",
      "2             999                62                 1   1.0           4601   \n",
      "3             999                 0                 1   1.0           4601   \n",
      "4            1125               365                 0   1.0           4575   \n",
      "\n",
      "   Body soap  Coffee maker  Carbon monoxide alarm  Smoke alarm  \\\n",
      "0          0             1                      0            1   \n",
      "1          0             1                      0            1   \n",
      "2          0             0                      1            1   \n",
      "3          0             0                      1            1   \n",
      "4          0             0                      0            1   \n",
      "\n",
      "   Extra pillows and blankets  Luggage dropoff allowed  Hair dryer  Elevator  \\\n",
      "0                           1                        0           1         0   \n",
      "1                           0                        0           1         0   \n",
      "2                           0                        1           0         1   \n",
      "3                           0                        1           0         1   \n",
      "4                           1                        0           1         0   \n",
      "\n",
      "   Wifi  Cleaning available during stay  Air conditioning  Hangers  \\\n",
      "0     1                               0                 0        1   \n",
      "1     1                               0                 0        0   \n",
      "2     1                               0                 1        1   \n",
      "3     1                               0                 1        1   \n",
      "4     1                               0                 1        1   \n",
      "\n",
      "   Essentials  Heating  TV  First aid kit  Shampoo  Fire extinguisher  \\\n",
      "0           1        0   1              0        1                  0   \n",
      "1           1        1   1              0        1                  0   \n",
      "2           0        0   1              0        0                  1   \n",
      "3           0        0   1              0        0                  1   \n",
      "4           1        0   0              0        1                  0   \n",
      "\n",
      "   Bed linens  Dishes and silverware  Toaster  Shower gel  Coffee  \\\n",
      "0           1                      1        0           1       0   \n",
      "1           0                      0        0           0       0   \n",
      "2           1                      1        0           0       0   \n",
      "3           1                      1        0           0       0   \n",
      "4           1                      1        0           0       0   \n",
      "\n",
      "   Portable fans  Dedicated workspace  Cooking basics  Hot water  Iron  \\\n",
      "0              0                    1               1          1     1   \n",
      "1              0                    0               1          1     0   \n",
      "2              0                    1               1          1     1   \n",
      "3              0                    1               1          1     1   \n",
      "4              0                    0               1          1     1   \n",
      "\n",
      "   Cleaning products  Clothing storage: closet  Mini fridge  Refrigerator  \\\n",
      "0                  1                         0            0             1   \n",
      "1                  0                         0            0             0   \n",
      "2                  1                         0            0             1   \n",
      "3                  1                         0            0             1   \n",
      "4                  0                         0            0             1   \n",
      "\n",
      "   Crib  Wine glasses  Bathtub  Lock on bedroom door  Host greets you  \\\n",
      "0     0             0        0                     1                0   \n",
      "1     0             0        0                     1                0   \n",
      "2     0             0        0                     1                0   \n",
      "3     0             0        0                     1                0   \n",
      "4     0             0        0                     0                0   \n",
      "\n",
      "   Conditioner  Dishwasher  Hot water kettle  Dining table  \\\n",
      "0            0           0                 0             0   \n",
      "1            0           0                 0             0   \n",
      "2            0           0                 1             0   \n",
      "3            0           0                 1             0   \n",
      "4            0           0                 0             0   \n",
      "\n",
      "   Long term stays allowed  Freezer  Laundromat nearby  Room-darkening shades  \\\n",
      "0                        0        0                  0                      0   \n",
      "1                        0        0                  0                      0   \n",
      "2                        1        0                  0                      0   \n",
      "3                        1        0                  0                      0   \n",
      "4                        1        0                  0                      0   \n",
      "\n",
      "   Private entrance  Central heating  Private patio or balcony  \\\n",
      "0                 1                0                         0   \n",
      "1                 0                0                         0   \n",
      "2                 0                0                         0   \n",
      "3                 0                0                         0   \n",
      "4                 0                0                         1   \n",
      "\n",
      "   Outdoor furniture  Microwave  Single level home  Outdoor dining area  \\\n",
      "0                  1          0                  0                    1   \n",
      "1                  1          0                  0                    1   \n",
      "2                  0          0                  0                    0   \n",
      "3                  0          1                  0                    0   \n",
      "4                  0          1                  0                    0   \n",
      "\n",
      "   Free washer – In unit  Blender  Ethernet connection  Free dryer – In unit  \\\n",
      "0                      0        0                    0                     0   \n",
      "1                      0        0                    0                     0   \n",
      "2                      0        0                    0                     0   \n",
      "3                      0        0                    0                     0   \n",
      "4                      0        0                    0                     0   \n",
      "\n",
      "   Baking sheet  Lockbox  Self check-in  Washer  Free parking on premises  \\\n",
      "0             0        0              1       1                         1   \n",
      "1             0        0              1       1                         1   \n",
      "2             0        0              1       0                         0   \n",
      "3             0        0              1       0                         0   \n",
      "4             0        0              0       1                         0   \n",
      "\n",
      "   Dryer  Exterior security cameras on property  Pets allowed  \\\n",
      "0      1                                      0             0   \n",
      "1      1                                      0             0   \n",
      "2      0                                      0             0   \n",
      "3      0                                      0             0   \n",
      "4      0                                      0             0   \n",
      "\n",
      "   Drying rack for clothing  Oven  Books and reading material  \\\n",
      "0                         1     0                           0   \n",
      "1                         0     0                           0   \n",
      "2                         0     0                           0   \n",
      "3                         1     0                           0   \n",
      "4                         0     1                           0   \n",
      "\n",
      "   Free street parking  Patio or balcony  Stove  Clothing storage  Bidet  \\\n",
      "0                    1                 0      0                 0      0   \n",
      "1                    1                 0      0                 0      0   \n",
      "2                    0                 0      1                 1      1   \n",
      "3                    0                 0      1                 0      1   \n",
      "4                    1                 0      1                 0      0   \n",
      "\n",
      "   distance_to_center  \n",
      "0           13.513182  \n",
      "1           13.580746  \n",
      "2            4.499873  \n",
      "3            4.250240  \n",
      "4            0.919930  \n"
     ]
    },
    {
     "name": "stderr",
     "output_type": "stream",
     "text": [
      "C:\\Users\\PC\\AppData\\Local\\Temp\\ipykernel_14736\\1175942365.py:92: FutureWarning: A value is trying to be set on a copy of a DataFrame or Series through chained assignment using an inplace method.\n",
      "The behavior will change in pandas 3.0. This inplace method will never work because the intermediate object on which we are setting values always behaves as a copy.\n",
      "\n",
      "For example, when doing 'df[col].method(value, inplace=True)', try using 'df.method({col: value}, inplace=True)' or df[col] = df[col].method(value) instead, to perform the operation inplace on the original object.\n",
      "\n",
      "\n",
      "  listings_combined3['host_response_time'].fillna('Missing', inplace=True)\n",
      "C:\\Users\\PC\\AppData\\Local\\Temp\\ipykernel_14736\\1175942365.py:110: FutureWarning: A value is trying to be set on a copy of a DataFrame or Series through chained assignment using an inplace method.\n",
      "The behavior will change in pandas 3.0. This inplace method will never work because the intermediate object on which we are setting values always behaves as a copy.\n",
      "\n",
      "For example, when doing 'df[col].method(value, inplace=True)', try using 'df.method({col: value}, inplace=True)' or df[col] = df[col].method(value) instead, to perform the operation inplace on the original object.\n",
      "\n",
      "\n",
      "  listings_combined3[column].fillna(listings_combined3[column].median(), inplace=True)\n",
      "C:\\Users\\PC\\AppData\\Local\\Temp\\ipykernel_14736\\1175942365.py:110: FutureWarning: A value is trying to be set on a copy of a DataFrame or Series through chained assignment using an inplace method.\n",
      "The behavior will change in pandas 3.0. This inplace method will never work because the intermediate object on which we are setting values always behaves as a copy.\n",
      "\n",
      "For example, when doing 'df[col].method(value, inplace=True)', try using 'df.method({col: value}, inplace=True)' or df[col] = df[col].method(value) instead, to perform the operation inplace on the original object.\n",
      "\n",
      "\n",
      "  listings_combined3[column].fillna(listings_combined3[column].median(), inplace=True)\n"
     ]
    }
   ],
   "source": [
    "# Assume listings_combined2 is the DataFrame\n",
    "# Define relevant columns to keep\n",
    "columns_to_keep = [\n",
    "    'id', 'last_scraped', 'neighborhood_overview', \n",
    "    'host_since', 'host_location', 'host_about', 'host_response_time', \n",
    "    'host_response_rate', 'host_acceptance_rate', 'host_is_superhost', \n",
    "    'host_listings_count', 'host_has_profile_pic', \n",
    "    'host_identity_verified', 'latitude', 'longitude', \n",
    "    'property_type', 'room_type', 'accommodates', 'bathrooms', 'bedrooms', 'beds',\n",
    "    'amenities', 'price', 'minimum_nights', 'maximum_nights', 'availability_365', \n",
    "    'instant_bookable', 'city'\n",
    "]\n",
    "\n",
    "# Filter the DataFrame to keep only relevant columns\n",
    "listings_combined3 = listings_combined_basis[columns_to_keep]\n",
    "\n",
    "# Convert date columns to datetime\n",
    "listings_combined3['last_scraped'] = pd.to_datetime(listings_combined3['last_scraped'])\n",
    "listings_combined3['host_since'] = pd.to_datetime(listings_combined3['host_since'])\n",
    "listings_combined3['host_duration'] = (listings_combined3['last_scraped'] - listings_combined3['host_since']).dt.days\n",
    "\n",
    "# Convert binary features with a lot of missing values to numerical, where 1 represents a value and 0 represents a missing value\n",
    "binary_columns = ['neighborhood_overview', 'host_location', 'host_about']\n",
    "for col in binary_columns:\n",
    "    listings_combined3[col] = listings_combined3[col].notna().astype(int)\n",
    "\n",
    "#Convert other binary features to numerical, where missing values are filled with 0\n",
    "other_binaries= ['host_is_superhost', 'host_has_profile_pic', 'host_identity_verified', 'instant_bookable'] \n",
    "for col in other_binaries:\n",
    "    listings_combined3[col] = listings_combined3[col].map({'f': 0, 't': 1}).fillna(0).astype(int)\n",
    "\n",
    "# Convert amenities from JSON format and apply one-hot encoding for common amenities\n",
    "listings_combined3['amenities'] = listings_combined3['amenities'].apply(lambda x: json.loads(x))\n",
    "\n",
    "# Get the most common amenities (between  F10% and 90% occurrence)\n",
    "common_amenities = ['Body soap',\n",
    "       'Coffee maker', 'Carbon monoxide alarm', 'Smoke alarm',\n",
    "       'Extra pillows and blankets', 'Luggage dropoff allowed', 'Hair dryer',\n",
    "       'Elevator', 'Wifi', 'Cleaning available during stay',\n",
    "       'Air conditioning', 'Hangers', 'Essentials', 'Heating', 'TV',\n",
    "       'First aid kit', 'Shampoo', 'Fire extinguisher', 'Bed linens',\n",
    "       'Dishes and silverware', 'Toaster', 'Shower gel', 'Coffee',\n",
    "       'Portable fans', 'Dedicated workspace', 'Cooking basics', 'Hot water',\n",
    "       'Iron', 'Cleaning products', 'Clothing storage: closet', 'Mini fridge',\n",
    "       'Refrigerator', 'Crib', 'Wine glasses', 'Bathtub',\n",
    "       'Lock on bedroom door', 'Host greets you', 'Conditioner', 'Dishwasher',\n",
    "       'Hot water kettle', 'Dining table', 'Long term stays allowed',\n",
    "       'Freezer', 'Laundromat nearby', 'Room-darkening shades',\n",
    "       'Private entrance', 'Central heating', 'Private patio or balcony',\n",
    "       'Outdoor furniture', 'Microwave', 'Single level home',\n",
    "       'Outdoor dining area', 'Free washer – In unit', 'Blender',\n",
    "       'Ethernet connection', 'Free dryer – In unit', 'Baking sheet',\n",
    "       'Lockbox', 'Self check-in', 'Washer', 'Free parking on premises',\n",
    "       'Dryer', 'Exterior security cameras on property', 'Pets allowed',\n",
    "       'Drying rack for clothing', 'Oven', 'Books and reading material',\n",
    "       'Free street parking', 'Patio or balcony', 'Stove', 'Clothing storage',\n",
    "       'Bidet']\n",
    "\n",
    "# Create binary columns for each common amenity\n",
    "for amenity in common_amenities:\n",
    "    listings_combined3[amenity] = listings_combined3['amenities'].apply(lambda x: 1 if amenity in x else 0)\n",
    "\n",
    "# Drop the original amenities column\n",
    "listings_combined3.drop(columns=['amenities'], inplace=True)\n",
    "\n",
    "# Modify property_type to keep only those with at least 1% of the listings, replace others with 'Other'\n",
    "property_type_counts = listings_combined3['property_type'].value_counts(normalize=True)\n",
    "valid_property_types = property_type_counts[property_type_counts >= 0.01].index\n",
    "listings_combined3['property_type'] = listings_combined3['property_type'].apply(lambda x: x if x in valid_property_types else 'Other')\n",
    "\n",
    "# Convert percentages to numerical values and fill NA with mean\n",
    "listings_combined3['host_response_rate'] = listings_combined3['host_response_rate'].str.replace('%', '').astype(float) / 100\n",
    "listings_combined3['host_acceptance_rate'] = listings_combined3['host_acceptance_rate'].str.replace('%', '').astype(float) / 100\n",
    "listings_combined3['host_response_rate'].fillna(listings_combined3['host_response_rate'].mean(), inplace=True)\n",
    "listings_combined3['host_acceptance_rate'].fillna(listings_combined3['host_acceptance_rate'].mean(), inplace=True)\n",
    "\n",
    "# Calculate the mean latitude and longitude per city to determine the central location\n",
    "mean_coordinates = listings_combined3.groupby('city')[['latitude', 'longitude']].mean().rename(columns={'latitude': 'mean_latitude', 'longitude': 'mean_longitude'})\n",
    "listings_combined3 = listings_combined3.merge(mean_coordinates, on='city')\n",
    "\n",
    "# Calculate distance to the city center for each listing\n",
    "listings_combined3['distance_to_center'] = listings_combined3.apply(calculate_distance, axis=1)\n",
    "\n",
    "# Drop mean latitude and longitude columns\n",
    "listings_combined3.drop(columns=['mean_latitude', 'mean_longitude'], inplace=True)\n",
    "\n",
    "# Ordinal encode categorical features\n",
    "# Create a column indicating missing values in 'host_response_time'\n",
    "listings_combined3['host_response_time_missing'] = listings_combined3['host_response_time'].isnull().astype(int)\n",
    "\n",
    "# Fill missing values in 'host_response_time' if necessary, before label encoding\n",
    "listings_combined3['host_response_time'].fillna('Missing', inplace=True)\n",
    "\n",
    "# Apply Ordinal Encoding\n",
    "ordinal_encoder = OrdinalEncoder()\n",
    "categorical_columns = ['host_response_time', 'property_type', 'room_type', 'city']\n",
    "listings_combined3[categorical_columns] = listings_combined3[categorical_columns].astype(str)\n",
    "listings_combined3[categorical_columns] = ordinal_encoder.fit_transform(listings_combined3[categorical_columns])\n",
    "\n",
    "#Delete host_response_time_missing column, delete host_since and last_scraped columns\n",
    "listings_combined3.drop(columns=['host_response_time_missing'], inplace=True)\n",
    "listings_combined3.drop(columns=['host_since', 'last_scraped'], inplace=True)\n",
    "\n",
    "# Convert price to numerical\n",
    "listings_combined3['price'] = listings_combined3['price'].replace('[\\$,]', '', regex=True).astype(float)\n",
    "\n",
    "# Fill missing values with the median for bathrooms, bedrooms.\n",
    "median_fill_columns = ['bathrooms', 'bedrooms']\n",
    "for column in median_fill_columns:\n",
    "    listings_combined3[column].fillna(listings_combined3[column].median(), inplace=True)\n",
    "\n",
    "# Display the cleaned DataFrame\n",
    "print(listings_combined3.head())\n"
   ]
  },
  {
   "cell_type": "markdown",
   "metadata": {},
   "source": [
    "We check which city belongs to which number, because this is needed later in the research"
   ]
  },
  {
   "cell_type": "code",
   "execution_count": 16,
   "metadata": {},
   "outputs": [
    {
     "name": "stdout",
     "output_type": "stream",
     "text": [
      "0: Madrid\n",
      "1: Singapore\n"
     ]
    }
   ],
   "source": [
    "# Fit the label encoder to the 'city' column in the original dataset\n",
    "label_encoder = LabelEncoder()\n",
    "label_encoder.fit(listings_combined_basis['city'])\n",
    "\n",
    "# Display the mapping\n",
    "city_mapping = {encoded_value: city for encoded_value, city in enumerate(label_encoder.classes_)}\n",
    "for encoded_value, city in city_mapping.items():\n",
    "    print(f\"{encoded_value}: {city}\")\n"
   ]
  },
  {
   "cell_type": "markdown",
   "metadata": {},
   "source": [
    "We use the code below, to check all variables for outliers. We checked all numerical variables, for the binaries we already assume there are no outliers, because of the way these binaries are designed. We only change the outliers if we believe they are unrealistic, for only one we find is the one below which has 50 bedrooms and bathrooms, while the accommodation only accomodates 4 persons."
   ]
  },
  {
   "cell_type": "code",
   "execution_count": 17,
   "metadata": {},
   "outputs": [
    {
     "data": {
      "text/plain": [
       "count    18919.000000\n",
       "mean         1.307997\n",
       "std          0.686638\n",
       "min          0.000000\n",
       "25%          1.000000\n",
       "50%          1.000000\n",
       "75%          1.500000\n",
       "max         10.000000\n",
       "Name: bathrooms, dtype: float64"
      ]
     },
     "execution_count": 17,
     "metadata": {},
     "output_type": "execute_result"
    }
   ],
   "source": [
    "listings_combined3['bathrooms'].describe()"
   ]
  },
  {
   "cell_type": "code",
   "execution_count": 18,
   "metadata": {},
   "outputs": [
    {
     "data": {
      "text/plain": [
       "count    18919.000000\n",
       "mean         2.755940\n",
       "std          2.321666\n",
       "min          0.039596\n",
       "25%          1.192402\n",
       "50%          1.843769\n",
       "75%          3.797896\n",
       "max         18.391372\n",
       "Name: distance_to_center, dtype: float64"
      ]
     },
     "execution_count": 18,
     "metadata": {},
     "output_type": "execute_result"
    }
   ],
   "source": [
    "listings_combined3['distance_to_center'].describe()"
   ]
  },
  {
   "cell_type": "code",
   "execution_count": 19,
   "metadata": {},
   "outputs": [],
   "source": [
    "#Check the observations where bathrooms is above 30\n",
    "bathrooms_check=listings_combined3[listings_combined3['bathrooms'] > 30]\n",
    "#impute the number of bathrooms and bedrooms from the listings_combined2 by their respecitve means\n",
    "listings_combined3['bathrooms'] = listings_combined3['bathrooms'].replace(50, listings_combined3['bathrooms'].mean())\n",
    "listings_combined3['bedrooms'] = listings_combined3['bedrooms'].replace(50, listings_combined3['bedrooms'].mean())\n"
   ]
  },
  {
   "cell_type": "markdown",
   "metadata": {},
   "source": [
    "Delete the number of beds, because it correlates to much with 'Accommodates'"
   ]
  },
  {
   "cell_type": "code",
   "execution_count": 20,
   "metadata": {},
   "outputs": [],
   "source": [
    "listings_combined3.drop(columns=['beds'], inplace=True)"
   ]
  },
  {
   "cell_type": "code",
   "execution_count": 21,
   "metadata": {},
   "outputs": [
    {
     "name": "stderr",
     "output_type": "stream",
     "text": [
      "C:\\Users\\PC\\AppData\\Local\\Temp\\ipykernel_14736\\1127158049.py:6: FutureWarning: A value is trying to be set on a copy of a DataFrame or Series through chained assignment using an inplace method.\n",
      "The behavior will change in pandas 3.0. This inplace method will never work because the intermediate object on which we are setting values always behaves as a copy.\n",
      "\n",
      "For example, when doing 'df[col].method(value, inplace=True)', try using 'df.method({col: value}, inplace=True)' or df[col] = df[col].method(value) instead, to perform the operation inplace on the original object.\n",
      "\n",
      "\n",
      "  listings_combined3[col].fillna(listings_combined3[col].mean(), inplace=True)\n"
     ]
    },
    {
     "data": {
      "text/plain": [
       "(18919, 98)"
      ]
     },
     "execution_count": 21,
     "metadata": {},
     "output_type": "execute_result"
    }
   ],
   "source": [
    "# Eliminate data of houses with prices greater than $40000 or less than or equal to $0\n",
    "listings_combined3 = listings_combined3[(listings_combined3['price'] > 0) & (listings_combined3['price'] <= 40000)]\n",
    "\n",
    "# Impute missing values with the mean for numerical columns\n",
    "for col in listings_combined3.select_dtypes(include=['float64', 'int64']).columns:\n",
    "    listings_combined3[col].fillna(listings_combined3[col].mean(), inplace=True)\n",
    "\n",
    "# Apply logarithmic transformation to the price column\n",
    "listings_combined3['price'] = np.log1p(listings_combined3['price'])\n",
    "\n",
    "listings_combined3.shape"
   ]
  },
  {
   "cell_type": "markdown",
   "metadata": {},
   "source": [
    "Number of columns is the same as in the preprocessing of the 10 big cities"
   ]
  },
  {
   "cell_type": "markdown",
   "metadata": {},
   "source": [
    "We do a outlier analysis, to see if this worked out"
   ]
  },
  {
   "cell_type": "code",
   "execution_count": 22,
   "metadata": {},
   "outputs": [
    {
     "data": {
      "image/png": "[encoded data removed]",
      "text/plain": [
       "<Figure size 1000x600 with 1 Axes>"
      ]
     },
     "metadata": {},
     "output_type": "display_data"
    },
    {
     "data": {
      "image/png": "[encoded data removed]",
      "text/plain": [
       "<Figure size 1000x600 with 1 Axes>"
      ]
     },
     "metadata": {},
     "output_type": "display_data"
    }
   ],
   "source": [
    "# Visualize price distribution using a boxplot to analyze outliers\n",
    "plt.figure(figsize=(10, 6))\n",
    "sns.boxplot(x=listings_combined3['price'])\n",
    "plt.xlabel('Price ($)')\n",
    "plt.ylabel('Frequency')\n",
    "plt.title('Price Boxplot of Airbnb Listings')\n",
    "plt.show()\n",
    "# Visualize price distribution using a histogram to analyze outliers\n",
    "plt.figure(figsize=(10, 6))\n",
    "sns.histplot(listings_combined3['price'], bins=50, kde=True)\n",
    "plt.xlabel('Log-transformed Price')\n",
    "plt.ylabel('Frequency')\n",
    "plt.title('Distribution of Log-transformed Airbnb Prices')\n",
    "plt.show()\n"
   ]
  },
  {
   "cell_type": "markdown",
   "metadata": {},
   "source": [
    "If we look at the distribution, we see that there are stil outliers, we decide to adjust the distribution and only keep columns where the log-transformed price is between 2 and 8."
   ]
  },
  {
   "cell_type": "code",
   "execution_count": 23,
   "metadata": {},
   "outputs": [
    {
     "data": {
      "text/plain": [
       "(18892, 98)"
      ]
     },
     "execution_count": 23,
     "metadata": {},
     "output_type": "execute_result"
    }
   ],
   "source": [
    "#delete columns where log price below 2 or above 8\n",
    "listings_combined3 = listings_combined3[(listings_combined3['price'] > 2) & (listings_combined3['price'] < 8)]\n",
    "listings_combined3.shape"
   ]
  },
  {
   "cell_type": "code",
   "execution_count": 24,
   "metadata": {},
   "outputs": [
    {
     "data": {
      "text/plain": [
       "Index(['id', 'neighborhood_overview', 'host_location', 'host_about',\n",
       "       'host_response_time', 'host_response_rate', 'host_acceptance_rate',\n",
       "       'host_is_superhost', 'host_listings_count', 'host_has_profile_pic',\n",
       "       'host_identity_verified', 'latitude', 'longitude', 'property_type',\n",
       "       'room_type', 'accommodates', 'bathrooms', 'bedrooms', 'price',\n",
       "       'minimum_nights', 'maximum_nights', 'availability_365',\n",
       "       'instant_bookable', 'city', 'host_duration', 'Body soap',\n",
       "       'Coffee maker', 'Carbon monoxide alarm', 'Smoke alarm',\n",
       "       'Extra pillows and blankets', 'Luggage dropoff allowed', 'Hair dryer',\n",
       "       'Elevator', 'Wifi', 'Cleaning available during stay',\n",
       "       'Air conditioning', 'Hangers', 'Essentials', 'Heating', 'TV',\n",
       "       'First aid kit', 'Shampoo', 'Fire extinguisher', 'Bed linens',\n",
       "       'Dishes and silverware', 'Toaster', 'Shower gel', 'Coffee',\n",
       "       'Portable fans', 'Dedicated workspace', 'Cooking basics', 'Hot water',\n",
       "       'Iron', 'Cleaning products', 'Clothing storage: closet', 'Mini fridge',\n",
       "       'Refrigerator', 'Crib', 'Wine glasses', 'Bathtub',\n",
       "       'Lock on bedroom door', 'Host greets you', 'Conditioner', 'Dishwasher',\n",
       "       'Hot water kettle', 'Dining table', 'Long term stays allowed',\n",
       "       'Freezer', 'Laundromat nearby', 'Room-darkening shades',\n",
       "       'Private entrance', 'Central heating', 'Private patio or balcony',\n",
       "       'Outdoor furniture', 'Microwave', 'Single level home',\n",
       "       'Outdoor dining area', 'Free washer – In unit', 'Blender',\n",
       "       'Ethernet connection', 'Free dryer – In unit', 'Baking sheet',\n",
       "       'Lockbox', 'Self check-in', 'Washer', 'Free parking on premises',\n",
       "       'Dryer', 'Exterior security cameras on property', 'Pets allowed',\n",
       "       'Drying rack for clothing', 'Oven', 'Books and reading material',\n",
       "       'Free street parking', 'Patio or balcony', 'Stove', 'Clothing storage',\n",
       "       'Bidet', 'distance_to_center'],\n",
       "      dtype='object')"
      ]
     },
     "execution_count": 24,
     "metadata": {},
     "output_type": "execute_result"
    }
   ],
   "source": [
    "listings_combined3.columns"
   ]
  },
  {
   "cell_type": "markdown",
   "metadata": {},
   "source": [
    "As expected there is a difference in amenities that are in the common amenities"
   ]
  },
  {
   "cell_type": "code",
   "execution_count": 25,
   "metadata": {},
   "outputs": [],
   "source": [
    "listings_combined3.to_csv('listings_features_label_encoded_outofsample.csv', index=False)"
   ]
  },
  {
   "cell_type": "code",
   "execution_count": 26,
   "metadata": {},
   "outputs": [
    {
     "data": {
      "text/plain": [
       "(18892, 98)"
      ]
     },
     "execution_count": 26,
     "metadata": {},
     "output_type": "execute_result"
    }
   ],
   "source": [
    "listings_combined3.shape"
   ]
  },
  {
   "cell_type": "markdown",
   "metadata": {},
   "source": [
    "So the final shape of this one-hot encoded feature set is (210937,99)"
   ]
  },
  {
   "cell_type": "markdown",
   "metadata": {},
   "source": [
    "We now saved a file for the listing reviews and the next step is to do the same for the review features, we first collect and select all relevant features related to reviews that are in this listing dataset and nextly we add the LDA related sentiment scores that are extracted from the reviews dataset. We do this in a separate notebook."
   ]
  },
  {
   "cell_type": "code",
   "execution_count": 27,
   "metadata": {},
   "outputs": [],
   "source": [
    "#From listings_combined_basis, we keep the ID for merging purpose\n",
    "review_data = listings_combined_basis[['id', 'last_scraped','number_of_reviews', 'number_of_reviews_ltm', 'number_of_reviews_l30d',\n",
    "    'first_review', 'last_review', 'review_scores_rating',\n",
    "    'review_scores_accuracy', 'review_scores_cleanliness', 'review_scores_checkin',\n",
    "    'review_scores_communication', 'review_scores_location', 'review_scores_value',\n",
    "    'reviews_per_month']]"
   ]
  },
  {
   "cell_type": "code",
   "execution_count": 28,
   "metadata": {},
   "outputs": [],
   "source": [
    "#Change the rows of the review data to listings_combined3 to have the same subset of listings that are preprocessed similarly on the price variable.\n",
    "review_data = review_data[review_data['id'].isin(listings_combined3['id'])]\n"
   ]
  },
  {
   "cell_type": "code",
   "execution_count": 29,
   "metadata": {},
   "outputs": [
    {
     "data": {
      "text/plain": [
       "(18892, 15)"
      ]
     },
     "execution_count": 29,
     "metadata": {},
     "output_type": "execute_result"
    }
   ],
   "source": [
    "review_data.shape"
   ]
  },
  {
   "cell_type": "code",
   "execution_count": 30,
   "metadata": {},
   "outputs": [],
   "source": [
    "#Drop review_scores_rating, 'number_of_reviews_ltm', 'number_of_reviews_l30d'\n",
    "review_data.drop(columns=['review_scores_rating', 'number_of_reviews_ltm', 'reviews_per_month'], inplace=True)\n"
   ]
  },
  {
   "cell_type": "code",
   "execution_count": 31,
   "metadata": {},
   "outputs": [
    {
     "name": "stdout",
     "output_type": "stream",
     "text": [
      "review_scores_accuracy         2\n",
      "review_scores_cleanliness      3\n",
      "review_scores_checkin          3\n",
      "review_scores_communication    2\n",
      "review_scores_location         2\n",
      "review_scores_value            2\n",
      "dtype: int64\n"
     ]
    }
   ],
   "source": [
    "#Show missing values\n",
    "missing_values = review_data.isnull().sum()\n",
    "missing_values = missing_values[missing_values > 0]  # Filter only columns with missing values\n",
    "print(missing_values)"
   ]
  },
  {
   "cell_type": "code",
   "execution_count": 32,
   "metadata": {},
   "outputs": [
    {
     "name": "stdout",
     "output_type": "stream",
     "text": [
      "       id  number_of_reviews  number_of_reviews_l30d  review_scores_accuracy  \\\n",
      "0   71896                 24                       0                    4.22   \n",
      "1   71903                 46                       0                    4.39   \n",
      "2  275343                 20                       0                    4.16   \n",
      "3  275344                 16                       0                    4.44   \n",
      "4  294281                131                       0                    4.33   \n",
      "\n",
      "   review_scores_cleanliness  review_scores_checkin  \\\n",
      "0                       4.09                   4.43   \n",
      "1                       4.52                   4.63   \n",
      "2                       4.26                   4.47   \n",
      "3                       4.06                   4.50   \n",
      "4                       4.16                   4.50   \n",
      "\n",
      "   review_scores_communication  review_scores_location  review_scores_value  \\\n",
      "0                         4.43                    4.17                 4.04   \n",
      "1                         4.64                    4.50                 4.36   \n",
      "2                         4.42                    4.53                 4.63   \n",
      "3                         4.50                    4.63                 4.13   \n",
      "4                         4.66                    4.52                 4.39   \n",
      "\n",
      "   days_between_first_review  days_since_last_review  \n",
      "0                       4718                    1721  \n",
      "1                       4805                    1633  \n",
      "2                       4088                     686  \n",
      "3                       4447                     318  \n",
      "4                       4536                    1621  \n"
     ]
    },
    {
     "name": "stderr",
     "output_type": "stream",
     "text": [
      "C:\\Users\\PC\\AppData\\Local\\Temp\\ipykernel_14736\\394644142.py:18: FutureWarning: A value is trying to be set on a copy of a DataFrame or Series through chained assignment using an inplace method.\n",
      "The behavior will change in pandas 3.0. This inplace method will never work because the intermediate object on which we are setting values always behaves as a copy.\n",
      "\n",
      "For example, when doing 'df[col].method(value, inplace=True)', try using 'df.method({col: value}, inplace=True)' or df[col] = df[col].method(value) instead, to perform the operation inplace on the original object.\n",
      "\n",
      "\n",
      "  review_data['review_scores_accuracy'].fillna(review_data['review_scores_accuracy'].median(), inplace=True)\n",
      "C:\\Users\\PC\\AppData\\Local\\Temp\\ipykernel_14736\\394644142.py:19: FutureWarning: A value is trying to be set on a copy of a DataFrame or Series through chained assignment using an inplace method.\n",
      "The behavior will change in pandas 3.0. This inplace method will never work because the intermediate object on which we are setting values always behaves as a copy.\n",
      "\n",
      "For example, when doing 'df[col].method(value, inplace=True)', try using 'df.method({col: value}, inplace=True)' or df[col] = df[col].method(value) instead, to perform the operation inplace on the original object.\n",
      "\n",
      "\n",
      "  review_data['review_scores_cleanliness'].fillna(review_data['review_scores_cleanliness'].median(), inplace=True)\n",
      "C:\\Users\\PC\\AppData\\Local\\Temp\\ipykernel_14736\\394644142.py:20: FutureWarning: A value is trying to be set on a copy of a DataFrame or Series through chained assignment using an inplace method.\n",
      "The behavior will change in pandas 3.0. This inplace method will never work because the intermediate object on which we are setting values always behaves as a copy.\n",
      "\n",
      "For example, when doing 'df[col].method(value, inplace=True)', try using 'df.method({col: value}, inplace=True)' or df[col] = df[col].method(value) instead, to perform the operation inplace on the original object.\n",
      "\n",
      "\n",
      "  review_data['review_scores_checkin'].fillna(review_data['review_scores_checkin'].median(), inplace=True)\n",
      "C:\\Users\\PC\\AppData\\Local\\Temp\\ipykernel_14736\\394644142.py:21: FutureWarning: A value is trying to be set on a copy of a DataFrame or Series through chained assignment using an inplace method.\n",
      "The behavior will change in pandas 3.0. This inplace method will never work because the intermediate object on which we are setting values always behaves as a copy.\n",
      "\n",
      "For example, when doing 'df[col].method(value, inplace=True)', try using 'df.method({col: value}, inplace=True)' or df[col] = df[col].method(value) instead, to perform the operation inplace on the original object.\n",
      "\n",
      "\n",
      "  review_data['review_scores_communication'].fillna(review_data['review_scores_communication'].median(), inplace=True)\n",
      "C:\\Users\\PC\\AppData\\Local\\Temp\\ipykernel_14736\\394644142.py:22: FutureWarning: A value is trying to be set on a copy of a DataFrame or Series through chained assignment using an inplace method.\n",
      "The behavior will change in pandas 3.0. This inplace method will never work because the intermediate object on which we are setting values always behaves as a copy.\n",
      "\n",
      "For example, when doing 'df[col].method(value, inplace=True)', try using 'df.method({col: value}, inplace=True)' or df[col] = df[col].method(value) instead, to perform the operation inplace on the original object.\n",
      "\n",
      "\n",
      "  review_data['review_scores_location'].fillna(review_data['review_scores_location'].median(), inplace=True)\n",
      "C:\\Users\\PC\\AppData\\Local\\Temp\\ipykernel_14736\\394644142.py:23: FutureWarning: A value is trying to be set on a copy of a DataFrame or Series through chained assignment using an inplace method.\n",
      "The behavior will change in pandas 3.0. This inplace method will never work because the intermediate object on which we are setting values always behaves as a copy.\n",
      "\n",
      "For example, when doing 'df[col].method(value, inplace=True)', try using 'df.method({col: value}, inplace=True)' or df[col] = df[col].method(value) instead, to perform the operation inplace on the original object.\n",
      "\n",
      "\n",
      "  review_data['review_scores_value'].fillna(review_data['review_scores_value'].median(), inplace=True)\n"
     ]
    }
   ],
   "source": [
    "# Assuming listings_combined and review_data are already defined\n",
    "review_data = review_data.reset_index(drop=True)\n",
    "\n",
    "# Step 4: Add columns from columns to add to review_data\n",
    "review_data = review_data\n",
    "\n",
    "# Convert date columns to datetime\n",
    "review_data['first_review'] = pd.to_datetime(review_data['first_review'])\n",
    "review_data['last_review'] = pd.to_datetime(review_data['last_review'])\n",
    "review_data['last_scraped'] = pd.to_datetime(review_data['last_scraped'])\n",
    "\n",
    "# Create new columns for the number of days between first and last reviews\n",
    "review_data['days_between_first_review'] = (review_data['last_scraped'] - review_data['first_review']).dt.days\n",
    "review_data['days_since_last_review'] = (review_data['last_scraped'] - review_data['last_review']).dt.days\n",
    "\n",
    "# Step 5: Impute missing values \n",
    "review_data['number_of_reviews']\n",
    "review_data['review_scores_accuracy'].fillna(review_data['review_scores_accuracy'].median(), inplace=True)\n",
    "review_data['review_scores_cleanliness'].fillna(review_data['review_scores_cleanliness'].median(), inplace=True)\n",
    "review_data['review_scores_checkin'].fillna(review_data['review_scores_checkin'].median(), inplace=True)\n",
    "review_data['review_scores_communication'].fillna(review_data['review_scores_communication'].median(), inplace=True)\n",
    "review_data['review_scores_location'].fillna(review_data['review_scores_location'].median(), inplace=True)\n",
    "review_data['review_scores_value'].fillna(review_data['review_scores_value'].median(), inplace=True)\n",
    "\n",
    "# Drop the date columns if no longer needed\n",
    "review_data.drop(columns=['first_review', 'last_review', 'last_scraped'], inplace=True)\n",
    "\n",
    "# Print out the head of review_data to check the results\n",
    "print(review_data.head())\n",
    "\n"
   ]
  },
  {
   "cell_type": "code",
   "execution_count": 33,
   "metadata": {},
   "outputs": [
    {
     "data": {
      "text/plain": [
       "(18892, 11)"
      ]
     },
     "execution_count": 33,
     "metadata": {},
     "output_type": "execute_result"
    }
   ],
   "source": [
    "review_data.shape"
   ]
  },
  {
   "cell_type": "markdown",
   "metadata": {},
   "source": [
    "So the final shape of this review feature set is (210937,11)"
   ]
  },
  {
   "cell_type": "code",
   "execution_count": 34,
   "metadata": {},
   "outputs": [],
   "source": [
    "#save review_data to a csv file\n",
    "review_data.to_csv('listings_features_reviews_out_of_sample.csv', index=False)"
   ]
  }
 ],
 "metadata": {
  "kernelspec": {
   "display_name": "Python 3",
   "language": "python",
   "name": "python3"
  },
  "language_info": {
   "codemirror_mode": {
    "name": "ipython",
    "version": 3
   },
   "file_extension": ".py",
   "mimetype": "text/x-python",
   "name": "python",
   "nbconvert_exporter": "python",
   "pygments_lexer": "ipython3",
   "version": "3.13.0"
  }
 },
 "nbformat": 4,
 "nbformat_minor": 2
}
