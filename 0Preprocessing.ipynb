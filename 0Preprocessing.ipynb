{
 "cells": [
  {
   "cell_type": "code",
   "execution_count": 1,
   "metadata": {},
   "outputs": [],
   "source": [
    "import numpy as np\n",
    "import pandas as pd\n",
    "import matplotlib.pyplot as plt\n",
    "import seaborn as sns\n",
    "import pandas as pd\n",
    "import json\n",
    "from collections import Counter\n",
    "from sklearn.preprocessing import LabelEncoder\n",
    "from geopy.distance import geodesic\n",
    "# Set display options\n",
    "pd.set_option('display.max_columns', None)  # Show all columns\n",
    "pd.set_option('display.max_colwidth', None)  # Show full width of column content\n",
    "pd.set_option('display.max_rows', None)  # Show all rows"
   ]
  },
  {
   "cell_type": "markdown",
   "metadata": {},
   "source": [
    "In this notebook we do the preproceesing of the listings, either for replication as well as for the listings that we will combine with the sentiment data later on."
   ]
  },
  {
   "cell_type": "code",
   "execution_count": 2,
   "metadata": {},
   "outputs": [],
   "source": [
    "#Read the listings from csv files\n",
    "listings_amsterdam=pd.read_csv('listings_amsterdam.csv.gz')\n",
    "listings_chicago=pd.read_csv('listings_chicago.csv.gz')\n",
    "listings_london=pd.read_csv('listings_london.csv.gz')\n",
    "listings_los_angeles=pd.read_csv('listings_los_angeles.csv.gz')\n",
    "listings_new_york=pd.read_csv('listings_new_york.csv.gz')\n",
    "listings_paris=pd.read_csv('listings_paris.csv.gz')\n",
    "listings_melbourne=pd.read_csv('listings_melbourne.csv.gz')\n",
    "listings_rome=pd.read_csv('listings_rome.csv.gz')\n",
    "listings_sydney=pd.read_csv('listings_sydney.csv.gz')\n",
    "listings_venice=pd.read_csv('listings_venice.csv.gz')\n",
    "# Adding 'city' column to each dataframe\n",
    "listings_amsterdam['city'] = 'Amsterdam'\n",
    "listings_chicago['city'] = 'Chicago'\n",
    "listings_london['city'] = 'London'\n",
    "listings_los_angeles['city'] = 'Los Angeles'\n",
    "listings_new_york['city'] = 'New York'\n",
    "listings_paris['city'] = 'Paris'\n",
    "listings_melbourne['city'] = 'Melbourne'\n",
    "listings_rome['city'] = 'Rome'\n",
    "listings_sydney['city'] = 'Sydney'\n",
    "listings_venice['city'] = 'Venice'\n"
   ]
  },
  {
   "cell_type": "code",
   "execution_count": 3,
   "metadata": {},
   "outputs": [],
   "source": [
    "listings_combined=pd.concat([listings_amsterdam,listings_chicago,listings_london,listings_los_angeles,listings_new_york,listings_paris,listings_melbourne,listings_rome,listings_sydney,listings_venice])"
   ]
  },
  {
   "cell_type": "code",
   "execution_count": 4,
   "metadata": {},
   "outputs": [
    {
     "data": {
      "text/plain": [
       "(376028, 76)"
      ]
     },
     "execution_count": 4,
     "metadata": {},
     "output_type": "execute_result"
    }
   ],
   "source": [
    "listings_combined.shape"
   ]
  },
  {
   "cell_type": "markdown",
   "metadata": {},
   "source": [
    "Check for duplicates"
   ]
  },
  {
   "cell_type": "code",
   "execution_count": 5,
   "metadata": {},
   "outputs": [
    {
     "data": {
      "text/plain": [
       "np.int64(0)"
      ]
     },
     "execution_count": 5,
     "metadata": {},
     "output_type": "execute_result"
    }
   ],
   "source": [
    "#Show duplicates\n",
    "listings_combined.duplicated().sum()"
   ]
  },
  {
   "cell_type": "markdown",
   "metadata": {},
   "source": [
    "Originally we have a total amount of 376028 listings, in the next section we are going to check which columns contain missing values."
   ]
  },
  {
   "cell_type": "code",
   "execution_count": 6,
   "metadata": {},
   "outputs": [
    {
     "name": "stdout",
     "output_type": "stream",
     "text": [
      "name                                 3\n",
      "description                      13388\n",
      "neighborhood_overview           182034\n",
      "picture_url                         14\n",
      "host_name                           20\n",
      "host_since                          20\n",
      "host_location                    83912\n",
      "host_about                      185577\n",
      "host_response_time              119095\n",
      "host_response_rate              119095\n",
      "host_acceptance_rate             96695\n",
      "host_is_superhost                 8635\n",
      "host_thumbnail_url                  20\n",
      "host_picture_url                    20\n",
      "host_neighbourhood              188251\n",
      "host_listings_count                 20\n",
      "host_total_listings_count           20\n",
      "host_verifications                  20\n",
      "host_has_profile_pic                20\n",
      "host_identity_verified              20\n",
      "neighbourhood                   182029\n",
      "neighbourhood_group_cleansed    284632\n",
      "bathrooms                       104317\n",
      "bathrooms_text                     414\n",
      "bedrooms                         33029\n",
      "beds                            104966\n",
      "price                           104246\n",
      "minimum_minimum_nights              10\n",
      "maximum_minimum_nights              10\n",
      "minimum_maximum_nights              10\n",
      "maximum_maximum_nights              10\n",
      "minimum_nights_avg_ntm              10\n",
      "maximum_nights_avg_ntm              10\n",
      "calendar_updated                376028\n",
      "has_availability                 20057\n",
      "first_review                     91652\n",
      "last_review                      91652\n",
      "review_scores_rating             91652\n",
      "review_scores_accuracy           91723\n",
      "review_scores_cleanliness        91701\n",
      "review_scores_checkin            91777\n",
      "review_scores_communication      91722\n",
      "review_scores_location           91785\n",
      "review_scores_value              91784\n",
      "license                         236319\n",
      "reviews_per_month                91652\n",
      "dtype: int64\n"
     ]
    }
   ],
   "source": [
    "missing_values = listings_combined.isnull().sum()\n",
    "missing_values = missing_values[missing_values > 0]  # Filter only columns with missing values\n",
    "print(missing_values)"
   ]
  },
  {
   "cell_type": "code",
   "execution_count": 7,
   "metadata": {},
   "outputs": [],
   "source": [
    "#show the fields where first_review is missing, but price is not missing\n",
    "listings_without_reviews= listings_combined[(listings_combined['first_review'].isnull()) & (listings_combined['price'].notnull())]\n"
   ]
  },
  {
   "cell_type": "code",
   "execution_count": 8,
   "metadata": {},
   "outputs": [],
   "source": [
    "#Save as extra out-of sample test data\n",
    "listings_without_reviews.to_csv('listings_without_reviews.csv',index=False)"
   ]
  },
  {
   "cell_type": "markdown",
   "metadata": {},
   "source": [
    "The goal of this research is to predict the price of the listing, therefore all listings where information about the price is missing are deleted. Besides that we see that first review, last_review and review_scores_rating has the same amount of missing values, which suggest that information about reviews is missing for these listings, so we check what happen if the missing values of one of these columns, in this case first_review are also deleted.\n",
    "We do this because for our research we want to see the influence of review-related features on the price, for listings with reviews."
   ]
  },
  {
   "cell_type": "code",
   "execution_count": 9,
   "metadata": {},
   "outputs": [],
   "source": [
    "listings_combined_basis = listings_combined.dropna(subset=['id', 'price','first_review'])"
   ]
  },
  {
   "cell_type": "markdown",
   "metadata": {},
   "source": [
    "We check for missing values again."
   ]
  },
  {
   "cell_type": "code",
   "execution_count": 10,
   "metadata": {},
   "outputs": [
    {
     "name": "stdout",
     "output_type": "stream",
     "text": [
      "description                       4958\n",
      "neighborhood_overview            89052\n",
      "picture_url                          7\n",
      "host_location                    45864\n",
      "host_about                       96026\n",
      "host_response_time               23950\n",
      "host_response_rate               23950\n",
      "host_acceptance_rate             12360\n",
      "host_is_superhost                 6463\n",
      "host_neighbourhood              107991\n",
      "neighbourhood                    89051\n",
      "neighbourhood_group_cleansed    160236\n",
      "bathrooms                           60\n",
      "bathrooms_text                     174\n",
      "bedrooms                           165\n",
      "beds                               401\n",
      "calendar_updated                211317\n",
      "has_availability                    54\n",
      "review_scores_accuracy              29\n",
      "review_scores_cleanliness           30\n",
      "review_scores_checkin               38\n",
      "review_scores_communication         27\n",
      "review_scores_location              39\n",
      "review_scores_value                 38\n",
      "license                         120612\n",
      "dtype: int64\n"
     ]
    }
   ],
   "source": [
    "missing_values2 = listings_combined_basis.isnull().sum()\n",
    "missing_values2 = missing_values2[missing_values2 > 0]  # Filter only columns with missing values\n",
    "print(missing_values2)"
   ]
  },
  {
   "cell_type": "code",
   "execution_count": 11,
   "metadata": {},
   "outputs": [
    {
     "data": {
      "text/plain": [
       "(211317, 76)"
      ]
     },
     "execution_count": 11,
     "metadata": {},
     "output_type": "execute_result"
    }
   ],
   "source": [
    "listings_combined_basis.shape"
   ]
  },
  {
   "cell_type": "markdown",
   "metadata": {},
   "source": [
    "After general preprocessing, we keep 211,317 listings."
   ]
  },
  {
   "cell_type": "code",
   "execution_count": 12,
   "metadata": {},
   "outputs": [
    {
     "data": {
      "text/plain": [
       "id                                                int64\n",
       "listing_url                                      object\n",
       "scrape_id                                         int64\n",
       "last_scraped                                     object\n",
       "source                                           object\n",
       "name                                             object\n",
       "description                                      object\n",
       "neighborhood_overview                            object\n",
       "picture_url                                      object\n",
       "host_id                                           int64\n",
       "host_url                                         object\n",
       "host_name                                        object\n",
       "host_since                                       object\n",
       "host_location                                    object\n",
       "host_about                                       object\n",
       "host_response_time                               object\n",
       "host_response_rate                               object\n",
       "host_acceptance_rate                             object\n",
       "host_is_superhost                                object\n",
       "host_thumbnail_url                               object\n",
       "host_picture_url                                 object\n",
       "host_neighbourhood                               object\n",
       "host_listings_count                             float64\n",
       "host_total_listings_count                       float64\n",
       "host_verifications                               object\n",
       "host_has_profile_pic                             object\n",
       "host_identity_verified                           object\n",
       "neighbourhood                                    object\n",
       "neighbourhood_cleansed                           object\n",
       "neighbourhood_group_cleansed                     object\n",
       "latitude                                        float64\n",
       "longitude                                       float64\n",
       "property_type                                    object\n",
       "room_type                                        object\n",
       "accommodates                                      int64\n",
       "bathrooms                                       float64\n",
       "bathrooms_text                                   object\n",
       "bedrooms                                        float64\n",
       "beds                                            float64\n",
       "amenities                                        object\n",
       "price                                            object\n",
       "minimum_nights                                    int64\n",
       "maximum_nights                                    int64\n",
       "minimum_minimum_nights                          float64\n",
       "maximum_minimum_nights                          float64\n",
       "minimum_maximum_nights                          float64\n",
       "maximum_maximum_nights                          float64\n",
       "minimum_nights_avg_ntm                          float64\n",
       "maximum_nights_avg_ntm                          float64\n",
       "calendar_updated                                float64\n",
       "has_availability                                 object\n",
       "availability_30                                   int64\n",
       "availability_60                                   int64\n",
       "availability_90                                   int64\n",
       "availability_365                                  int64\n",
       "calendar_last_scraped                            object\n",
       "number_of_reviews                                 int64\n",
       "number_of_reviews_ltm                             int64\n",
       "number_of_reviews_l30d                            int64\n",
       "first_review                                     object\n",
       "last_review                                      object\n",
       "review_scores_rating                            float64\n",
       "review_scores_accuracy                          float64\n",
       "review_scores_cleanliness                       float64\n",
       "review_scores_checkin                           float64\n",
       "review_scores_communication                     float64\n",
       "review_scores_location                          float64\n",
       "review_scores_value                             float64\n",
       "license                                          object\n",
       "instant_bookable                                 object\n",
       "calculated_host_listings_count                    int64\n",
       "calculated_host_listings_count_entire_homes       int64\n",
       "calculated_host_listings_count_private_rooms      int64\n",
       "calculated_host_listings_count_shared_rooms       int64\n",
       "reviews_per_month                               float64\n",
       "city                                             object\n",
       "dtype: object"
      ]
     },
     "execution_count": 12,
     "metadata": {},
     "output_type": "execute_result"
    }
   ],
   "source": [
    "listings_combined_basis.dtypes"
   ]
  },
  {
   "cell_type": "markdown",
   "metadata": {},
   "source": [
    "We find that by deleting all missing values of price and first_review, the missing values of other review columns, such as last_review and review_scores_rating are also deleted. This means we keep 211.317 listings, which are a bit less than the 287.579 listings that are used in the research of (Peng et al., 2020), although if we count the columns in table 1 of (Peng et al., 2020), there are 214.457 listings used which are much closer to the 211.317 listing that we keep in our research. Besides that the code above shows that the number of listings differs between the different cities, which is also the case in the research of (Peng et al., 2020) as can be seen in table 2.\n"
   ]
  },
  {
   "cell_type": "markdown",
   "metadata": {},
   "source": [
    "In the next step we are going to decide per column why we keep or delete it for research question 2, we also mention if a feature is mentioned in the replication and therefore relevant for Research question 1, besides that we  mention what the type of the data is:\n",
    "\n",
    "-id, we should keep this column, because it is the listing id and therefore the key column. The type is integer.\n",
    "\n",
    "-listing_url, we delete this columns because it has no added value for the analysis.\n",
    "\n",
    "-scrape_id, we delete this columns because it has no added value for the analysis.\n",
    "\n",
    "-last_scraped, we decide to keep this column, because the price depends on the day it is scraped and this is relevant information. The type is date.\n",
    "\n",
    "-source, after some research we found that source can have 2 values, either city scrape or previous scrape, suppose that a listing is already booked, than it is not visible in the city scrape, while it is visible in previous scrape. However, the price is not visible anymore, because we already deleted the missing values of price, the source is always city scrape as shown by code above. Therefore it does not make sense to keep this column for the analysis.\n",
    "\n",
    "-name and description,  we can use vectorizing to get interesting information out of these column. But we decide to delete it, because we already have a lot of information comparable to the name and description in the dataset. Besides that, getting useful features out of these features requires vectorizing, for example tf-idf vectorizing which will lead to a lot of columns and because there are already a lot of rows, this will be computationally hard.\n",
    "\n",
    "-neighborhood_overview, because this column has a lot of missing values. We decide to make it binary. The overview is either available=1 or missing=0.\n",
    "\n",
    "-picture_url, host_id, host_url and host_name are deleted, because they are not relevant for this research.\n",
    "\n",
    "-host_since (Replication), this column is kept as in the study of (Peng, 2020) and has type date. \n",
    "\n",
    "-host_location and host_about also have a lot of missing values and therefore we also decide to make this column binary\n",
    "\n",
    "-host_response_time, has 4 different options, within an hour, within a few hours , within a day or a few days or more. We use one-hot encoding to categorize these variables.\n",
    "\n",
    "-host_response_rate and host_acceptance_rate are made numerical and kept in the study.\n",
    "\n",
    "-host_is_superhost is made binary, where f=0 and t=1 and kept for the study.\n",
    "\n",
    "-host_thumbnail_url and host_picture_url and host_neighborhood are deleted, because they are not relevant for the study.\n",
    "\n",
    "-host_listings_count (Replication) is kept, but we delete host_total_listing_count as we expect it to be highly correlated with host_listing_count.\n",
    "\n",
    "-host_verifications does not seem relevant and are deleted.\n",
    "\n",
    "-host_has_profile_pic (Replication) and host_identity_verified are made binary, where f=0 and t=1 and are kept for the study.\n",
    "\n",
    "-We decide to delete neighborhood_cleansed, because there are so much neighborhoods in the dataset \n",
    "\n",
    "-We decide to delete neighborhood_group_cleansed as it is only available in one city and therefore all the others are missing values.\n",
    "\n",
    "-We decide to keep lantitude and longtitude and want to use the average lantitude and longtitude per city to calculate the distance to the mean_central_location. In Peng they use the is_location_exact feature, but it is not clear for me what is exactly meant with this feature.\n",
    "\n",
    "-We keep property_type and use one-hot encoding for all neighborhoods which has between  X counts in the dataset.\n",
    "\n",
    "-room_type (Replication) has 4 different options, Entire home/apt , Private room, Hotel room and Shared room. We use one-hot encoding to categorize these variables\n",
    "\n",
    "-Accomodates (Replication) is kept as integer.\n",
    "\n",
    "-Bathrooms (Replication), bedrooms(Replication) are kept as integers.\n",
    "\n",
    "-Beds is deleted as it highly correlates with the accomodates variable.\n",
    "\n",
    "-Bathrooms_text is deleted as it does not add value to the analysis.\n",
    "\n",
    "-We decide to use one-hot encoding for the amenities, and design features for the amenities which are counted between 10 and 90 percent of the time.\n",
    "\n",
    "-price is going to be adjusted to be an integer and is going to be the test variable of our dataset.\n",
    "\n",
    "-We choose to use minimum_nights (Replication) and maximum_nights and delete all related variables such as minimum_minimum_nights, maximum_minimum_nights, minimum_maximum_nights, maximum_maximum_nights, minimum_nights_avg_ntm and maximum_nights_avg_ntm.\n",
    "\n",
    "-We choose to delete calendar_updated as it has only missing values.\n",
    "\n",
    "-We choose to delete has_availability, because this is true and should be true for (almost) all listings and therefore this feature does not add value to the analysis.\n",
    "\n",
    "-We choose to keep avialability_365 (Replication) as an integer and therefore delete availability_30, availability_60, availability_90 as features. Because keeping all these columns would lead to overlapping information.\n",
    "\n",
    "-We delete calendar_last_scraped, because it is almost the same as the last_scraped column\n",
    "\n",
    "-We delete license, because it is not relevant for the study\n",
    "\n",
    "-We decide to keep instant_bookable and make it binary, where f=0 and t=1.\n",
    "\n",
    "-calculated_host_listings_count, calculated_host_listings_count_entire_homes, calculated_host_listings_count_private_rooms and calculated_host_listings_count_shared_rooms are deleted, because they will have no added value for the study\n",
    "\n",
    "-City is categorized by using one-hot encoding.\n",
    "\n",
    "-All other features/columns are related to the reviews or the review scores and therefore we take them out of scope of the listing study"
   ]
  },
  {
   "cell_type": "markdown",
   "metadata": {},
   "source": [
    "First we are going to use the same features as in the research of Peng, compared to this paper, three features that are used in the analysis of Peng are deleted from the data source. Those 3 are 'is_location_exact', 'guest_included' and 'cancellation_policy'. We make the assumption that those three features do not have added value to the predictions. Next to that, the paper uses the feature host_since, which has the type date. We make the assumption to take the difference between the 'last_scraped' and 'host_since' dates, and call this feature host_duration. Because there has to be a numerical value, otherwise the feature can not be used in the analysis."
   ]
  },
  {
   "cell_type": "code",
   "execution_count": 13,
   "metadata": {},
   "outputs": [],
   "source": [
    "#Replication\n",
    "replicated_features=['id','last_scraped', 'host_since', 'price', 'host_has_profile_pic', 'room_type', 'accommodates', 'bathrooms', 'bedrooms', 'minimum_nights', 'availability_365', 'number_of_reviews', 'reviews_per_month']"
   ]
  },
  {
   "cell_type": "code",
   "execution_count": 14,
   "metadata": {},
   "outputs": [],
   "source": [
    "listings_combined2=listings_combined_basis"
   ]
  },
  {
   "cell_type": "code",
   "execution_count": 15,
   "metadata": {},
   "outputs": [],
   "source": [
    "replication=listings_combined2[replicated_features]"
   ]
  },
  {
   "cell_type": "code",
   "execution_count": 16,
   "metadata": {},
   "outputs": [
    {
     "name": "stdout",
     "output_type": "stream",
     "text": [
      "bathrooms     60\n",
      "bedrooms     165\n",
      "dtype: int64\n"
     ]
    }
   ],
   "source": [
    "missing_values3 = replication.isnull().sum()\n",
    "missing_values3 = missing_values3[missing_values3 > 0]  # Filter only columns with missing values\n",
    "print(missing_values3)"
   ]
  },
  {
   "cell_type": "markdown",
   "metadata": {},
   "source": [
    "As we can see there are only two columns left that contain missing values, like in the study of 'Peng' we impute these missing values by the mean."
   ]
  },
  {
   "cell_type": "code",
   "execution_count": 17,
   "metadata": {},
   "outputs": [
    {
     "name": "stderr",
     "output_type": "stream",
     "text": [
      "<>:16: SyntaxWarning: invalid escape sequence '\\$'\n",
      "<>:16: SyntaxWarning: invalid escape sequence '\\$'\n",
      "C:\\Users\\PC\\AppData\\Local\\Temp\\ipykernel_15544\\4051636652.py:16: SyntaxWarning: invalid escape sequence '\\$'\n",
      "  replication['price'] = replication['price'].replace('[\\$,]', '', regex=True).astype(float)\n",
      "C:\\Users\\PC\\AppData\\Local\\Temp\\ipykernel_15544\\4051636652.py:2: SettingWithCopyWarning: \n",
      "A value is trying to be set on a copy of a slice from a DataFrame.\n",
      "Try using .loc[row_indexer,col_indexer] = value instead\n",
      "\n",
      "See the caveats in the documentation: https://pandas.pydata.org/pandas-docs/stable/user_guide/indexing.html#returning-a-view-versus-a-copy\n",
      "  replication['bathrooms'] = replication['bathrooms'].fillna(replication['bathrooms'].mean())\n",
      "C:\\Users\\PC\\AppData\\Local\\Temp\\ipykernel_15544\\4051636652.py:3: SettingWithCopyWarning: \n",
      "A value is trying to be set on a copy of a slice from a DataFrame.\n",
      "Try using .loc[row_indexer,col_indexer] = value instead\n",
      "\n",
      "See the caveats in the documentation: https://pandas.pydata.org/pandas-docs/stable/user_guide/indexing.html#returning-a-view-versus-a-copy\n",
      "  replication['bedrooms'] = replication['bedrooms'].fillna(replication['bedrooms'].mean())\n",
      "C:\\Users\\PC\\AppData\\Local\\Temp\\ipykernel_15544\\4051636652.py:7: SettingWithCopyWarning: \n",
      "A value is trying to be set on a copy of a slice from a DataFrame.\n",
      "Try using .loc[row_indexer,col_indexer] = value instead\n",
      "\n",
      "See the caveats in the documentation: https://pandas.pydata.org/pandas-docs/stable/user_guide/indexing.html#returning-a-view-versus-a-copy\n",
      "  replication['room_type'] = replication['room_type'].astype('category').cat.codes\n",
      "C:\\Users\\PC\\AppData\\Local\\Temp\\ipykernel_15544\\4051636652.py:10: SettingWithCopyWarning: \n",
      "A value is trying to be set on a copy of a slice from a DataFrame.\n",
      "Try using .loc[row_indexer,col_indexer] = value instead\n",
      "\n",
      "See the caveats in the documentation: https://pandas.pydata.org/pandas-docs/stable/user_guide/indexing.html#returning-a-view-versus-a-copy\n",
      "  replication['last_scraped'] = pd.to_datetime(listings_combined2['last_scraped'])\n",
      "C:\\Users\\PC\\AppData\\Local\\Temp\\ipykernel_15544\\4051636652.py:11: SettingWithCopyWarning: \n",
      "A value is trying to be set on a copy of a slice from a DataFrame.\n",
      "Try using .loc[row_indexer,col_indexer] = value instead\n",
      "\n",
      "See the caveats in the documentation: https://pandas.pydata.org/pandas-docs/stable/user_guide/indexing.html#returning-a-view-versus-a-copy\n",
      "  replication['host_since'] = pd.to_datetime(listings_combined2['host_since'])\n",
      "C:\\Users\\PC\\AppData\\Local\\Temp\\ipykernel_15544\\4051636652.py:12: SettingWithCopyWarning: \n",
      "A value is trying to be set on a copy of a slice from a DataFrame.\n",
      "Try using .loc[row_indexer,col_indexer] = value instead\n",
      "\n",
      "See the caveats in the documentation: https://pandas.pydata.org/pandas-docs/stable/user_guide/indexing.html#returning-a-view-versus-a-copy\n",
      "  replication['host_duration'] = (replication['last_scraped'] - replication['host_since']).dt.days\n",
      "C:\\Users\\PC\\AppData\\Local\\Temp\\ipykernel_15544\\4051636652.py:13: SettingWithCopyWarning: \n",
      "A value is trying to be set on a copy of a slice from a DataFrame\n",
      "\n",
      "See the caveats in the documentation: https://pandas.pydata.org/pandas-docs/stable/user_guide/indexing.html#returning-a-view-versus-a-copy\n",
      "  replication.drop(columns=['last_scraped', 'host_since'], inplace=True)\n",
      "C:\\Users\\PC\\AppData\\Local\\Temp\\ipykernel_15544\\4051636652.py:16: SettingWithCopyWarning: \n",
      "A value is trying to be set on a copy of a slice from a DataFrame.\n",
      "Try using .loc[row_indexer,col_indexer] = value instead\n",
      "\n",
      "See the caveats in the documentation: https://pandas.pydata.org/pandas-docs/stable/user_guide/indexing.html#returning-a-view-versus-a-copy\n",
      "  replication['price'] = replication['price'].replace('[\\$,]', '', regex=True).astype(float)\n",
      "C:\\Users\\PC\\AppData\\Local\\Temp\\ipykernel_15544\\4051636652.py:19: FutureWarning: Downcasting behavior in `replace` is deprecated and will be removed in a future version. To retain the old behavior, explicitly call `result.infer_objects(copy=False)`. To opt-in to the future behavior, set `pd.set_option('future.no_silent_downcasting', True)`\n",
      "  replication['host_has_profile_pic'] = replication['host_has_profile_pic'].replace({'t': 1, 'f': 0})\n",
      "C:\\Users\\PC\\AppData\\Local\\Temp\\ipykernel_15544\\4051636652.py:19: SettingWithCopyWarning: \n",
      "A value is trying to be set on a copy of a slice from a DataFrame.\n",
      "Try using .loc[row_indexer,col_indexer] = value instead\n",
      "\n",
      "See the caveats in the documentation: https://pandas.pydata.org/pandas-docs/stable/user_guide/indexing.html#returning-a-view-versus-a-copy\n",
      "  replication['host_has_profile_pic'] = replication['host_has_profile_pic'].replace({'t': 1, 'f': 0})\n",
      "C:\\Users\\PC\\AppData\\Local\\Temp\\ipykernel_15544\\4051636652.py:22: FutureWarning: DataFrame.applymap has been deprecated. Use DataFrame.map instead.\n",
      "  replication = replication.applymap(lambda x: 1 if x is True else (0 if x is False else x))\n"
     ]
    },
    {
     "data": {
      "text/html": [
       "<div>\n",
       "<style scoped>\n",
       "    .dataframe tbody tr th:only-of-type {\n",
       "        vertical-align: middle;\n",
       "    }\n",
       "\n",
       "    .dataframe tbody tr th {\n",
       "        vertical-align: top;\n",
       "    }\n",
       "\n",
       "    .dataframe thead th {\n",
       "        text-align: right;\n",
       "    }\n",
       "</style>\n",
       "<table border=\"1\" class=\"dataframe\">\n",
       "  <thead>\n",
       "    <tr style=\"text-align: right;\">\n",
       "      <th></th>\n",
       "      <th>id</th>\n",
       "      <th>price</th>\n",
       "      <th>host_has_profile_pic</th>\n",
       "      <th>room_type</th>\n",
       "      <th>accommodates</th>\n",
       "      <th>bathrooms</th>\n",
       "      <th>bedrooms</th>\n",
       "      <th>minimum_nights</th>\n",
       "      <th>availability_365</th>\n",
       "      <th>number_of_reviews</th>\n",
       "      <th>reviews_per_month</th>\n",
       "      <th>host_duration</th>\n",
       "    </tr>\n",
       "  </thead>\n",
       "  <tbody>\n",
       "    <tr>\n",
       "      <th>10</th>\n",
       "      <td>888038298563003925</td>\n",
       "      <td>269.0</td>\n",
       "      <td>1</td>\n",
       "      <td>2</td>\n",
       "      <td>3</td>\n",
       "      <td>1.0</td>\n",
       "      <td>1.0</td>\n",
       "      <td>1</td>\n",
       "      <td>323</td>\n",
       "      <td>8</td>\n",
       "      <td>0.37</td>\n",
       "      <td>1750</td>\n",
       "    </tr>\n",
       "    <tr>\n",
       "      <th>31</th>\n",
       "      <td>50666229</td>\n",
       "      <td>254.0</td>\n",
       "      <td>1</td>\n",
       "      <td>2</td>\n",
       "      <td>4</td>\n",
       "      <td>1.0</td>\n",
       "      <td>2.0</td>\n",
       "      <td>4</td>\n",
       "      <td>275</td>\n",
       "      <td>165</td>\n",
       "      <td>4.37</td>\n",
       "      <td>1214</td>\n",
       "    </tr>\n",
       "    <tr>\n",
       "      <th>32</th>\n",
       "      <td>933523</td>\n",
       "      <td>203.0</td>\n",
       "      <td>1</td>\n",
       "      <td>2</td>\n",
       "      <td>4</td>\n",
       "      <td>1.5</td>\n",
       "      <td>2.0</td>\n",
       "      <td>3</td>\n",
       "      <td>10</td>\n",
       "      <td>140</td>\n",
       "      <td>1.11</td>\n",
       "      <td>4225</td>\n",
       "    </tr>\n",
       "    <tr>\n",
       "      <th>34</th>\n",
       "      <td>656222143862971193</td>\n",
       "      <td>599.0</td>\n",
       "      <td>1</td>\n",
       "      <td>0</td>\n",
       "      <td>2</td>\n",
       "      <td>1.0</td>\n",
       "      <td>1.0</td>\n",
       "      <td>3</td>\n",
       "      <td>247</td>\n",
       "      <td>14</td>\n",
       "      <td>0.56</td>\n",
       "      <td>3332</td>\n",
       "    </tr>\n",
       "    <tr>\n",
       "      <th>36</th>\n",
       "      <td>20259345</td>\n",
       "      <td>109.0</td>\n",
       "      <td>1</td>\n",
       "      <td>2</td>\n",
       "      <td>2</td>\n",
       "      <td>1.5</td>\n",
       "      <td>1.0</td>\n",
       "      <td>1</td>\n",
       "      <td>40</td>\n",
       "      <td>712</td>\n",
       "      <td>9.06</td>\n",
       "      <td>3631</td>\n",
       "    </tr>\n",
       "  </tbody>\n",
       "</table>\n",
       "</div>"
      ],
      "text/plain": [
       "                    id  price  host_has_profile_pic  room_type  accommodates  \\\n",
       "10  888038298563003925  269.0                     1          2             3   \n",
       "31            50666229  254.0                     1          2             4   \n",
       "32              933523  203.0                     1          2             4   \n",
       "34  656222143862971193  599.0                     1          0             2   \n",
       "36            20259345  109.0                     1          2             2   \n",
       "\n",
       "    bathrooms  bedrooms  minimum_nights  availability_365  number_of_reviews  \\\n",
       "10        1.0       1.0               1               323                  8   \n",
       "31        1.0       2.0               4               275                165   \n",
       "32        1.5       2.0               3                10                140   \n",
       "34        1.0       1.0               3               247                 14   \n",
       "36        1.5       1.0               1                40                712   \n",
       "\n",
       "    reviews_per_month  host_duration  \n",
       "10               0.37           1750  \n",
       "31               4.37           1214  \n",
       "32               1.11           4225  \n",
       "34               0.56           3332  \n",
       "36               9.06           3631  "
      ]
     },
     "execution_count": 17,
     "metadata": {},
     "output_type": "execute_result"
    }
   ],
   "source": [
    "# Impute missing values in bathrooms and bedrooms columns with the mean\n",
    "replication['bathrooms'] = replication['bathrooms'].fillna(replication['bathrooms'].mean())\n",
    "replication['bedrooms'] = replication['bedrooms'].fillna(replication['bedrooms'].mean())\n",
    "\n",
    "# Convert room_type to a categorical variable with numerical values if it exists\n",
    "if 'room_type' in replication.columns:\n",
    "    replication['room_type'] = replication['room_type'].astype('category').cat.codes\n",
    "\n",
    "# Convert date columns to datetime and calculate host duration\n",
    "replication['last_scraped'] = pd.to_datetime(listings_combined2['last_scraped'])\n",
    "replication['host_since'] = pd.to_datetime(listings_combined2['host_since'])\n",
    "replication['host_duration'] = (replication['last_scraped'] - replication['host_since']).dt.days\n",
    "replication.drop(columns=['last_scraped', 'host_since'], inplace=True)\n",
    "\n",
    "# Convert price to float\n",
    "replication['price'] = replication['price'].replace('[\\$,]', '', regex=True).astype(float)\n",
    "\n",
    "# Replace 't'/'f' with 1/0 for host_has_profile_pic\n",
    "replication['host_has_profile_pic'] = replication['host_has_profile_pic'].replace({'t': 1, 'f': 0})\n",
    "\n",
    "# Apply lambda function to convert True/False to 1/0\n",
    "replication = replication.applymap(lambda x: 1 if x is True else (0 if x is False else x))\n",
    "\n",
    "# Display the first few rows of the dataframe\n",
    "replication.head()\n",
    "\n"
   ]
  },
  {
   "cell_type": "markdown",
   "metadata": {},
   "source": [
    "We do the same preprocessing steps as in the replication and choose to remove the listings with a price below 0 or above 500."
   ]
  },
  {
   "cell_type": "code",
   "execution_count": 18,
   "metadata": {},
   "outputs": [
    {
     "data": {
      "text/plain": [
       "(200361, 12)"
      ]
     },
     "execution_count": 18,
     "metadata": {},
     "output_type": "execute_result"
    }
   ],
   "source": [
    "# Eliminate data of houses with prices greater than $500 or less than or equal to $0\n",
    "replication = replication[(replication['price'] > 0) & (replication['price'] <= 500)]\n",
    "\n",
    "# Apply logarithmic transformation to the price column\n",
    "replication['price'] = np.log1p(replication['price'])\n",
    "\n",
    "replication.shape"
   ]
  },
  {
   "cell_type": "code",
   "execution_count": 19,
   "metadata": {},
   "outputs": [
    {
     "data": {
      "image/png": "[encoded data removed]",
      "text/plain": [
       "<Figure size 1000x600 with 1 Axes>"
      ]
     },
     "metadata": {},
     "output_type": "display_data"
    }
   ],
   "source": [
    "# Visualize the distribution of the log-transformed price\n",
    "# Visualize price distribution to analyze outliers\n",
    "plt.figure(figsize=(10, 6))\n",
    "sns.histplot(replication['price'], bins=50, kde=True)\n",
    "plt.xlabel('Log-transformed Price')\n",
    "plt.ylabel('Frequency')\n",
    "plt.title('Distribution of Log-transformed Airbnb Prices')\n",
    "plt.show()\n"
   ]
  },
  {
   "cell_type": "code",
   "execution_count": 20,
   "metadata": {},
   "outputs": [],
   "source": [
    "replication.to_csv('replication.csv', index=False)"
   ]
  },
  {
   "cell_type": "markdown",
   "metadata": {},
   "source": [
    "Now I continue experimenting with my own design feature sets. In the first approach we test one-hot encoding."
   ]
  },
  {
   "cell_type": "code",
   "execution_count": 21,
   "metadata": {},
   "outputs": [
    {
     "name": "stdout",
     "output_type": "stream",
     "text": [
      "description                       4958\n",
      "neighborhood_overview            89052\n",
      "picture_url                          7\n",
      "host_location                    45864\n",
      "host_about                       96026\n",
      "host_response_time               23950\n",
      "host_response_rate               23950\n",
      "host_acceptance_rate             12360\n",
      "host_is_superhost                 6463\n",
      "host_neighbourhood              107991\n",
      "neighbourhood                    89051\n",
      "neighbourhood_group_cleansed    160236\n",
      "bathrooms                           60\n",
      "bathrooms_text                     174\n",
      "bedrooms                           165\n",
      "beds                               401\n",
      "calendar_updated                211317\n",
      "has_availability                    54\n",
      "review_scores_accuracy              29\n",
      "review_scores_cleanliness           30\n",
      "review_scores_checkin               38\n",
      "review_scores_communication         27\n",
      "review_scores_location              39\n",
      "review_scores_value                 38\n",
      "license                         120612\n",
      "dtype: int64\n"
     ]
    }
   ],
   "source": [
    "#Show the missing values of listings_combined_basis\n",
    "missing_values2 = listings_combined_basis.isnull().sum()\n",
    "#Show missing values if there are any\n",
    "missing_values2 = missing_values2[missing_values2 > 0]  # Filter only columns with missing values\n",
    "print(missing_values2)"
   ]
  },
  {
   "cell_type": "markdown",
   "metadata": {},
   "source": [
    "There is one formula that we have designed to calculate the distance to the center"
   ]
  },
  {
   "cell_type": "code",
   "execution_count": 22,
   "metadata": {},
   "outputs": [],
   "source": [
    "# Calculate distance to the city center for each listing\n",
    "def calculate_distance(row):\n",
    "    return geodesic((row['latitude'], row['longitude']), (row['mean_latitude'], row['mean_longitude'])).km"
   ]
  },
  {
   "cell_type": "code",
   "execution_count": 23,
   "metadata": {},
   "outputs": [],
   "source": [
    "from sklearn.preprocessing import OrdinalEncoder"
   ]
  },
  {
   "cell_type": "code",
   "execution_count": 24,
   "metadata": {},
   "outputs": [
    {
     "name": "stderr",
     "output_type": "stream",
     "text": [
      "<>:81: SyntaxWarning: invalid escape sequence '\\$'\n",
      "<>:81: SyntaxWarning: invalid escape sequence '\\$'\n",
      "C:\\Users\\PC\\AppData\\Local\\Temp\\ipykernel_15544\\1166594977.py:81: SyntaxWarning: invalid escape sequence '\\$'\n",
      "  listings_combined3['price'] = listings_combined3['price'].replace('[\\$,]', '', regex=True).astype(float)\n",
      "C:\\Users\\PC\\AppData\\Local\\Temp\\ipykernel_15544\\1166594977.py:22: SettingWithCopyWarning: \n",
      "A value is trying to be set on a copy of a slice from a DataFrame.\n",
      "Try using .loc[row_indexer,col_indexer] = value instead\n",
      "\n",
      "See the caveats in the documentation: https://pandas.pydata.org/pandas-docs/stable/user_guide/indexing.html#returning-a-view-versus-a-copy\n",
      "  listings_combined3['last_scraped'] = pd.to_datetime(listings_combined3['last_scraped'])\n",
      "C:\\Users\\PC\\AppData\\Local\\Temp\\ipykernel_15544\\1166594977.py:23: SettingWithCopyWarning: \n",
      "A value is trying to be set on a copy of a slice from a DataFrame.\n",
      "Try using .loc[row_indexer,col_indexer] = value instead\n",
      "\n",
      "See the caveats in the documentation: https://pandas.pydata.org/pandas-docs/stable/user_guide/indexing.html#returning-a-view-versus-a-copy\n",
      "  listings_combined3['host_since'] = pd.to_datetime(listings_combined3['host_since'])\n",
      "C:\\Users\\PC\\AppData\\Local\\Temp\\ipykernel_15544\\1166594977.py:24: SettingWithCopyWarning: \n",
      "A value is trying to be set on a copy of a slice from a DataFrame.\n",
      "Try using .loc[row_indexer,col_indexer] = value instead\n",
      "\n",
      "See the caveats in the documentation: https://pandas.pydata.org/pandas-docs/stable/user_guide/indexing.html#returning-a-view-versus-a-copy\n",
      "  listings_combined3['host_duration'] = (listings_combined3['last_scraped'] - listings_combined3['host_since']).dt.days\n",
      "C:\\Users\\PC\\AppData\\Local\\Temp\\ipykernel_15544\\1166594977.py:29: SettingWithCopyWarning: \n",
      "A value is trying to be set on a copy of a slice from a DataFrame.\n",
      "Try using .loc[row_indexer,col_indexer] = value instead\n",
      "\n",
      "See the caveats in the documentation: https://pandas.pydata.org/pandas-docs/stable/user_guide/indexing.html#returning-a-view-versus-a-copy\n",
      "  listings_combined3[col] = listings_combined3[col].notna().astype(int)\n",
      "C:\\Users\\PC\\AppData\\Local\\Temp\\ipykernel_15544\\1166594977.py:29: SettingWithCopyWarning: \n",
      "A value is trying to be set on a copy of a slice from a DataFrame.\n",
      "Try using .loc[row_indexer,col_indexer] = value instead\n",
      "\n",
      "See the caveats in the documentation: https://pandas.pydata.org/pandas-docs/stable/user_guide/indexing.html#returning-a-view-versus-a-copy\n",
      "  listings_combined3[col] = listings_combined3[col].notna().astype(int)\n",
      "C:\\Users\\PC\\AppData\\Local\\Temp\\ipykernel_15544\\1166594977.py:29: SettingWithCopyWarning: \n",
      "A value is trying to be set on a copy of a slice from a DataFrame.\n",
      "Try using .loc[row_indexer,col_indexer] = value instead\n",
      "\n",
      "See the caveats in the documentation: https://pandas.pydata.org/pandas-docs/stable/user_guide/indexing.html#returning-a-view-versus-a-copy\n",
      "  listings_combined3[col] = listings_combined3[col].notna().astype(int)\n",
      "C:\\Users\\PC\\AppData\\Local\\Temp\\ipykernel_15544\\1166594977.py:34: SettingWithCopyWarning: \n",
      "A value is trying to be set on a copy of a slice from a DataFrame.\n",
      "Try using .loc[row_indexer,col_indexer] = value instead\n",
      "\n",
      "See the caveats in the documentation: https://pandas.pydata.org/pandas-docs/stable/user_guide/indexing.html#returning-a-view-versus-a-copy\n",
      "  listings_combined3[col] = listings_combined3[col].map({'f': 0, 't': 1}).fillna(0).astype(int)\n",
      "C:\\Users\\PC\\AppData\\Local\\Temp\\ipykernel_15544\\1166594977.py:34: SettingWithCopyWarning: \n",
      "A value is trying to be set on a copy of a slice from a DataFrame.\n",
      "Try using .loc[row_indexer,col_indexer] = value instead\n",
      "\n",
      "See the caveats in the documentation: https://pandas.pydata.org/pandas-docs/stable/user_guide/indexing.html#returning-a-view-versus-a-copy\n",
      "  listings_combined3[col] = listings_combined3[col].map({'f': 0, 't': 1}).fillna(0).astype(int)\n",
      "C:\\Users\\PC\\AppData\\Local\\Temp\\ipykernel_15544\\1166594977.py:34: SettingWithCopyWarning: \n",
      "A value is trying to be set on a copy of a slice from a DataFrame.\n",
      "Try using .loc[row_indexer,col_indexer] = value instead\n",
      "\n",
      "See the caveats in the documentation: https://pandas.pydata.org/pandas-docs/stable/user_guide/indexing.html#returning-a-view-versus-a-copy\n",
      "  listings_combined3[col] = listings_combined3[col].map({'f': 0, 't': 1}).fillna(0).astype(int)\n",
      "C:\\Users\\PC\\AppData\\Local\\Temp\\ipykernel_15544\\1166594977.py:34: SettingWithCopyWarning: \n",
      "A value is trying to be set on a copy of a slice from a DataFrame.\n",
      "Try using .loc[row_indexer,col_indexer] = value instead\n",
      "\n",
      "See the caveats in the documentation: https://pandas.pydata.org/pandas-docs/stable/user_guide/indexing.html#returning-a-view-versus-a-copy\n",
      "  listings_combined3[col] = listings_combined3[col].map({'f': 0, 't': 1}).fillna(0).astype(int)\n",
      "C:\\Users\\PC\\AppData\\Local\\Temp\\ipykernel_15544\\1166594977.py:37: SettingWithCopyWarning: \n",
      "A value is trying to be set on a copy of a slice from a DataFrame.\n",
      "Try using .loc[row_indexer,col_indexer] = value instead\n",
      "\n",
      "See the caveats in the documentation: https://pandas.pydata.org/pandas-docs/stable/user_guide/indexing.html#returning-a-view-versus-a-copy\n",
      "  listings_combined3['amenities'] = listings_combined3['amenities'].apply(lambda x: json.loads(x) if pd.notna(x) else [])\n",
      "C:\\Users\\PC\\AppData\\Local\\Temp\\ipykernel_15544\\1166594977.py:45: SettingWithCopyWarning: \n",
      "A value is trying to be set on a copy of a slice from a DataFrame.\n",
      "Try using .loc[row_indexer,col_indexer] = value instead\n",
      "\n",
      "See the caveats in the documentation: https://pandas.pydata.org/pandas-docs/stable/user_guide/indexing.html#returning-a-view-versus-a-copy\n",
      "  listings_combined3[amenity] = listings_combined3['amenities'].apply(lambda x: 1 if amenity in x else 0)\n",
      "C:\\Users\\PC\\AppData\\Local\\Temp\\ipykernel_15544\\1166594977.py:45: SettingWithCopyWarning: \n",
      "A value is trying to be set on a copy of a slice from a DataFrame.\n",
      "Try using .loc[row_indexer,col_indexer] = value instead\n",
      "\n",
      "See the caveats in the documentation: https://pandas.pydata.org/pandas-docs/stable/user_guide/indexing.html#returning-a-view-versus-a-copy\n",
      "  listings_combined3[amenity] = listings_combined3['amenities'].apply(lambda x: 1 if amenity in x else 0)\n",
      "C:\\Users\\PC\\AppData\\Local\\Temp\\ipykernel_15544\\1166594977.py:45: SettingWithCopyWarning: \n",
      "A value is trying to be set on a copy of a slice from a DataFrame.\n",
      "Try using .loc[row_indexer,col_indexer] = value instead\n",
      "\n",
      "See the caveats in the documentation: https://pandas.pydata.org/pandas-docs/stable/user_guide/indexing.html#returning-a-view-versus-a-copy\n",
      "  listings_combined3[amenity] = listings_combined3['amenities'].apply(lambda x: 1 if amenity in x else 0)\n",
      "C:\\Users\\PC\\AppData\\Local\\Temp\\ipykernel_15544\\1166594977.py:45: SettingWithCopyWarning: \n",
      "A value is trying to be set on a copy of a slice from a DataFrame.\n",
      "Try using .loc[row_indexer,col_indexer] = value instead\n",
      "\n",
      "See the caveats in the documentation: https://pandas.pydata.org/pandas-docs/stable/user_guide/indexing.html#returning-a-view-versus-a-copy\n",
      "  listings_combined3[amenity] = listings_combined3['amenities'].apply(lambda x: 1 if amenity in x else 0)\n",
      "C:\\Users\\PC\\AppData\\Local\\Temp\\ipykernel_15544\\1166594977.py:45: SettingWithCopyWarning: \n",
      "A value is trying to be set on a copy of a slice from a DataFrame.\n",
      "Try using .loc[row_indexer,col_indexer] = value instead\n",
      "\n",
      "See the caveats in the documentation: https://pandas.pydata.org/pandas-docs/stable/user_guide/indexing.html#returning-a-view-versus-a-copy\n",
      "  listings_combined3[amenity] = listings_combined3['amenities'].apply(lambda x: 1 if amenity in x else 0)\n",
      "C:\\Users\\PC\\AppData\\Local\\Temp\\ipykernel_15544\\1166594977.py:45: SettingWithCopyWarning: \n",
      "A value is trying to be set on a copy of a slice from a DataFrame.\n",
      "Try using .loc[row_indexer,col_indexer] = value instead\n",
      "\n",
      "See the caveats in the documentation: https://pandas.pydata.org/pandas-docs/stable/user_guide/indexing.html#returning-a-view-versus-a-copy\n",
      "  listings_combined3[amenity] = listings_combined3['amenities'].apply(lambda x: 1 if amenity in x else 0)\n",
      "C:\\Users\\PC\\AppData\\Local\\Temp\\ipykernel_15544\\1166594977.py:45: SettingWithCopyWarning: \n",
      "A value is trying to be set on a copy of a slice from a DataFrame.\n",
      "Try using .loc[row_indexer,col_indexer] = value instead\n",
      "\n",
      "See the caveats in the documentation: https://pandas.pydata.org/pandas-docs/stable/user_guide/indexing.html#returning-a-view-versus-a-copy\n",
      "  listings_combined3[amenity] = listings_combined3['amenities'].apply(lambda x: 1 if amenity in x else 0)\n",
      "C:\\Users\\PC\\AppData\\Local\\Temp\\ipykernel_15544\\1166594977.py:45: SettingWithCopyWarning: \n",
      "A value is trying to be set on a copy of a slice from a DataFrame.\n",
      "Try using .loc[row_indexer,col_indexer] = value instead\n",
      "\n",
      "See the caveats in the documentation: https://pandas.pydata.org/pandas-docs/stable/user_guide/indexing.html#returning-a-view-versus-a-copy\n",
      "  listings_combined3[amenity] = listings_combined3['amenities'].apply(lambda x: 1 if amenity in x else 0)\n",
      "C:\\Users\\PC\\AppData\\Local\\Temp\\ipykernel_15544\\1166594977.py:45: SettingWithCopyWarning: \n",
      "A value is trying to be set on a copy of a slice from a DataFrame.\n",
      "Try using .loc[row_indexer,col_indexer] = value instead\n",
      "\n",
      "See the caveats in the documentation: https://pandas.pydata.org/pandas-docs/stable/user_guide/indexing.html#returning-a-view-versus-a-copy\n",
      "  listings_combined3[amenity] = listings_combined3['amenities'].apply(lambda x: 1 if amenity in x else 0)\n",
      "C:\\Users\\PC\\AppData\\Local\\Temp\\ipykernel_15544\\1166594977.py:45: SettingWithCopyWarning: \n",
      "A value is trying to be set on a copy of a slice from a DataFrame.\n",
      "Try using .loc[row_indexer,col_indexer] = value instead\n",
      "\n",
      "See the caveats in the documentation: https://pandas.pydata.org/pandas-docs/stable/user_guide/indexing.html#returning-a-view-versus-a-copy\n",
      "  listings_combined3[amenity] = listings_combined3['amenities'].apply(lambda x: 1 if amenity in x else 0)\n",
      "C:\\Users\\PC\\AppData\\Local\\Temp\\ipykernel_15544\\1166594977.py:45: SettingWithCopyWarning: \n",
      "A value is trying to be set on a copy of a slice from a DataFrame.\n",
      "Try using .loc[row_indexer,col_indexer] = value instead\n",
      "\n",
      "See the caveats in the documentation: https://pandas.pydata.org/pandas-docs/stable/user_guide/indexing.html#returning-a-view-versus-a-copy\n",
      "  listings_combined3[amenity] = listings_combined3['amenities'].apply(lambda x: 1 if amenity in x else 0)\n",
      "C:\\Users\\PC\\AppData\\Local\\Temp\\ipykernel_15544\\1166594977.py:45: SettingWithCopyWarning: \n",
      "A value is trying to be set on a copy of a slice from a DataFrame.\n",
      "Try using .loc[row_indexer,col_indexer] = value instead\n",
      "\n",
      "See the caveats in the documentation: https://pandas.pydata.org/pandas-docs/stable/user_guide/indexing.html#returning-a-view-versus-a-copy\n",
      "  listings_combined3[amenity] = listings_combined3['amenities'].apply(lambda x: 1 if amenity in x else 0)\n",
      "C:\\Users\\PC\\AppData\\Local\\Temp\\ipykernel_15544\\1166594977.py:45: SettingWithCopyWarning: \n",
      "A value is trying to be set on a copy of a slice from a DataFrame.\n",
      "Try using .loc[row_indexer,col_indexer] = value instead\n",
      "\n",
      "See the caveats in the documentation: https://pandas.pydata.org/pandas-docs/stable/user_guide/indexing.html#returning-a-view-versus-a-copy\n",
      "  listings_combined3[amenity] = listings_combined3['amenities'].apply(lambda x: 1 if amenity in x else 0)\n",
      "C:\\Users\\PC\\AppData\\Local\\Temp\\ipykernel_15544\\1166594977.py:45: SettingWithCopyWarning: \n",
      "A value is trying to be set on a copy of a slice from a DataFrame.\n",
      "Try using .loc[row_indexer,col_indexer] = value instead\n",
      "\n",
      "See the caveats in the documentation: https://pandas.pydata.org/pandas-docs/stable/user_guide/indexing.html#returning-a-view-versus-a-copy\n",
      "  listings_combined3[amenity] = listings_combined3['amenities'].apply(lambda x: 1 if amenity in x else 0)\n",
      "C:\\Users\\PC\\AppData\\Local\\Temp\\ipykernel_15544\\1166594977.py:45: SettingWithCopyWarning: \n",
      "A value is trying to be set on a copy of a slice from a DataFrame.\n",
      "Try using .loc[row_indexer,col_indexer] = value instead\n",
      "\n",
      "See the caveats in the documentation: https://pandas.pydata.org/pandas-docs/stable/user_guide/indexing.html#returning-a-view-versus-a-copy\n",
      "  listings_combined3[amenity] = listings_combined3['amenities'].apply(lambda x: 1 if amenity in x else 0)\n",
      "C:\\Users\\PC\\AppData\\Local\\Temp\\ipykernel_15544\\1166594977.py:45: SettingWithCopyWarning: \n",
      "A value is trying to be set on a copy of a slice from a DataFrame.\n",
      "Try using .loc[row_indexer,col_indexer] = value instead\n",
      "\n",
      "See the caveats in the documentation: https://pandas.pydata.org/pandas-docs/stable/user_guide/indexing.html#returning-a-view-versus-a-copy\n",
      "  listings_combined3[amenity] = listings_combined3['amenities'].apply(lambda x: 1 if amenity in x else 0)\n",
      "C:\\Users\\PC\\AppData\\Local\\Temp\\ipykernel_15544\\1166594977.py:45: SettingWithCopyWarning: \n",
      "A value is trying to be set on a copy of a slice from a DataFrame.\n",
      "Try using .loc[row_indexer,col_indexer] = value instead\n",
      "\n",
      "See the caveats in the documentation: https://pandas.pydata.org/pandas-docs/stable/user_guide/indexing.html#returning-a-view-versus-a-copy\n",
      "  listings_combined3[amenity] = listings_combined3['amenities'].apply(lambda x: 1 if amenity in x else 0)\n",
      "C:\\Users\\PC\\AppData\\Local\\Temp\\ipykernel_15544\\1166594977.py:45: SettingWithCopyWarning: \n",
      "A value is trying to be set on a copy of a slice from a DataFrame.\n",
      "Try using .loc[row_indexer,col_indexer] = value instead\n",
      "\n",
      "See the caveats in the documentation: https://pandas.pydata.org/pandas-docs/stable/user_guide/indexing.html#returning-a-view-versus-a-copy\n",
      "  listings_combined3[amenity] = listings_combined3['amenities'].apply(lambda x: 1 if amenity in x else 0)\n",
      "C:\\Users\\PC\\AppData\\Local\\Temp\\ipykernel_15544\\1166594977.py:45: SettingWithCopyWarning: \n",
      "A value is trying to be set on a copy of a slice from a DataFrame.\n",
      "Try using .loc[row_indexer,col_indexer] = value instead\n",
      "\n",
      "See the caveats in the documentation: https://pandas.pydata.org/pandas-docs/stable/user_guide/indexing.html#returning-a-view-versus-a-copy\n",
      "  listings_combined3[amenity] = listings_combined3['amenities'].apply(lambda x: 1 if amenity in x else 0)\n",
      "C:\\Users\\PC\\AppData\\Local\\Temp\\ipykernel_15544\\1166594977.py:45: SettingWithCopyWarning: \n",
      "A value is trying to be set on a copy of a slice from a DataFrame.\n",
      "Try using .loc[row_indexer,col_indexer] = value instead\n",
      "\n",
      "See the caveats in the documentation: https://pandas.pydata.org/pandas-docs/stable/user_guide/indexing.html#returning-a-view-versus-a-copy\n",
      "  listings_combined3[amenity] = listings_combined3['amenities'].apply(lambda x: 1 if amenity in x else 0)\n",
      "C:\\Users\\PC\\AppData\\Local\\Temp\\ipykernel_15544\\1166594977.py:45: SettingWithCopyWarning: \n",
      "A value is trying to be set on a copy of a slice from a DataFrame.\n",
      "Try using .loc[row_indexer,col_indexer] = value instead\n",
      "\n",
      "See the caveats in the documentation: https://pandas.pydata.org/pandas-docs/stable/user_guide/indexing.html#returning-a-view-versus-a-copy\n",
      "  listings_combined3[amenity] = listings_combined3['amenities'].apply(lambda x: 1 if amenity in x else 0)\n",
      "C:\\Users\\PC\\AppData\\Local\\Temp\\ipykernel_15544\\1166594977.py:45: SettingWithCopyWarning: \n",
      "A value is trying to be set on a copy of a slice from a DataFrame.\n",
      "Try using .loc[row_indexer,col_indexer] = value instead\n",
      "\n",
      "See the caveats in the documentation: https://pandas.pydata.org/pandas-docs/stable/user_guide/indexing.html#returning-a-view-versus-a-copy\n",
      "  listings_combined3[amenity] = listings_combined3['amenities'].apply(lambda x: 1 if amenity in x else 0)\n",
      "C:\\Users\\PC\\AppData\\Local\\Temp\\ipykernel_15544\\1166594977.py:45: SettingWithCopyWarning: \n",
      "A value is trying to be set on a copy of a slice from a DataFrame.\n",
      "Try using .loc[row_indexer,col_indexer] = value instead\n",
      "\n",
      "See the caveats in the documentation: https://pandas.pydata.org/pandas-docs/stable/user_guide/indexing.html#returning-a-view-versus-a-copy\n",
      "  listings_combined3[amenity] = listings_combined3['amenities'].apply(lambda x: 1 if amenity in x else 0)\n",
      "C:\\Users\\PC\\AppData\\Local\\Temp\\ipykernel_15544\\1166594977.py:45: SettingWithCopyWarning: \n",
      "A value is trying to be set on a copy of a slice from a DataFrame.\n",
      "Try using .loc[row_indexer,col_indexer] = value instead\n",
      "\n",
      "See the caveats in the documentation: https://pandas.pydata.org/pandas-docs/stable/user_guide/indexing.html#returning-a-view-versus-a-copy\n",
      "  listings_combined3[amenity] = listings_combined3['amenities'].apply(lambda x: 1 if amenity in x else 0)\n",
      "C:\\Users\\PC\\AppData\\Local\\Temp\\ipykernel_15544\\1166594977.py:45: SettingWithCopyWarning: \n",
      "A value is trying to be set on a copy of a slice from a DataFrame.\n",
      "Try using .loc[row_indexer,col_indexer] = value instead\n",
      "\n",
      "See the caveats in the documentation: https://pandas.pydata.org/pandas-docs/stable/user_guide/indexing.html#returning-a-view-versus-a-copy\n",
      "  listings_combined3[amenity] = listings_combined3['amenities'].apply(lambda x: 1 if amenity in x else 0)\n",
      "C:\\Users\\PC\\AppData\\Local\\Temp\\ipykernel_15544\\1166594977.py:45: SettingWithCopyWarning: \n",
      "A value is trying to be set on a copy of a slice from a DataFrame.\n",
      "Try using .loc[row_indexer,col_indexer] = value instead\n",
      "\n",
      "See the caveats in the documentation: https://pandas.pydata.org/pandas-docs/stable/user_guide/indexing.html#returning-a-view-versus-a-copy\n",
      "  listings_combined3[amenity] = listings_combined3['amenities'].apply(lambda x: 1 if amenity in x else 0)\n",
      "C:\\Users\\PC\\AppData\\Local\\Temp\\ipykernel_15544\\1166594977.py:45: SettingWithCopyWarning: \n",
      "A value is trying to be set on a copy of a slice from a DataFrame.\n",
      "Try using .loc[row_indexer,col_indexer] = value instead\n",
      "\n",
      "See the caveats in the documentation: https://pandas.pydata.org/pandas-docs/stable/user_guide/indexing.html#returning-a-view-versus-a-copy\n",
      "  listings_combined3[amenity] = listings_combined3['amenities'].apply(lambda x: 1 if amenity in x else 0)\n",
      "C:\\Users\\PC\\AppData\\Local\\Temp\\ipykernel_15544\\1166594977.py:45: SettingWithCopyWarning: \n",
      "A value is trying to be set on a copy of a slice from a DataFrame.\n",
      "Try using .loc[row_indexer,col_indexer] = value instead\n",
      "\n",
      "See the caveats in the documentation: https://pandas.pydata.org/pandas-docs/stable/user_guide/indexing.html#returning-a-view-versus-a-copy\n",
      "  listings_combined3[amenity] = listings_combined3['amenities'].apply(lambda x: 1 if amenity in x else 0)\n",
      "C:\\Users\\PC\\AppData\\Local\\Temp\\ipykernel_15544\\1166594977.py:45: SettingWithCopyWarning: \n",
      "A value is trying to be set on a copy of a slice from a DataFrame.\n",
      "Try using .loc[row_indexer,col_indexer] = value instead\n",
      "\n",
      "See the caveats in the documentation: https://pandas.pydata.org/pandas-docs/stable/user_guide/indexing.html#returning-a-view-versus-a-copy\n",
      "  listings_combined3[amenity] = listings_combined3['amenities'].apply(lambda x: 1 if amenity in x else 0)\n",
      "C:\\Users\\PC\\AppData\\Local\\Temp\\ipykernel_15544\\1166594977.py:45: SettingWithCopyWarning: \n",
      "A value is trying to be set on a copy of a slice from a DataFrame.\n",
      "Try using .loc[row_indexer,col_indexer] = value instead\n",
      "\n",
      "See the caveats in the documentation: https://pandas.pydata.org/pandas-docs/stable/user_guide/indexing.html#returning-a-view-versus-a-copy\n",
      "  listings_combined3[amenity] = listings_combined3['amenities'].apply(lambda x: 1 if amenity in x else 0)\n",
      "C:\\Users\\PC\\AppData\\Local\\Temp\\ipykernel_15544\\1166594977.py:45: SettingWithCopyWarning: \n",
      "A value is trying to be set on a copy of a slice from a DataFrame.\n",
      "Try using .loc[row_indexer,col_indexer] = value instead\n",
      "\n",
      "See the caveats in the documentation: https://pandas.pydata.org/pandas-docs/stable/user_guide/indexing.html#returning-a-view-versus-a-copy\n",
      "  listings_combined3[amenity] = listings_combined3['amenities'].apply(lambda x: 1 if amenity in x else 0)\n",
      "C:\\Users\\PC\\AppData\\Local\\Temp\\ipykernel_15544\\1166594977.py:45: SettingWithCopyWarning: \n",
      "A value is trying to be set on a copy of a slice from a DataFrame.\n",
      "Try using .loc[row_indexer,col_indexer] = value instead\n",
      "\n",
      "See the caveats in the documentation: https://pandas.pydata.org/pandas-docs/stable/user_guide/indexing.html#returning-a-view-versus-a-copy\n",
      "  listings_combined3[amenity] = listings_combined3['amenities'].apply(lambda x: 1 if amenity in x else 0)\n",
      "C:\\Users\\PC\\AppData\\Local\\Temp\\ipykernel_15544\\1166594977.py:45: SettingWithCopyWarning: \n",
      "A value is trying to be set on a copy of a slice from a DataFrame.\n",
      "Try using .loc[row_indexer,col_indexer] = value instead\n",
      "\n",
      "See the caveats in the documentation: https://pandas.pydata.org/pandas-docs/stable/user_guide/indexing.html#returning-a-view-versus-a-copy\n",
      "  listings_combined3[amenity] = listings_combined3['amenities'].apply(lambda x: 1 if amenity in x else 0)\n",
      "C:\\Users\\PC\\AppData\\Local\\Temp\\ipykernel_15544\\1166594977.py:45: SettingWithCopyWarning: \n",
      "A value is trying to be set on a copy of a slice from a DataFrame.\n",
      "Try using .loc[row_indexer,col_indexer] = value instead\n",
      "\n",
      "See the caveats in the documentation: https://pandas.pydata.org/pandas-docs/stable/user_guide/indexing.html#returning-a-view-versus-a-copy\n",
      "  listings_combined3[amenity] = listings_combined3['amenities'].apply(lambda x: 1 if amenity in x else 0)\n",
      "C:\\Users\\PC\\AppData\\Local\\Temp\\ipykernel_15544\\1166594977.py:45: SettingWithCopyWarning: \n",
      "A value is trying to be set on a copy of a slice from a DataFrame.\n",
      "Try using .loc[row_indexer,col_indexer] = value instead\n",
      "\n",
      "See the caveats in the documentation: https://pandas.pydata.org/pandas-docs/stable/user_guide/indexing.html#returning-a-view-versus-a-copy\n",
      "  listings_combined3[amenity] = listings_combined3['amenities'].apply(lambda x: 1 if amenity in x else 0)\n",
      "C:\\Users\\PC\\AppData\\Local\\Temp\\ipykernel_15544\\1166594977.py:45: SettingWithCopyWarning: \n",
      "A value is trying to be set on a copy of a slice from a DataFrame.\n",
      "Try using .loc[row_indexer,col_indexer] = value instead\n",
      "\n",
      "See the caveats in the documentation: https://pandas.pydata.org/pandas-docs/stable/user_guide/indexing.html#returning-a-view-versus-a-copy\n",
      "  listings_combined3[amenity] = listings_combined3['amenities'].apply(lambda x: 1 if amenity in x else 0)\n",
      "C:\\Users\\PC\\AppData\\Local\\Temp\\ipykernel_15544\\1166594977.py:45: SettingWithCopyWarning: \n",
      "A value is trying to be set on a copy of a slice from a DataFrame.\n",
      "Try using .loc[row_indexer,col_indexer] = value instead\n",
      "\n",
      "See the caveats in the documentation: https://pandas.pydata.org/pandas-docs/stable/user_guide/indexing.html#returning-a-view-versus-a-copy\n",
      "  listings_combined3[amenity] = listings_combined3['amenities'].apply(lambda x: 1 if amenity in x else 0)\n",
      "C:\\Users\\PC\\AppData\\Local\\Temp\\ipykernel_15544\\1166594977.py:45: SettingWithCopyWarning: \n",
      "A value is trying to be set on a copy of a slice from a DataFrame.\n",
      "Try using .loc[row_indexer,col_indexer] = value instead\n",
      "\n",
      "See the caveats in the documentation: https://pandas.pydata.org/pandas-docs/stable/user_guide/indexing.html#returning-a-view-versus-a-copy\n",
      "  listings_combined3[amenity] = listings_combined3['amenities'].apply(lambda x: 1 if amenity in x else 0)\n",
      "C:\\Users\\PC\\AppData\\Local\\Temp\\ipykernel_15544\\1166594977.py:45: SettingWithCopyWarning: \n",
      "A value is trying to be set on a copy of a slice from a DataFrame.\n",
      "Try using .loc[row_indexer,col_indexer] = value instead\n",
      "\n",
      "See the caveats in the documentation: https://pandas.pydata.org/pandas-docs/stable/user_guide/indexing.html#returning-a-view-versus-a-copy\n",
      "  listings_combined3[amenity] = listings_combined3['amenities'].apply(lambda x: 1 if amenity in x else 0)\n",
      "C:\\Users\\PC\\AppData\\Local\\Temp\\ipykernel_15544\\1166594977.py:45: SettingWithCopyWarning: \n",
      "A value is trying to be set on a copy of a slice from a DataFrame.\n",
      "Try using .loc[row_indexer,col_indexer] = value instead\n",
      "\n",
      "See the caveats in the documentation: https://pandas.pydata.org/pandas-docs/stable/user_guide/indexing.html#returning-a-view-versus-a-copy\n",
      "  listings_combined3[amenity] = listings_combined3['amenities'].apply(lambda x: 1 if amenity in x else 0)\n",
      "C:\\Users\\PC\\AppData\\Local\\Temp\\ipykernel_15544\\1166594977.py:45: SettingWithCopyWarning: \n",
      "A value is trying to be set on a copy of a slice from a DataFrame.\n",
      "Try using .loc[row_indexer,col_indexer] = value instead\n",
      "\n",
      "See the caveats in the documentation: https://pandas.pydata.org/pandas-docs/stable/user_guide/indexing.html#returning-a-view-versus-a-copy\n",
      "  listings_combined3[amenity] = listings_combined3['amenities'].apply(lambda x: 1 if amenity in x else 0)\n",
      "C:\\Users\\PC\\AppData\\Local\\Temp\\ipykernel_15544\\1166594977.py:45: SettingWithCopyWarning: \n",
      "A value is trying to be set on a copy of a slice from a DataFrame.\n",
      "Try using .loc[row_indexer,col_indexer] = value instead\n",
      "\n",
      "See the caveats in the documentation: https://pandas.pydata.org/pandas-docs/stable/user_guide/indexing.html#returning-a-view-versus-a-copy\n",
      "  listings_combined3[amenity] = listings_combined3['amenities'].apply(lambda x: 1 if amenity in x else 0)\n",
      "C:\\Users\\PC\\AppData\\Local\\Temp\\ipykernel_15544\\1166594977.py:45: SettingWithCopyWarning: \n",
      "A value is trying to be set on a copy of a slice from a DataFrame.\n",
      "Try using .loc[row_indexer,col_indexer] = value instead\n",
      "\n",
      "See the caveats in the documentation: https://pandas.pydata.org/pandas-docs/stable/user_guide/indexing.html#returning-a-view-versus-a-copy\n",
      "  listings_combined3[amenity] = listings_combined3['amenities'].apply(lambda x: 1 if amenity in x else 0)\n",
      "C:\\Users\\PC\\AppData\\Local\\Temp\\ipykernel_15544\\1166594977.py:45: SettingWithCopyWarning: \n",
      "A value is trying to be set on a copy of a slice from a DataFrame.\n",
      "Try using .loc[row_indexer,col_indexer] = value instead\n",
      "\n",
      "See the caveats in the documentation: https://pandas.pydata.org/pandas-docs/stable/user_guide/indexing.html#returning-a-view-versus-a-copy\n",
      "  listings_combined3[amenity] = listings_combined3['amenities'].apply(lambda x: 1 if amenity in x else 0)\n",
      "C:\\Users\\PC\\AppData\\Local\\Temp\\ipykernel_15544\\1166594977.py:45: SettingWithCopyWarning: \n",
      "A value is trying to be set on a copy of a slice from a DataFrame.\n",
      "Try using .loc[row_indexer,col_indexer] = value instead\n",
      "\n",
      "See the caveats in the documentation: https://pandas.pydata.org/pandas-docs/stable/user_guide/indexing.html#returning-a-view-versus-a-copy\n",
      "  listings_combined3[amenity] = listings_combined3['amenities'].apply(lambda x: 1 if amenity in x else 0)\n",
      "C:\\Users\\PC\\AppData\\Local\\Temp\\ipykernel_15544\\1166594977.py:45: SettingWithCopyWarning: \n",
      "A value is trying to be set on a copy of a slice from a DataFrame.\n",
      "Try using .loc[row_indexer,col_indexer] = value instead\n",
      "\n",
      "See the caveats in the documentation: https://pandas.pydata.org/pandas-docs/stable/user_guide/indexing.html#returning-a-view-versus-a-copy\n",
      "  listings_combined3[amenity] = listings_combined3['amenities'].apply(lambda x: 1 if amenity in x else 0)\n",
      "C:\\Users\\PC\\AppData\\Local\\Temp\\ipykernel_15544\\1166594977.py:58: FutureWarning: A value is trying to be set on a copy of a DataFrame or Series through chained assignment using an inplace method.\n",
      "The behavior will change in pandas 3.0. This inplace method will never work because the intermediate object on which we are setting values always behaves as a copy.\n",
      "\n",
      "For example, when doing 'df[col].method(value, inplace=True)', try using 'df.method({col: value}, inplace=True)' or df[col] = df[col].method(value) instead, to perform the operation inplace on the original object.\n",
      "\n",
      "\n",
      "  listings_combined3['host_response_rate'].fillna(listings_combined3['host_response_rate'].mean(), inplace=True)\n",
      "C:\\Users\\PC\\AppData\\Local\\Temp\\ipykernel_15544\\1166594977.py:59: FutureWarning: A value is trying to be set on a copy of a DataFrame or Series through chained assignment using an inplace method.\n",
      "The behavior will change in pandas 3.0. This inplace method will never work because the intermediate object on which we are setting values always behaves as a copy.\n",
      "\n",
      "For example, when doing 'df[col].method(value, inplace=True)', try using 'df.method({col: value}, inplace=True)' or df[col] = df[col].method(value) instead, to perform the operation inplace on the original object.\n",
      "\n",
      "\n",
      "  listings_combined3['host_acceptance_rate'].fillna(listings_combined3['host_acceptance_rate'].mean(), inplace=True)\n",
      "C:\\Users\\PC\\AppData\\Local\\Temp\\ipykernel_15544\\1166594977.py:69: FutureWarning: A value is trying to be set on a copy of a DataFrame or Series through chained assignment using an inplace method.\n",
      "The behavior will change in pandas 3.0. This inplace method will never work because the intermediate object on which we are setting values always behaves as a copy.\n",
      "\n",
      "For example, when doing 'df[col].method(value, inplace=True)', try using 'df.method({col: value}, inplace=True)' or df[col] = df[col].method(value) instead, to perform the operation inplace on the original object.\n",
      "\n",
      "\n",
      "  listings_combined3['host_response_time'].fillna('Missing', inplace=True)\n"
     ]
    },
    {
     "name": "stdout",
     "output_type": "stream",
     "text": [
      "                   id  neighborhood_overview  host_location  host_about  \\\n",
      "0  888038298563003925                      0              0           0   \n",
      "1            50666229                      1              1           1   \n",
      "2              933523                      1              1           1   \n",
      "3  656222143862971193                      0              1           1   \n",
      "4            20259345                      1              1           1   \n",
      "\n",
      "   host_response_time  host_response_rate  host_acceptance_rate  \\\n",
      "0                 4.0                 1.0                  1.00   \n",
      "1                 4.0                 1.0                  1.00   \n",
      "2                 4.0                 1.0                  0.97   \n",
      "3                 3.0                 1.0                  1.00   \n",
      "4                 4.0                 1.0                  1.00   \n",
      "\n",
      "   host_is_superhost  host_listings_count  host_has_profile_pic  \\\n",
      "0                  0                  9.0                     1   \n",
      "1                  1                  2.0                     1   \n",
      "2                  1                  1.0                     1   \n",
      "3                  0                  1.0                     1   \n",
      "4                  1                  2.0                     1   \n",
      "\n",
      "   host_identity_verified   latitude  longitude  property_type  room_type  \\\n",
      "0                       1  52.370110   4.879090            7.0        2.0   \n",
      "1                       1  52.359452   4.861793            8.0        2.0   \n",
      "2                       1  52.356197   4.991435            7.0        2.0   \n",
      "3                       1  52.372422   4.882609            0.0        0.0   \n",
      "4                       1  52.367090   4.865750            7.0        2.0   \n",
      "\n",
      "   accommodates  bathrooms  bedrooms  beds  price  minimum_nights  \\\n",
      "0             3        1.0       1.0   3.0  269.0               1   \n",
      "1             4        1.0       2.0   5.0  254.0               4   \n",
      "2             4        1.5       2.0   2.0  203.0               3   \n",
      "3             2        1.0       1.0   1.0  599.0               3   \n",
      "4             2        1.5       1.0   1.0  109.0               1   \n",
      "\n",
      "   maximum_nights  availability_365  instant_bookable  city  host_duration  \\\n",
      "0             365               323                 1   0.0           1750   \n",
      "1             365               275                 1   0.0           1214   \n",
      "2              30                10                 0   0.0           4225   \n",
      "3              10               247                 0   0.0           3332   \n",
      "4              10                40                 0   0.0           3631   \n",
      "\n",
      "   Body soap  Coffee maker  Carbon monoxide alarm  Smoke alarm  \\\n",
      "0          1             1                      1            1   \n",
      "1          1             0                      1            1   \n",
      "2          0             0                      1            1   \n",
      "3          1             0                      1            1   \n",
      "4          1             1                      1            1   \n",
      "\n",
      "   Extra pillows and blankets  Luggage dropoff allowed  Hair dryer  Elevator  \\\n",
      "0                           1                        1           1         1   \n",
      "1                           1                        1           1         0   \n",
      "2                           1                        1           1         0   \n",
      "3                           0                        0           1         0   \n",
      "4                           1                        0           1         0   \n",
      "\n",
      "   Wifi  Cleaning available during stay  Air conditioning  Hangers  \\\n",
      "0     1                               1                 1        1   \n",
      "1     0                               0                 0        1   \n",
      "2     1                               0                 0        1   \n",
      "3     1                               0                 0        1   \n",
      "4     1                               0                 0        1   \n",
      "\n",
      "   Essentials  Heating  TV  First aid kit  Shampoo  Fire extinguisher  \\\n",
      "0           1        1   1              1        1                  1   \n",
      "1           1        1   0              1        1                  1   \n",
      "2           1        0   0              0        0                  1   \n",
      "3           1        0   0              1        1                  1   \n",
      "4           1        1   0              1        1                  1   \n",
      "\n",
      "   Bed linens  Dishes and silverware  Toaster  Shower gel  Coffee  \\\n",
      "0           1                      0        0           0       0   \n",
      "1           1                      1        1           1       1   \n",
      "2           1                      1        1           1       0   \n",
      "3           1                      1        1           1       1   \n",
      "4           1                      1        0           1       1   \n",
      "\n",
      "   Portable fans  Dedicated workspace  Cooking basics  Hot water  Iron  \\\n",
      "0              0                    0               0          0     0   \n",
      "1              1                    1               1          1     1   \n",
      "2              0                    1               0          1     1   \n",
      "3              1                    1               1          1     1   \n",
      "4              1                    1               0          1     1   \n",
      "\n",
      "   Cleaning products  Clothing storage: closet  Mini fridge  Refrigerator  \\\n",
      "0                  0                         0            0             0   \n",
      "1                  1                         1            1             1   \n",
      "2                  1                         0            1             1   \n",
      "3                  1                         0            0             1   \n",
      "4                  1                         1            1             0   \n",
      "\n",
      "   Crib  Wine glasses  Bathtub  Lock on bedroom door  Host greets you  \\\n",
      "0     0             0        0                     0                0   \n",
      "1     1             1        1                     1                1   \n",
      "2     1             1        0                     0                1   \n",
      "3     0             1        0                     0                0   \n",
      "4     0             1        0                     0                0   \n",
      "\n",
      "   Conditioner  Dishwasher  Hot water kettle  Dining table  \\\n",
      "0            0           0                 0             0   \n",
      "1            1           1                 1             1   \n",
      "2            0           0                 1             1   \n",
      "3            1           1                 1             1   \n",
      "4            0           0                 1             1   \n",
      "\n",
      "   Long term stays allowed  Freezer  Laundromat nearby  Room-darkening shades  \\\n",
      "0                        0        0                  0                      0   \n",
      "1                        1        1                  1                      1   \n",
      "2                        1        0                  0                      1   \n",
      "3                        0        1                  1                      0   \n",
      "4                        0        0                  1                      0   \n",
      "\n",
      "   Private entrance  Central heating  Private patio or balcony  \\\n",
      "0                 0                0                         0   \n",
      "1                 1                0                         0   \n",
      "2                 1                1                         1   \n",
      "3                 1                1                         1   \n",
      "4                 1                0                         0   \n",
      "\n",
      "   Outdoor furniture  Microwave  Single level home  Outdoor dining area  \\\n",
      "0                  0          0                  0                    0   \n",
      "1                  0          0                  0                    0   \n",
      "2                  1          1                  1                    1   \n",
      "3                  1          1                  0                    1   \n",
      "4                  0          0                  0                    0   \n",
      "\n",
      "   Free washer – In unit  Blender  Ethernet connection  Free dryer – In unit  \\\n",
      "0                      0        0                    0                     0   \n",
      "1                      0        0                    0                     0   \n",
      "2                      0        0                    0                     0   \n",
      "3                      1        1                    1                     1   \n",
      "4                      0        0                    0                     0   \n",
      "\n",
      "   Baking sheet  Lockbox  Self check-in  Washer  Free parking on premises  \\\n",
      "0             0        0              0       0                         0   \n",
      "1             0        0              0       0                         0   \n",
      "2             0        0              0       0                         0   \n",
      "3             1        0              0       0                         0   \n",
      "4             0        1              1       0                         0   \n",
      "\n",
      "   Dryer  Exterior security cameras on property  Pets allowed  \\\n",
      "0      0                                      0             0   \n",
      "1      0                                      0             0   \n",
      "2      0                                      0             0   \n",
      "3      0                                      0             0   \n",
      "4      0                                      0             0   \n",
      "\n",
      "   Drying rack for clothing  Oven  Books and reading material  \\\n",
      "0                         0     0                           0   \n",
      "1                         0     0                           0   \n",
      "2                         0     0                           0   \n",
      "3                         0     0                           0   \n",
      "4                         0     0                           0   \n",
      "\n",
      "   Free street parking  Patio or balcony  Stove  Clothing storage  Bidet  \\\n",
      "0                    0                 0      0                 0      0   \n",
      "1                    0                 0      0                 0      0   \n",
      "2                    0                 0      0                 0      0   \n",
      "3                    0                 0      0                 0      0   \n",
      "4                    0                 0      0                 0      0   \n",
      "\n",
      "   distance_to_center  \n",
      "0            0.834612  \n",
      "1            2.103275  \n",
      "2            7.000802  \n",
      "3            0.801270  \n",
      "4            1.663327  \n"
     ]
    },
    {
     "name": "stderr",
     "output_type": "stream",
     "text": [
      "C:\\Users\\PC\\AppData\\Local\\Temp\\ipykernel_15544\\1166594977.py:86: FutureWarning: A value is trying to be set on a copy of a DataFrame or Series through chained assignment using an inplace method.\n",
      "The behavior will change in pandas 3.0. This inplace method will never work because the intermediate object on which we are setting values always behaves as a copy.\n",
      "\n",
      "For example, when doing 'df[col].method(value, inplace=True)', try using 'df.method({col: value}, inplace=True)' or df[col] = df[col].method(value) instead, to perform the operation inplace on the original object.\n",
      "\n",
      "\n",
      "  listings_combined3[column].fillna(listings_combined3[column].median(), inplace=True)\n",
      "C:\\Users\\PC\\AppData\\Local\\Temp\\ipykernel_15544\\1166594977.py:86: FutureWarning: A value is trying to be set on a copy of a DataFrame or Series through chained assignment using an inplace method.\n",
      "The behavior will change in pandas 3.0. This inplace method will never work because the intermediate object on which we are setting values always behaves as a copy.\n",
      "\n",
      "For example, when doing 'df[col].method(value, inplace=True)', try using 'df.method({col: value}, inplace=True)' or df[col] = df[col].method(value) instead, to perform the operation inplace on the original object.\n",
      "\n",
      "\n",
      "  listings_combined3[column].fillna(listings_combined3[column].median(), inplace=True)\n"
     ]
    }
   ],
   "source": [
    "import pandas as pd\n",
    "import json\n",
    "from sklearn.preprocessing import OrdinalEncoder\n",
    "from collections import Counter\n",
    "\n",
    "# Assuming listings_combined_basis is already defined\n",
    "columns_to_keep = [\n",
    "    'id', 'last_scraped', 'neighborhood_overview', \n",
    "    'host_since', 'host_location', 'host_about', 'host_response_time', \n",
    "    'host_response_rate', 'host_acceptance_rate', 'host_is_superhost', \n",
    "    'host_listings_count', 'host_has_profile_pic', \n",
    "    'host_identity_verified', 'latitude', 'longitude', \n",
    "    'property_type', 'room_type', 'accommodates', 'bathrooms', 'bedrooms', 'beds',\n",
    "    'amenities', 'price', 'minimum_nights', 'maximum_nights', 'availability_365', \n",
    "    'instant_bookable', 'city'\n",
    "]\n",
    "\n",
    "# Filter the DataFrame to keep only relevant columns\n",
    "listings_combined3 = listings_combined_basis[columns_to_keep]\n",
    "\n",
    "# Convert date columns to datetime\n",
    "listings_combined3['last_scraped'] = pd.to_datetime(listings_combined3['last_scraped'])\n",
    "listings_combined3['host_since'] = pd.to_datetime(listings_combined3['host_since'])\n",
    "listings_combined3['host_duration'] = (listings_combined3['last_scraped'] - listings_combined3['host_since']).dt.days\n",
    "\n",
    "# Convert binary features with missing values to numerical\n",
    "binary_columns = ['neighborhood_overview', 'host_location', 'host_about']\n",
    "for col in binary_columns:\n",
    "    listings_combined3[col] = listings_combined3[col].notna().astype(int)\n",
    "\n",
    "# Convert other binary features\n",
    "other_binaries = ['host_is_superhost', 'host_has_profile_pic', 'host_identity_verified', 'instant_bookable']\n",
    "for col in other_binaries:\n",
    "    listings_combined3[col] = listings_combined3[col].map({'f': 0, 't': 1}).fillna(0).astype(int)\n",
    "\n",
    "# Process amenities\n",
    "listings_combined3['amenities'] = listings_combined3['amenities'].apply(lambda x: json.loads(x) if pd.notna(x) else [])\n",
    "all_amenities = [amenity for amenities_list in listings_combined3['amenities'] for amenity in amenities_list]\n",
    "amenities_counts = Counter(all_amenities)\n",
    "num_listings = len(listings_combined3)\n",
    "common_amenities = [amenity for amenity, count in amenities_counts.items() if 0.1 * num_listings <= count <= 0.9 * num_listings]\n",
    "\n",
    "# Create binary columns for each common amenity\n",
    "for amenity in common_amenities:\n",
    "    listings_combined3[amenity] = listings_combined3['amenities'].apply(lambda x: 1 if amenity in x else 0)\n",
    "\n",
    "# Drop the original amenities column\n",
    "listings_combined3.drop(columns=['amenities'], inplace=True)\n",
    "\n",
    "# Handle property_type\n",
    "property_type_counts = listings_combined3['property_type'].value_counts(normalize=True)\n",
    "valid_property_types = property_type_counts[property_type_counts >= 0.01].index\n",
    "listings_combined3['property_type'] = listings_combined3['property_type'].apply(lambda x: x if x in valid_property_types else 'Other')\n",
    "\n",
    "# Convert percentages to numerical\n",
    "listings_combined3['host_response_rate'] = listings_combined3['host_response_rate'].str.replace('%', '').astype(float) / 100\n",
    "listings_combined3['host_acceptance_rate'] = listings_combined3['host_acceptance_rate'].str.replace('%', '').astype(float) / 100\n",
    "listings_combined3['host_response_rate'].fillna(listings_combined3['host_response_rate'].mean(), inplace=True)\n",
    "listings_combined3['host_acceptance_rate'].fillna(listings_combined3['host_acceptance_rate'].mean(), inplace=True)\n",
    "\n",
    "# Calculate distance to city center\n",
    "mean_coordinates = listings_combined3.groupby('city')[['latitude', 'longitude']].mean().rename(columns={'latitude': 'mean_latitude', 'longitude': 'mean_longitude'})\n",
    "listings_combined3 = listings_combined3.merge(mean_coordinates, on='city')\n",
    "listings_combined3['distance_to_center'] = listings_combined3.apply(calculate_distance, axis=1)\n",
    "listings_combined3.drop(columns=['mean_latitude', 'mean_longitude'], inplace=True)\n",
    "\n",
    "# Handle missing values for host_response_time\n",
    "listings_combined3['host_response_time_missing'] = listings_combined3['host_response_time'].isnull().astype(int)\n",
    "listings_combined3['host_response_time'].fillna('Missing', inplace=True)\n",
    "\n",
    "# Apply Ordinal Encoding\n",
    "ordinal_encoder = OrdinalEncoder()\n",
    "categorical_columns = ['host_response_time', 'property_type', 'room_type', 'city']\n",
    "listings_combined3[categorical_columns] = listings_combined3[categorical_columns].astype(str)\n",
    "listings_combined3[categorical_columns] = ordinal_encoder.fit_transform(listings_combined3[categorical_columns])\n",
    "\n",
    "# Drop unnecessary columns\n",
    "listings_combined3.drop(columns=['host_response_time_missing', 'host_since', 'last_scraped'], inplace=True)\n",
    "\n",
    "# Convert price to numerical\n",
    "listings_combined3['price'] = listings_combined3['price'].replace('[\\$,]', '', regex=True).astype(float)\n",
    "\n",
    "# Fill missing values for bathrooms, bedrooms\n",
    "median_fill_columns = ['bathrooms', 'bedrooms']\n",
    "for column in median_fill_columns:\n",
    "    listings_combined3[column].fillna(listings_combined3[column].median(), inplace=True)\n",
    "\n",
    "# Display the cleaned DataFrame\n",
    "print(listings_combined3.head())\n",
    "\n"
   ]
  },
  {
   "cell_type": "code",
   "execution_count": 25,
   "metadata": {},
   "outputs": [
    {
     "data": {
      "text/plain": [
       "property_type\n",
       "4.0     106585\n",
       "3.0      20810\n",
       "0.0      17492\n",
       "7.0      16992\n",
       "11.0     16768\n",
       "10.0     14767\n",
       "9.0       4597\n",
       "2.0       3192\n",
       "5.0       2926\n",
       "8.0       2598\n",
       "6.0       2351\n",
       "1.0       2239\n",
       "Name: count, dtype: int64"
      ]
     },
     "execution_count": 25,
     "metadata": {},
     "output_type": "execute_result"
    }
   ],
   "source": [
    "#Show property type value counts\n",
    "listings_combined3['property_type'].value_counts()\n"
   ]
  },
  {
   "cell_type": "markdown",
   "metadata": {},
   "source": [
    "We check which city belongs to which number, because this is needed later in the research"
   ]
  },
  {
   "cell_type": "code",
   "execution_count": 26,
   "metadata": {},
   "outputs": [
    {
     "name": "stdout",
     "output_type": "stream",
     "text": [
      "0: Amsterdam\n",
      "1: Chicago\n",
      "2: London\n",
      "3: Los Angeles\n",
      "4: Melbourne\n",
      "5: New York\n",
      "6: Paris\n",
      "7: Rome\n",
      "8: Sydney\n",
      "9: Venice\n"
     ]
    }
   ],
   "source": [
    "# Fit the OrdinalEncoder to the 'city' column\n",
    "ordinal_encoder = OrdinalEncoder()\n",
    "encoded_cities = ordinal_encoder.fit_transform(listings_combined_basis[['city']])\n",
    "\n",
    "# Extract the mapping\n",
    "city_mapping = {index: city for index, city in enumerate(ordinal_encoder.categories_[0])}\n",
    "\n",
    "# Display the mapping\n",
    "for encoded_value, city in city_mapping.items():\n",
    "    print(f\"{encoded_value}: {city}\")\n",
    "\n"
   ]
  },
  {
   "cell_type": "markdown",
   "metadata": {},
   "source": [
    "We use the code below, to check all variables for outliers. We checked all numerical variables, for the binaries we already assume there are no outliers, because of the way these binaries are designed. We only change the outliers if we believe they are unrealistic, for only one we find is the one below which has 50 bedrooms and bathrooms, while the accommodation only accomodates 4 persons."
   ]
  },
  {
   "cell_type": "code",
   "execution_count": 27,
   "metadata": {},
   "outputs": [
    {
     "data": {
      "text/plain": [
       "count    211317.000000\n",
       "mean          1.334616\n",
       "std           0.713213\n",
       "min           0.000000\n",
       "25%           1.000000\n",
       "50%           1.000000\n",
       "75%           1.500000\n",
       "max          50.000000\n",
       "Name: bathrooms, dtype: float64"
      ]
     },
     "execution_count": 27,
     "metadata": {},
     "output_type": "execute_result"
    }
   ],
   "source": [
    "listings_combined3['bathrooms'].describe()"
   ]
  },
  {
   "cell_type": "code",
   "execution_count": 28,
   "metadata": {},
   "outputs": [
    {
     "data": {
      "text/plain": [
       "count    211317.000000\n",
       "mean          7.812755\n",
       "std           8.945028\n",
       "min           0.014691\n",
       "25%           2.675778\n",
       "50%           4.746610\n",
       "75%           9.393732\n",
       "max          88.468325\n",
       "Name: distance_to_center, dtype: float64"
      ]
     },
     "execution_count": 28,
     "metadata": {},
     "output_type": "execute_result"
    }
   ],
   "source": [
    "listings_combined3['distance_to_center'].describe()"
   ]
  },
  {
   "cell_type": "code",
   "execution_count": 29,
   "metadata": {},
   "outputs": [],
   "source": [
    "#Check the observations where bathrooms is above 30\n",
    "bathrooms_check=listings_combined3[listings_combined3['bathrooms'] > 30]\n",
    "#impute the number of bathrooms and bedrooms from the listings_combined2 by their respecitve means\n",
    "listings_combined3['bathrooms'] = listings_combined3['bathrooms'].replace(50, listings_combined3['bathrooms'].mean())\n",
    "listings_combined3['bedrooms'] = listings_combined3['bedrooms'].replace(50, listings_combined3['bedrooms'].mean())\n"
   ]
  },
  {
   "cell_type": "code",
   "execution_count": 30,
   "metadata": {},
   "outputs": [
    {
     "data": {
      "text/html": [
       "<div>\n",
       "<style scoped>\n",
       "    .dataframe tbody tr th:only-of-type {\n",
       "        vertical-align: middle;\n",
       "    }\n",
       "\n",
       "    .dataframe tbody tr th {\n",
       "        vertical-align: top;\n",
       "    }\n",
       "\n",
       "    .dataframe thead th {\n",
       "        text-align: right;\n",
       "    }\n",
       "</style>\n",
       "<table border=\"1\" class=\"dataframe\">\n",
       "  <thead>\n",
       "    <tr style=\"text-align: right;\">\n",
       "      <th></th>\n",
       "      <th>beds</th>\n",
       "      <th>accommodates</th>\n",
       "    </tr>\n",
       "  </thead>\n",
       "  <tbody>\n",
       "    <tr>\n",
       "      <th>beds</th>\n",
       "      <td>1.000000</td>\n",
       "      <td>0.802564</td>\n",
       "    </tr>\n",
       "    <tr>\n",
       "      <th>accommodates</th>\n",
       "      <td>0.802564</td>\n",
       "      <td>1.000000</td>\n",
       "    </tr>\n",
       "  </tbody>\n",
       "</table>\n",
       "</div>"
      ],
      "text/plain": [
       "                  beds  accommodates\n",
       "beds          1.000000      0.802564\n",
       "accommodates  0.802564      1.000000"
      ]
     },
     "execution_count": 30,
     "metadata": {},
     "output_type": "execute_result"
    }
   ],
   "source": [
    "#Check correlation between beds and accommodates\n",
    "listings_combined3[['beds', 'accommodates']].corr()"
   ]
  },
  {
   "cell_type": "code",
   "execution_count": 31,
   "metadata": {},
   "outputs": [],
   "source": [
    "listings_combined3.drop(columns=['beds'], inplace=True)"
   ]
  },
  {
   "cell_type": "markdown",
   "metadata": {},
   "source": [
    "As expected we see a high correlation between beds and accommodates, so we decide to delete beds from the model."
   ]
  },
  {
   "cell_type": "markdown",
   "metadata": {},
   "source": [
    "At this moment, almost all columns are numerical, unless some columns of which we don't know what to do with at this moment. In the following step comparable to the study of (Peng et al., 2020), we will impute the missing values of all numeric columns by using the attribute mean, which is the majority in case of a binary column. Secondly Peng removes outliers by eliminating data of houses with prices greater than 500 or prices lower than 0. In my opinion, deleting the prices lower than 0, makes sense but deleting prices greater than 500 not. However 500 may be expensive for a night, it seems a true value, however if the price rise above 40.000 which is the case in some examples as shown by the boxplot above, it must be illegal values. Lastly, we apply a logarithmic transformation to the price column as also done in the replication."
   ]
  },
  {
   "cell_type": "code",
   "execution_count": 32,
   "metadata": {},
   "outputs": [
    {
     "name": "stderr",
     "output_type": "stream",
     "text": [
      "C:\\Users\\PC\\AppData\\Local\\Temp\\ipykernel_15544\\3239450886.py:9: FutureWarning: A value is trying to be set on a copy of a DataFrame or Series through chained assignment using an inplace method.\n",
      "The behavior will change in pandas 3.0. This inplace method will never work because the intermediate object on which we are setting values always behaves as a copy.\n",
      "\n",
      "For example, when doing 'df[col].method(value, inplace=True)', try using 'df.method({col: value}, inplace=True)' or df[col] = df[col].method(value) instead, to perform the operation inplace on the original object.\n",
      "\n",
      "\n",
      "  listings_combined3[col].fillna(listings_combined3[col].mean(), inplace=True)\n",
      "C:\\Users\\PC\\AppData\\Local\\Temp\\ipykernel_15544\\3239450886.py:13: SettingWithCopyWarning: \n",
      "A value is trying to be set on a copy of a slice from a DataFrame.\n",
      "Try using .loc[row_indexer,col_indexer] = value instead\n",
      "\n",
      "See the caveats in the documentation: https://pandas.pydata.org/pandas-docs/stable/user_guide/indexing.html#returning-a-view-versus-a-copy\n",
      "  listings_combined4['price'] = np.log1p(listings_combined4['price'])\n"
     ]
    },
    {
     "data": {
      "text/plain": [
       "(200361, 98)"
      ]
     },
     "execution_count": 32,
     "metadata": {},
     "output_type": "execute_result"
    }
   ],
   "source": [
    "# Eliminate data of houses with prices greater than $40000 or less than or equal to $0\n",
    "listings_combined3 = listings_combined3[(listings_combined3['price'] > 0) & (listings_combined3['price'] <= 40000)]\n",
    "\n",
    "#Separate preprocessing to compare against the replication\n",
    "listings_combined4=listings_combined3[(listings_combined3['price'] > 0) & (listings_combined3['price'] <= 500)]\n",
    "\n",
    "# Impute missing values with the mean for numerical columns\n",
    "for col in listings_combined3.select_dtypes(include=['float64', 'int64']).columns:\n",
    "    listings_combined3[col].fillna(listings_combined3[col].mean(), inplace=True)\n",
    "\n",
    "# Apply logarithmic transformation to the price column\n",
    "listings_combined3['price'] = np.log1p(listings_combined3['price'])\n",
    "listings_combined4['price'] = np.log1p(listings_combined4['price'])\n",
    "\n",
    "listings_combined3.shape\n",
    "listings_combined4.shape"
   ]
  },
  {
   "cell_type": "markdown",
   "metadata": {},
   "source": [
    "We do a outlier analysis, to see if this worked out"
   ]
  },
  {
   "cell_type": "code",
   "execution_count": 35,
   "metadata": {},
   "outputs": [
    {
     "data": {
      "image/png": "[encoded data removed]",
      "text/plain": [
       "<Figure size 1000x600 with 1 Axes>"
      ]
     },
     "metadata": {},
     "output_type": "display_data"
    },
    {
     "data": {
      "image/png": "[encoded data removed]",
      "text/plain": [
       "<Figure size 1000x600 with 1 Axes>"
      ]
     },
     "metadata": {},
     "output_type": "display_data"
    }
   ],
   "source": [
    "import matplotlib.pyplot as plt\n",
    "import seaborn as sns\n",
    "# Visualize price distribution using a boxplot to analyze outliers\n",
    "plt.figure(figsize=(10, 6))\n",
    "sns.boxplot(x=listings_combined3['price'])\n",
    "plt.xlabel('Price ($)')\n",
    "plt.ylabel('Frequency')\n",
    "plt.title('Price Boxplot of Airbnb Listings')\n",
    "plt.show()\n",
    "# Visualize price distribution using a histogram to analyze outliers\n",
    "plt.figure(figsize=(10, 6))\n",
    "sns.histplot(listings_combined3['price'], bins=50, kde=True)\n",
    "plt.xlabel('Log-transformed Price')\n",
    "plt.ylabel('Frequency')\n",
    "plt.title('Distribution of Log-transformed Airbnb Prices')\n",
    "plt.show()\n"
   ]
  },
  {
   "cell_type": "markdown",
   "metadata": {},
   "source": [
    "If we look at the distribution, we see that there are stil outliers, we decide to adjust the distribution and only keep columns where the log-transformed price is between 2 and 8."
   ]
  },
  {
   "cell_type": "code",
   "execution_count": 36,
   "metadata": {},
   "outputs": [
    {
     "data": {
      "text/plain": [
       "(210937, 98)"
      ]
     },
     "execution_count": 36,
     "metadata": {},
     "output_type": "execute_result"
    }
   ],
   "source": [
    "#delete columns where log price below 2 or above 8\n",
    "listings_combined3 = listings_combined3[(listings_combined3['price'] > 2) & (listings_combined3['price'] < 8)]\n",
    "listings_combined3.shape"
   ]
  },
  {
   "cell_type": "code",
   "execution_count": 37,
   "metadata": {},
   "outputs": [
    {
     "data": {
      "text/plain": [
       "Index(['id', 'neighborhood_overview', 'host_location', 'host_about',\n",
       "       'host_response_time', 'host_response_rate', 'host_acceptance_rate',\n",
       "       'host_is_superhost', 'host_listings_count', 'host_has_profile_pic',\n",
       "       'host_identity_verified', 'latitude', 'longitude', 'property_type',\n",
       "       'room_type', 'accommodates', 'bathrooms', 'bedrooms', 'price',\n",
       "       'minimum_nights', 'maximum_nights', 'availability_365',\n",
       "       'instant_bookable', 'city', 'host_duration', 'Body soap',\n",
       "       'Coffee maker', 'Carbon monoxide alarm', 'Smoke alarm',\n",
       "       'Extra pillows and blankets', 'Luggage dropoff allowed', 'Hair dryer',\n",
       "       'Elevator', 'Wifi', 'Cleaning available during stay',\n",
       "       'Air conditioning', 'Hangers', 'Essentials', 'Heating', 'TV',\n",
       "       'First aid kit', 'Shampoo', 'Fire extinguisher', 'Bed linens',\n",
       "       'Dishes and silverware', 'Toaster', 'Shower gel', 'Coffee',\n",
       "       'Portable fans', 'Dedicated workspace', 'Cooking basics', 'Hot water',\n",
       "       'Iron', 'Cleaning products', 'Clothing storage: closet', 'Mini fridge',\n",
       "       'Refrigerator', 'Crib', 'Wine glasses', 'Bathtub',\n",
       "       'Lock on bedroom door', 'Host greets you', 'Conditioner', 'Dishwasher',\n",
       "       'Hot water kettle', 'Dining table', 'Long term stays allowed',\n",
       "       'Freezer', 'Laundromat nearby', 'Room-darkening shades',\n",
       "       'Private entrance', 'Central heating', 'Private patio or balcony',\n",
       "       'Outdoor furniture', 'Microwave', 'Single level home',\n",
       "       'Outdoor dining area', 'Free washer – In unit', 'Blender',\n",
       "       'Ethernet connection', 'Free dryer – In unit', 'Baking sheet',\n",
       "       'Lockbox', 'Self check-in', 'Washer', 'Free parking on premises',\n",
       "       'Dryer', 'Exterior security cameras on property', 'Pets allowed',\n",
       "       'Drying rack for clothing', 'Oven', 'Books and reading material',\n",
       "       'Free street parking', 'Patio or balcony', 'Stove', 'Clothing storage',\n",
       "       'Bidet', 'distance_to_center'],\n",
       "      dtype='object')"
      ]
     },
     "execution_count": 37,
     "metadata": {},
     "output_type": "execute_result"
    }
   ],
   "source": [
    "listings_combined3.columns"
   ]
  },
  {
   "cell_type": "code",
   "execution_count": 38,
   "metadata": {},
   "outputs": [],
   "source": [
    "listings_combined3.to_csv('listings_features_ordinal_encoded.csv', index=False)"
   ]
  },
  {
   "cell_type": "code",
   "execution_count": 33,
   "metadata": {},
   "outputs": [],
   "source": [
    "listings_combined4.to_csv('listings_features_ordinal_encoded_replication.csv', index=False)"
   ]
  },
  {
   "cell_type": "code",
   "execution_count": 34,
   "metadata": {},
   "outputs": [
    {
     "data": {
      "text/plain": [
       "(200361, 98)"
      ]
     },
     "execution_count": 34,
     "metadata": {},
     "output_type": "execute_result"
    }
   ],
   "source": [
    "listings_combined4.shape"
   ]
  },
  {
   "cell_type": "markdown",
   "metadata": {},
   "source": [
    "So the final shape of this one-hot encoded feature set is (210937,98)"
   ]
  },
  {
   "cell_type": "markdown",
   "metadata": {},
   "source": [
    "We now saved a file for the listing reviews and the next step is to do the same for the review features, we first collect and select all relevant features related to reviews that are in this listing dataset and nextly we add the LDA related sentiment scores that are extracted from the reviews dataset. We do this in a separate notebook."
   ]
  },
  {
   "cell_type": "code",
   "execution_count": 40,
   "metadata": {},
   "outputs": [],
   "source": [
    "#From listings_combined_basis, we keep the ID for merging purpose\n",
    "review_data = listings_combined_basis[['id', 'last_scraped','number_of_reviews', 'number_of_reviews_ltm', 'number_of_reviews_l30d',\n",
    "    'first_review', 'last_review', 'review_scores_rating',\n",
    "    'review_scores_accuracy', 'review_scores_cleanliness', 'review_scores_checkin',\n",
    "    'review_scores_communication', 'review_scores_location', 'review_scores_value',\n",
    "    'reviews_per_month']]"
   ]
  },
  {
   "cell_type": "code",
   "execution_count": 41,
   "metadata": {},
   "outputs": [],
   "source": [
    "#Change the rows of the review data to listings_combined3 to have the same subset of listings that are preprocessed similarly on the price variable.\n",
    "review_data = review_data[review_data['id'].isin(listings_combined3['id'])]\n"
   ]
  },
  {
   "cell_type": "code",
   "execution_count": 42,
   "metadata": {},
   "outputs": [
    {
     "data": {
      "text/plain": [
       "(210937, 15)"
      ]
     },
     "execution_count": 42,
     "metadata": {},
     "output_type": "execute_result"
    }
   ],
   "source": [
    "review_data.shape"
   ]
  },
  {
   "cell_type": "code",
   "execution_count": 41,
   "metadata": {},
   "outputs": [
    {
     "data": {
      "image/png": "[encoded data removed]",
      "text/plain": [
       "<Figure size 2500x500 with 7 Axes>"
      ]
     },
     "metadata": {},
     "output_type": "display_data"
    }
   ],
   "source": [
    "#Show a plot with the distribution of all the review score related variables to see how correlated they are, make sure to make seven\n",
    "#subplots in one row, use the same scale for all figures, make sure that all the 7 figures fit in the same plot\n",
    "fig, axes = plt.subplots(1, 7, figsize=(25, 5), sharex=True, sharey=True)\n",
    "sns.histplot(review_data['review_scores_rating'], bins=25, kde=True, ax=axes[0])\n",
    "sns.histplot(review_data['review_scores_accuracy'], bins=25, kde=True, ax=axes[1])\n",
    "sns.histplot(review_data['review_scores_cleanliness'], bins=25, kde=True, ax=axes[2])\n",
    "sns.histplot(review_data['review_scores_checkin'], bins=25, kde=True, ax=axes[3])\n",
    "sns.histplot(review_data['review_scores_communication'], bins=25, kde=True, ax=axes[4])\n",
    "sns.histplot(review_data['review_scores_location'], bins=25, kde=True, ax=axes[5])\n",
    "sns.histplot(review_data['review_scores_value'], bins=25, kde=True, ax=axes[6])\n",
    "#make sure all figures have the same x and y axis values\n",
    "plt.xlim(0, 5)\n",
    "plt.ylim(0, 150000)\n",
    "plt.show()\n",
    "\n",
    "\n",
    "\n",
    "\n",
    "\n",
    "\n",
    "\n",
    "\n"
   ]
  },
  {
   "cell_type": "code",
   "execution_count": 42,
   "metadata": {},
   "outputs": [
    {
     "data": {
      "text/html": [
       "<div>\n",
       "<style scoped>\n",
       "    .dataframe tbody tr th:only-of-type {\n",
       "        vertical-align: middle;\n",
       "    }\n",
       "\n",
       "    .dataframe tbody tr th {\n",
       "        vertical-align: top;\n",
       "    }\n",
       "\n",
       "    .dataframe thead th {\n",
       "        text-align: right;\n",
       "    }\n",
       "</style>\n",
       "<table border=\"1\" class=\"dataframe\">\n",
       "  <thead>\n",
       "    <tr style=\"text-align: right;\">\n",
       "      <th></th>\n",
       "      <th>review_scores_rating</th>\n",
       "      <th>review_scores_accuracy</th>\n",
       "      <th>review_scores_cleanliness</th>\n",
       "      <th>review_scores_checkin</th>\n",
       "      <th>review_scores_communication</th>\n",
       "      <th>review_scores_location</th>\n",
       "      <th>review_scores_value</th>\n",
       "    </tr>\n",
       "  </thead>\n",
       "  <tbody>\n",
       "    <tr>\n",
       "      <th>review_scores_rating</th>\n",
       "      <td>1.000000</td>\n",
       "      <td>0.858738</td>\n",
       "      <td>0.793234</td>\n",
       "      <td>0.710198</td>\n",
       "      <td>0.773867</td>\n",
       "      <td>0.588991</td>\n",
       "      <td>0.852376</td>\n",
       "    </tr>\n",
       "    <tr>\n",
       "      <th>review_scores_accuracy</th>\n",
       "      <td>0.858738</td>\n",
       "      <td>1.000000</td>\n",
       "      <td>0.746026</td>\n",
       "      <td>0.671729</td>\n",
       "      <td>0.724910</td>\n",
       "      <td>0.574507</td>\n",
       "      <td>0.811345</td>\n",
       "    </tr>\n",
       "    <tr>\n",
       "      <th>review_scores_cleanliness</th>\n",
       "      <td>0.793234</td>\n",
       "      <td>0.746026</td>\n",
       "      <td>1.000000</td>\n",
       "      <td>0.587542</td>\n",
       "      <td>0.620854</td>\n",
       "      <td>0.503688</td>\n",
       "      <td>0.736032</td>\n",
       "    </tr>\n",
       "    <tr>\n",
       "      <th>review_scores_checkin</th>\n",
       "      <td>0.710198</td>\n",
       "      <td>0.671729</td>\n",
       "      <td>0.587542</td>\n",
       "      <td>1.000000</td>\n",
       "      <td>0.733029</td>\n",
       "      <td>0.509461</td>\n",
       "      <td>0.651469</td>\n",
       "    </tr>\n",
       "    <tr>\n",
       "      <th>review_scores_communication</th>\n",
       "      <td>0.773867</td>\n",
       "      <td>0.724910</td>\n",
       "      <td>0.620854</td>\n",
       "      <td>0.733029</td>\n",
       "      <td>1.000000</td>\n",
       "      <td>0.514799</td>\n",
       "      <td>0.712487</td>\n",
       "    </tr>\n",
       "    <tr>\n",
       "      <th>review_scores_location</th>\n",
       "      <td>0.588991</td>\n",
       "      <td>0.574507</td>\n",
       "      <td>0.503688</td>\n",
       "      <td>0.509461</td>\n",
       "      <td>0.514799</td>\n",
       "      <td>1.000000</td>\n",
       "      <td>0.581153</td>\n",
       "    </tr>\n",
       "    <tr>\n",
       "      <th>review_scores_value</th>\n",
       "      <td>0.852376</td>\n",
       "      <td>0.811345</td>\n",
       "      <td>0.736032</td>\n",
       "      <td>0.651469</td>\n",
       "      <td>0.712487</td>\n",
       "      <td>0.581153</td>\n",
       "      <td>1.000000</td>\n",
       "    </tr>\n",
       "  </tbody>\n",
       "</table>\n",
       "</div>"
      ],
      "text/plain": [
       "                             review_scores_rating  review_scores_accuracy  \\\n",
       "review_scores_rating                     1.000000                0.858738   \n",
       "review_scores_accuracy                   0.858738                1.000000   \n",
       "review_scores_cleanliness                0.793234                0.746026   \n",
       "review_scores_checkin                    0.710198                0.671729   \n",
       "review_scores_communication              0.773867                0.724910   \n",
       "review_scores_location                   0.588991                0.574507   \n",
       "review_scores_value                      0.852376                0.811345   \n",
       "\n",
       "                             review_scores_cleanliness  review_scores_checkin  \\\n",
       "review_scores_rating                          0.793234               0.710198   \n",
       "review_scores_accuracy                        0.746026               0.671729   \n",
       "review_scores_cleanliness                     1.000000               0.587542   \n",
       "review_scores_checkin                         0.587542               1.000000   \n",
       "review_scores_communication                   0.620854               0.733029   \n",
       "review_scores_location                        0.503688               0.509461   \n",
       "review_scores_value                           0.736032               0.651469   \n",
       "\n",
       "                             review_scores_communication  \\\n",
       "review_scores_rating                            0.773867   \n",
       "review_scores_accuracy                          0.724910   \n",
       "review_scores_cleanliness                       0.620854   \n",
       "review_scores_checkin                           0.733029   \n",
       "review_scores_communication                     1.000000   \n",
       "review_scores_location                          0.514799   \n",
       "review_scores_value                             0.712487   \n",
       "\n",
       "                             review_scores_location  review_scores_value  \n",
       "review_scores_rating                       0.588991             0.852376  \n",
       "review_scores_accuracy                     0.574507             0.811345  \n",
       "review_scores_cleanliness                  0.503688             0.736032  \n",
       "review_scores_checkin                      0.509461             0.651469  \n",
       "review_scores_communication                0.514799             0.712487  \n",
       "review_scores_location                     1.000000             0.581153  \n",
       "review_scores_value                        0.581153             1.000000  "
      ]
     },
     "execution_count": 42,
     "metadata": {},
     "output_type": "execute_result"
    }
   ],
   "source": [
    "#Show a correlation matrix of the review scores\n",
    "review_scores = review_data[['review_scores_rating', 'review_scores_accuracy', 'review_scores_cleanliness', 'review_scores_checkin',\n",
    "    'review_scores_communication', 'review_scores_location', 'review_scores_value']]\n",
    "correlation_matrix = review_scores.corr()\n",
    "correlation_matrix\n",
    "\n"
   ]
  },
  {
   "cell_type": "code",
   "execution_count": 43,
   "metadata": {},
   "outputs": [
    {
     "data": {
      "image/png": "[encoded data removed]",
      "text/plain": [
       "<Figure size 1000x600 with 2 Axes>"
      ]
     },
     "metadata": {},
     "output_type": "display_data"
    }
   ],
   "source": [
    "#Show a graph of the correlation matrix\n",
    "plt.figure(figsize=(10, 6))\n",
    "sns.heatmap(correlation_matrix, annot=True, cmap='coolwarm', fmt=\".2f\")\n",
    "plt.title('Correlation Matrix of Review Scores')\n",
    "plt.show()"
   ]
  },
  {
   "cell_type": "code",
   "execution_count": 44,
   "metadata": {},
   "outputs": [
    {
     "data": {
      "text/html": [
       "<div>\n",
       "<style scoped>\n",
       "    .dataframe tbody tr th:only-of-type {\n",
       "        vertical-align: middle;\n",
       "    }\n",
       "\n",
       "    .dataframe tbody tr th {\n",
       "        vertical-align: top;\n",
       "    }\n",
       "\n",
       "    .dataframe thead th {\n",
       "        text-align: right;\n",
       "    }\n",
       "</style>\n",
       "<table border=\"1\" class=\"dataframe\">\n",
       "  <thead>\n",
       "    <tr style=\"text-align: right;\">\n",
       "      <th></th>\n",
       "      <th>number_of_reviews</th>\n",
       "      <th>number_of_reviews_ltm</th>\n",
       "      <th>number_of_reviews_l30d</th>\n",
       "      <th>reviews_per_month</th>\n",
       "    </tr>\n",
       "  </thead>\n",
       "  <tbody>\n",
       "    <tr>\n",
       "      <th>number_of_reviews</th>\n",
       "      <td>1.000000</td>\n",
       "      <td>0.657443</td>\n",
       "      <td>0.397215</td>\n",
       "      <td>0.546776</td>\n",
       "    </tr>\n",
       "    <tr>\n",
       "      <th>number_of_reviews_ltm</th>\n",
       "      <td>0.657443</td>\n",
       "      <td>1.000000</td>\n",
       "      <td>0.690192</td>\n",
       "      <td>0.810396</td>\n",
       "    </tr>\n",
       "    <tr>\n",
       "      <th>number_of_reviews_l30d</th>\n",
       "      <td>0.397215</td>\n",
       "      <td>0.690192</td>\n",
       "      <td>1.000000</td>\n",
       "      <td>0.729942</td>\n",
       "    </tr>\n",
       "    <tr>\n",
       "      <th>reviews_per_month</th>\n",
       "      <td>0.546776</td>\n",
       "      <td>0.810396</td>\n",
       "      <td>0.729942</td>\n",
       "      <td>1.000000</td>\n",
       "    </tr>\n",
       "  </tbody>\n",
       "</table>\n",
       "</div>"
      ],
      "text/plain": [
       "                        number_of_reviews  number_of_reviews_ltm  \\\n",
       "number_of_reviews                1.000000               0.657443   \n",
       "number_of_reviews_ltm            0.657443               1.000000   \n",
       "number_of_reviews_l30d           0.397215               0.690192   \n",
       "reviews_per_month                0.546776               0.810396   \n",
       "\n",
       "                        number_of_reviews_l30d  reviews_per_month  \n",
       "number_of_reviews                     0.397215           0.546776  \n",
       "number_of_reviews_ltm                 0.690192           0.810396  \n",
       "number_of_reviews_l30d                1.000000           0.729942  \n",
       "reviews_per_month                     0.729942           1.000000  "
      ]
     },
     "execution_count": 44,
     "metadata": {},
     "output_type": "execute_result"
    }
   ],
   "source": [
    "#Show the correlatioins of number_of_reviews, number_of_reviews_ltm, number_of_reviews_l30d, reviews_per_month\n",
    "reviews_amount = review_data[['number_of_reviews', 'number_of_reviews_ltm', 'number_of_reviews_l30d', 'reviews_per_month']]\n",
    "correlation_matrix2 = reviews_amount.corr()\n",
    "correlation_matrix2"
   ]
  },
  {
   "cell_type": "code",
   "execution_count": 45,
   "metadata": {},
   "outputs": [
    {
     "data": {
      "image/png": "[encoded data removed]",
      "text/plain": [
       "<Figure size 800x600 with 2 Axes>"
      ]
     },
     "metadata": {},
     "output_type": "display_data"
    }
   ],
   "source": [
    "#Show a graphical presentation of this correlation matrix\n",
    "plt.figure(figsize=(8, 6))\n",
    "sns.heatmap(correlation_matrix2, annot=True, cmap='coolwarm', fmt='.2f')\n",
    "plt.title('Correlation Matrix of Review Amount Variables')\n",
    "plt.show()"
   ]
  },
  {
   "cell_type": "markdown",
   "metadata": {},
   "source": [
    "We see above the distributions of all review_related data, as we can see review_scores_rating is an average of all the other six review related scores. We choose to keep all six scores, but we decide to delete the review_scores_rating as it correlates too much with the other six review_scores. We believe that the features that relate to the number of reviews will also correlate with each other and therefore we decide to keep only the number_of _reviews and number_of_reviews_l30d"
   ]
  },
  {
   "cell_type": "markdown",
   "metadata": {},
   "source": [
    "We decide to add all the following features:  'number_of_reviews',\n",
    "       'first_review','last_review', 'review_scores_accuracy',\n",
    "       'review_scores_cleanliness', 'review_scores_checkin',\n",
    "       'review_scores_communication', 'review_scores_location',\n",
    "       'review_scores_value', 'number_of_reviews_ltm'.\n",
    "\n",
    "-Because first_review and last_reviews are dates and thus objects we decide to count the difference in days between the last_scraped date and those two columns and add this as a feature to the model. We decide to fill the missing values with the median to remove the effect of outliers."
   ]
  },
  {
   "cell_type": "code",
   "execution_count": 43,
   "metadata": {},
   "outputs": [],
   "source": [
    "#Drop review_scores_rating, 'number_of_reviews_ltm', 'number_of_reviews_l30d'\n",
    "review_data.drop(columns=['review_scores_rating', 'number_of_reviews_ltm', 'reviews_per_month'], inplace=True)\n"
   ]
  },
  {
   "cell_type": "code",
   "execution_count": 44,
   "metadata": {},
   "outputs": [
    {
     "name": "stdout",
     "output_type": "stream",
     "text": [
      "review_scores_accuracy         23\n",
      "review_scores_cleanliness      24\n",
      "review_scores_checkin          32\n",
      "review_scores_communication    21\n",
      "review_scores_location         33\n",
      "review_scores_value            32\n",
      "dtype: int64\n"
     ]
    }
   ],
   "source": [
    "#Show missing values\n",
    "missing_values = review_data.isnull().sum()\n",
    "missing_values = missing_values[missing_values > 0]  # Filter only columns with missing values\n",
    "print(missing_values)"
   ]
  },
  {
   "cell_type": "code",
   "execution_count": 45,
   "metadata": {},
   "outputs": [
    {
     "name": "stdout",
     "output_type": "stream",
     "text": [
      "                   id  number_of_reviews  number_of_reviews_l30d  \\\n",
      "0  888038298563003925                  8                       0   \n",
      "1            50666229                165                       6   \n",
      "2              933523                140                       2   \n",
      "3  656222143862971193                 14                       0   \n",
      "4            20259345                712                       7   \n",
      "\n",
      "   review_scores_accuracy  review_scores_cleanliness  review_scores_checkin  \\\n",
      "0                    5.00                       4.88                   4.75   \n",
      "1                    4.87                       4.85                   4.99   \n",
      "2                    4.84                       4.93                   4.97   \n",
      "3                    4.86                       4.86                   5.00   \n",
      "4                    4.93                       4.84                   4.92   \n",
      "\n",
      "   review_scores_communication  review_scores_location  review_scores_value  \\\n",
      "0                         4.50                    4.88                 4.75   \n",
      "1                         4.98                    4.93                 4.62   \n",
      "2                         4.99                    4.91                 4.74   \n",
      "3                         5.00                    4.93                 4.71   \n",
      "4                         4.93                    4.83                 4.77   \n",
      "\n",
      "   days_between_first_review  days_since_last_review  \n",
      "0                        645                     280  \n",
      "1                       1131                       7  \n",
      "2                       3775                       7  \n",
      "3                        750                      64  \n",
      "4                       2356                      13  \n"
     ]
    },
    {
     "name": "stderr",
     "output_type": "stream",
     "text": [
      "C:\\Users\\PC\\AppData\\Local\\Temp\\ipykernel_16372\\2923999407.py:20: FutureWarning: A value is trying to be set on a copy of a DataFrame or Series through chained assignment using an inplace method.\n",
      "The behavior will change in pandas 3.0. This inplace method will never work because the intermediate object on which we are setting values always behaves as a copy.\n",
      "\n",
      "For example, when doing 'df[col].method(value, inplace=True)', try using 'df.method({col: value}, inplace=True)' or df[col] = df[col].method(value) instead, to perform the operation inplace on the original object.\n",
      "\n",
      "\n",
      "  review_data['review_scores_accuracy'].fillna(review_data['review_scores_accuracy'].median(), inplace=True)\n",
      "C:\\Users\\PC\\AppData\\Local\\Temp\\ipykernel_16372\\2923999407.py:21: FutureWarning: A value is trying to be set on a copy of a DataFrame or Series through chained assignment using an inplace method.\n",
      "The behavior will change in pandas 3.0. This inplace method will never work because the intermediate object on which we are setting values always behaves as a copy.\n",
      "\n",
      "For example, when doing 'df[col].method(value, inplace=True)', try using 'df.method({col: value}, inplace=True)' or df[col] = df[col].method(value) instead, to perform the operation inplace on the original object.\n",
      "\n",
      "\n",
      "  review_data['review_scores_cleanliness'].fillna(review_data['review_scores_cleanliness'].median(), inplace=True)\n",
      "C:\\Users\\PC\\AppData\\Local\\Temp\\ipykernel_16372\\2923999407.py:22: FutureWarning: A value is trying to be set on a copy of a DataFrame or Series through chained assignment using an inplace method.\n",
      "The behavior will change in pandas 3.0. This inplace method will never work because the intermediate object on which we are setting values always behaves as a copy.\n",
      "\n",
      "For example, when doing 'df[col].method(value, inplace=True)', try using 'df.method({col: value}, inplace=True)' or df[col] = df[col].method(value) instead, to perform the operation inplace on the original object.\n",
      "\n",
      "\n",
      "  review_data['review_scores_checkin'].fillna(review_data['review_scores_checkin'].median(), inplace=True)\n",
      "C:\\Users\\PC\\AppData\\Local\\Temp\\ipykernel_16372\\2923999407.py:23: FutureWarning: A value is trying to be set on a copy of a DataFrame or Series through chained assignment using an inplace method.\n",
      "The behavior will change in pandas 3.0. This inplace method will never work because the intermediate object on which we are setting values always behaves as a copy.\n",
      "\n",
      "For example, when doing 'df[col].method(value, inplace=True)', try using 'df.method({col: value}, inplace=True)' or df[col] = df[col].method(value) instead, to perform the operation inplace on the original object.\n",
      "\n",
      "\n",
      "  review_data['review_scores_communication'].fillna(review_data['review_scores_communication'].median(), inplace=True)\n",
      "C:\\Users\\PC\\AppData\\Local\\Temp\\ipykernel_16372\\2923999407.py:24: FutureWarning: A value is trying to be set on a copy of a DataFrame or Series through chained assignment using an inplace method.\n",
      "The behavior will change in pandas 3.0. This inplace method will never work because the intermediate object on which we are setting values always behaves as a copy.\n",
      "\n",
      "For example, when doing 'df[col].method(value, inplace=True)', try using 'df.method({col: value}, inplace=True)' or df[col] = df[col].method(value) instead, to perform the operation inplace on the original object.\n",
      "\n",
      "\n",
      "  review_data['review_scores_location'].fillna(review_data['review_scores_location'].median(), inplace=True)\n",
      "C:\\Users\\PC\\AppData\\Local\\Temp\\ipykernel_16372\\2923999407.py:25: FutureWarning: A value is trying to be set on a copy of a DataFrame or Series through chained assignment using an inplace method.\n",
      "The behavior will change in pandas 3.0. This inplace method will never work because the intermediate object on which we are setting values always behaves as a copy.\n",
      "\n",
      "For example, when doing 'df[col].method(value, inplace=True)', try using 'df.method({col: value}, inplace=True)' or df[col] = df[col].method(value) instead, to perform the operation inplace on the original object.\n",
      "\n",
      "\n",
      "  review_data['review_scores_value'].fillna(review_data['review_scores_value'].median(), inplace=True)\n"
     ]
    }
   ],
   "source": [
    "import pandas as pd\n",
    "\n",
    "# Assuming listings_combined and review_data are already defined\n",
    "review_data = review_data.reset_index(drop=True)\n",
    "\n",
    "# Step 4: Add columns from columns to add to review_data\n",
    "review_data = review_data\n",
    "\n",
    "# Convert date columns to datetime\n",
    "review_data['first_review'] = pd.to_datetime(review_data['first_review'])\n",
    "review_data['last_review'] = pd.to_datetime(review_data['last_review'])\n",
    "review_data['last_scraped'] = pd.to_datetime(review_data['last_scraped'])\n",
    "\n",
    "# Create new columns for the number of days between first and last reviews\n",
    "review_data['days_between_first_review'] = (review_data['last_scraped'] - review_data['first_review']).dt.days\n",
    "review_data['days_since_last_review'] = (review_data['last_scraped'] - review_data['last_review']).dt.days\n",
    "\n",
    "# Step 5: Impute missing values \n",
    "review_data['number_of_reviews']\n",
    "review_data['review_scores_accuracy'].fillna(review_data['review_scores_accuracy'].median(), inplace=True)\n",
    "review_data['review_scores_cleanliness'].fillna(review_data['review_scores_cleanliness'].median(), inplace=True)\n",
    "review_data['review_scores_checkin'].fillna(review_data['review_scores_checkin'].median(), inplace=True)\n",
    "review_data['review_scores_communication'].fillna(review_data['review_scores_communication'].median(), inplace=True)\n",
    "review_data['review_scores_location'].fillna(review_data['review_scores_location'].median(), inplace=True)\n",
    "review_data['review_scores_value'].fillna(review_data['review_scores_value'].median(), inplace=True)\n",
    "review_data['days_between_first_review']\n",
    "review_data['days_since_last_review']\n",
    "\n",
    "# Drop the date columns if no longer needed\n",
    "review_data.drop(columns=['first_review', 'last_review', 'last_scraped'], inplace=True)\n",
    "\n",
    "# Print out the head of review_data to check the results\n",
    "print(review_data.head())\n",
    "\n"
   ]
  },
  {
   "cell_type": "code",
   "execution_count": 46,
   "metadata": {},
   "outputs": [
    {
     "data": {
      "text/plain": [
       "(210937, 11)"
      ]
     },
     "execution_count": 46,
     "metadata": {},
     "output_type": "execute_result"
    }
   ],
   "source": [
    "review_data.shape"
   ]
  },
  {
   "cell_type": "markdown",
   "metadata": {},
   "source": [
    "So the final shape of this review feature set is (210937,11)"
   ]
  },
  {
   "cell_type": "code",
   "execution_count": 47,
   "metadata": {},
   "outputs": [],
   "source": [
    "#save review_data to a csv file\n",
    "review_data.to_csv('listings_features_reviews.csv', index=False)"
   ]
  }
 ],
 "metadata": {
  "kernelspec": {
   "display_name": "Python 3",
   "language": "python",
   "name": "python3"
  },
  "language_info": {
   "codemirror_mode": {
    "name": "ipython",
    "version": 3
   },
   "file_extension": ".py",
   "mimetype": "text/x-python",
   "name": "python",
   "nbconvert_exporter": "python",
   "pygments_lexer": "ipython3",
   "version": "3.13.0"
  }
 },
 "nbformat": 4,
 "nbformat_minor": 2
}
