{
 "cells": [
  {
   "cell_type": "code",
   "execution_count": 2,
   "metadata": {},
   "outputs": [],
   "source": [
    "import pandas as pd\n",
    "import numpy as np"
   ]
  },
  {
   "cell_type": "code",
   "execution_count": 4,
   "metadata": {},
   "outputs": [],
   "source": [
    "\n",
    "label_encoded_features= pd.read_csv('listings_features_label_encoded_outofsample.csv')\n",
    "reviews_features = pd.read_csv('listings_features_reviews_out_of_sample.csv')\n",
    "sentiment_features_textblob= pd.read_csv('average_sentiment_per_listing_textblob_oos.csv')\n",
    "sentiment_features_vader= pd.read_csv('average_sentiment_per_listing_vader_oos.csv')\n",
    "\n"
   ]
  },
  {
   "cell_type": "code",
   "execution_count": 5,
   "metadata": {},
   "outputs": [
    {
     "name": "stdout",
     "output_type": "stream",
     "text": [
      "(18892, 98)\n",
      "(18892, 11)\n",
      "(19764, 6)\n",
      "(19764, 6)\n"
     ]
    }
   ],
   "source": [
    "print(label_encoded_features.shape)\n",
    "print(reviews_features.shape)\n",
    "print(sentiment_features_textblob.shape)\n",
    "print(sentiment_features_vader.shape)"
   ]
  },
  {
   "cell_type": "code",
   "execution_count": 6,
   "metadata": {},
   "outputs": [],
   "source": [
    "sentiment_features_textblob['id']=sentiment_features_textblob['listing_id']\n",
    "sentiment_features_vader['id']=sentiment_features_vader['listing_id']\n",
    "sentiment_features_textblob.drop(columns=['listing_id'], inplace=True)\n",
    "sentiment_features_vader.drop(columns=['listing_id'], inplace=True)"
   ]
  },
  {
   "cell_type": "code",
   "execution_count": 7,
   "metadata": {},
   "outputs": [
    {
     "name": "stdout",
     "output_type": "stream",
     "text": [
      "Reviews sentiment shape: (16450, 16)\n",
      "Reviews sentiment shape: (16450, 16)\n"
     ]
    }
   ],
   "source": [
    "#We will merge the sentiment and reviews to get the review-related features and keep sure this are the same listings as in the non-review related feature sets.\n",
    "reviews_sentiment_textblob_features=pd.merge(sentiment_features_textblob, reviews_features, on='id', how='inner')\n",
    "reviews_sentiment_vader_features=pd.merge(sentiment_features_vader, reviews_features, on='id', how='inner')\n",
    "print('Reviews sentiment shape:', reviews_sentiment_textblob_features.shape)\n",
    "print('Reviews sentiment shape:', reviews_sentiment_vader_features.shape)\n"
   ]
  },
  {
   "cell_type": "code",
   "execution_count": 8,
   "metadata": {},
   "outputs": [],
   "source": [
    "listings=reviews_sentiment_textblob_features['id']\n",
    "label_encoded_features=label_encoded_features[label_encoded_features['id'].isin(listings)]\n",
    "reviews_features=reviews_features[reviews_features['id'].isin(listings)]"
   ]
  },
  {
   "cell_type": "code",
   "execution_count": 9,
   "metadata": {},
   "outputs": [
    {
     "name": "stdout",
     "output_type": "stream",
     "text": [
      "(16450, 98)\n",
      "(16450, 11)\n",
      "(16450, 16)\n",
      "(16450, 16)\n"
     ]
    }
   ],
   "source": [
    "print(label_encoded_features.shape)\n",
    "print(reviews_features.shape)\n",
    "print(reviews_sentiment_textblob_features.shape)\n",
    "print(reviews_sentiment_vader_features.shape)"
   ]
  },
  {
   "cell_type": "code",
   "execution_count": 10,
   "metadata": {},
   "outputs": [
    {
     "name": "stdout",
     "output_type": "stream",
     "text": [
      "Reviews sentiment Textblob including price shape: (16450, 17)\n",
      "Reviews sentiment Vader including price shape: (16450, 17)\n",
      "Reviews including price shape: (16450, 12)\n"
     ]
    }
   ],
   "source": [
    "reviews_sentiment_textblob_including_price=pd.merge(reviews_sentiment_textblob_features, label_encoded_features[['id','price']], on='id', how='inner')\n",
    "reviews_sentiment_vader_including_price=pd.merge(reviews_sentiment_vader_features, label_encoded_features[['id','price']], on='id', how='inner')\n",
    "reviews_features_including_price=pd.merge(reviews_features, label_encoded_features[['id','price']], on='id', how='inner')\n",
    "print('Reviews sentiment Textblob including price shape:', reviews_sentiment_textblob_including_price.shape)\n",
    "print('Reviews sentiment Vader including price shape:', reviews_sentiment_vader_including_price.shape)\n",
    "print('Reviews including price shape:', reviews_features_including_price.shape)"
   ]
  },
  {
   "cell_type": "code",
   "execution_count": 13,
   "metadata": {},
   "outputs": [
    {
     "data": {
      "text/plain": [
       "Index(['topic_0_average_sentiment', 'topic_1_average_sentiment',\n",
       "       'topic_2_average_sentiment', 'topic_3_average_sentiment',\n",
       "       'average_word_count', 'id', 'number_of_reviews',\n",
       "       'number_of_reviews_l30d', 'review_scores_accuracy',\n",
       "       'review_scores_cleanliness', 'review_scores_checkin',\n",
       "       'review_scores_communication', 'review_scores_location',\n",
       "       'review_scores_value', 'days_between_first_review',\n",
       "       'days_since_last_review', 'price'],\n",
       "      dtype='object')"
      ]
     },
     "execution_count": 13,
     "metadata": {},
     "output_type": "execute_result"
    }
   ],
   "source": [
    "reviews_sentiment_vader_including_price.columns[:]"
   ]
  },
  {
   "cell_type": "code",
   "execution_count": 14,
   "metadata": {},
   "outputs": [],
   "source": [
    "reviews_sentiment_textblob_label_encoded= pd.merge(reviews_sentiment_textblob_features, label_encoded_features, on='id', how='inner')\n",
    "reviews_sentiment_vader_label_encoded= pd.merge(reviews_sentiment_vader_features, label_encoded_features, on='id', how='inner')\n",
    "reviews_without_sentiment_listings_label_encoded= pd.merge(reviews_sentiment_textblob_features, label_encoded_features, on='id', how='inner').drop(columns=['topic_0_average_sentiment', 'topic_1_average_sentiment',\n",
    "       'topic_2_average_sentiment', 'topic_3_average_sentiment'])\n"
   ]
  },
  {
   "cell_type": "code",
   "execution_count": 15,
   "metadata": {},
   "outputs": [
    {
     "name": "stdout",
     "output_type": "stream",
     "text": [
      "(16450, 98)\n",
      "(16450, 109)\n",
      "(16450, 113)\n",
      "(16450, 113)\n",
      "(16450, 17)\n",
      "(16450, 17)\n"
     ]
    }
   ],
   "source": [
    "print(label_encoded_features.shape)\n",
    "print(reviews_without_sentiment_listings_label_encoded.shape)\n",
    "print(reviews_sentiment_textblob_label_encoded.shape)\n",
    "print(reviews_sentiment_vader_label_encoded.shape)\n",
    "print(reviews_sentiment_textblob_including_price.shape)\n",
    "print(reviews_sentiment_vader_including_price.shape)\n"
   ]
  },
  {
   "cell_type": "code",
   "execution_count": 16,
   "metadata": {},
   "outputs": [],
   "source": [
    "#We see that the number of columns are the same as the training sets, so we can save these files and use them for the model.\n",
    "label_encoded_features.to_csv('extra_test_set_feature_set1.csv', index=False)\n",
    "reviews_without_sentiment_listings_label_encoded.to_csv('extra_test_set_feature_set2.csv', index=False)\n",
    "reviews_sentiment_textblob_label_encoded.to_csv('extra_test_set_feature_set3_textblob.csv', index=False)\n",
    "reviews_sentiment_vader_label_encoded.to_csv('extra_test_set_feature_set3_vader.csv', index=False)\n",
    "reviews_sentiment_textblob_including_price.to_csv('extra_test_set_feature_set4_textblob.csv', index=False)\n",
    "reviews_sentiment_vader_including_price.to_csv('extra_test_set_feature_set4_vader.csv', index=False)"
   ]
  }
 ],
 "metadata": {
  "kernelspec": {
   "display_name": "Python 3",
   "language": "python",
   "name": "python3"
  },
  "language_info": {
   "codemirror_mode": {
    "name": "ipython",
    "version": 3
   },
   "file_extension": ".py",
   "mimetype": "text/x-python",
   "name": "python",
   "nbconvert_exporter": "python",
   "pygments_lexer": "ipython3",
   "version": "3.13.0"
  }
 },
 "nbformat": 4,
 "nbformat_minor": 2
}
